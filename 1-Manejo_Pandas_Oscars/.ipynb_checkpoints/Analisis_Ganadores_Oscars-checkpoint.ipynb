{
 "cells": [
  {
   "cell_type": "markdown",
   "metadata": {},
   "source": [
    "# Análisis de Datos sobre DS de Ganadores de Oscars.\n",
    "\n",
    "### DS Utilizado: https://www.kaggle.com/fmejia21/demographics-of-academy-awards-oscars-winners"
   ]
  },
  {
   "cell_type": "markdown",
   "metadata": {},
   "source": [
    "## 1- Lectura, estructura de DF y Data Types"
   ]
  },
  {
   "cell_type": "markdown",
   "metadata": {},
   "source": [
    "#### Importamos las librerias"
   ]
  },
  {
   "cell_type": "code",
   "execution_count": 183,
   "metadata": {},
   "outputs": [],
   "source": [
    "import pandas as pd\n",
    "import numpy as np\n",
    "import seaborn as sns\n",
    "import matplotlib.pyplot as plt\n",
    "#Para tener una salida de los comandos de ploteos mostrados (NO ENTENDI, VER):\n",
    "%matplotlib inline "
   ]
  },
  {
   "cell_type": "markdown",
   "metadata": {},
   "source": [
    "#### Lectura del archivo"
   ]
  },
  {
   "cell_type": "code",
   "execution_count": 184,
   "metadata": {},
   "outputs": [
    {
     "data": {
      "text/html": [
       "<div>\n",
       "<style scoped>\n",
       "    .dataframe tbody tr th:only-of-type {\n",
       "        vertical-align: middle;\n",
       "    }\n",
       "\n",
       "    .dataframe tbody tr th {\n",
       "        vertical-align: top;\n",
       "    }\n",
       "\n",
       "    .dataframe thead th {\n",
       "        text-align: right;\n",
       "    }\n",
       "</style>\n",
       "<table border=\"1\" class=\"dataframe\">\n",
       "  <thead>\n",
       "    <tr style=\"text-align: right;\">\n",
       "      <th></th>\n",
       "      <th>_unit_id</th>\n",
       "      <th>_golden</th>\n",
       "      <th>_unit_state</th>\n",
       "      <th>_trusted_judgments</th>\n",
       "      <th>_last_judgment_at</th>\n",
       "      <th>birthplace</th>\n",
       "      <th>birthplace:confidence</th>\n",
       "      <th>date_of_birth</th>\n",
       "      <th>date_of_birth:confidence</th>\n",
       "      <th>race_ethnicity</th>\n",
       "      <th>...</th>\n",
       "      <th>award</th>\n",
       "      <th>biourl</th>\n",
       "      <th>birthplace_gold</th>\n",
       "      <th>date_of_birth_gold</th>\n",
       "      <th>movie</th>\n",
       "      <th>person</th>\n",
       "      <th>race_ethnicity_gold</th>\n",
       "      <th>religion_gold</th>\n",
       "      <th>sexual_orientation_gold</th>\n",
       "      <th>year_of_award_gold</th>\n",
       "    </tr>\n",
       "  </thead>\n",
       "  <tbody>\n",
       "    <tr>\n",
       "      <th>0</th>\n",
       "      <td>670454353</td>\n",
       "      <td>False</td>\n",
       "      <td>finalized</td>\n",
       "      <td>3</td>\n",
       "      <td>2/10/15 3:45</td>\n",
       "      <td>Chisinau, Moldova</td>\n",
       "      <td>1.0</td>\n",
       "      <td>30-Sep-1895</td>\n",
       "      <td>1.0</td>\n",
       "      <td>White</td>\n",
       "      <td>...</td>\n",
       "      <td>Best Director</td>\n",
       "      <td>http://www.nndb.com/people/320/000043191/</td>\n",
       "      <td>NaN</td>\n",
       "      <td>NaN</td>\n",
       "      <td>Two Arabian Knights</td>\n",
       "      <td>Lewis Milestone</td>\n",
       "      <td>NaN</td>\n",
       "      <td>NaN</td>\n",
       "      <td>NaN</td>\n",
       "      <td>NaN</td>\n",
       "    </tr>\n",
       "    <tr>\n",
       "      <th>1</th>\n",
       "      <td>670454354</td>\n",
       "      <td>False</td>\n",
       "      <td>finalized</td>\n",
       "      <td>3</td>\n",
       "      <td>2/10/15 2:03</td>\n",
       "      <td>Glasgow, Scotland</td>\n",
       "      <td>1.0</td>\n",
       "      <td>2-Feb-1886</td>\n",
       "      <td>1.0</td>\n",
       "      <td>White</td>\n",
       "      <td>...</td>\n",
       "      <td>Best Director</td>\n",
       "      <td>http://www.nndb.com/people/626/000042500/</td>\n",
       "      <td>NaN</td>\n",
       "      <td>NaN</td>\n",
       "      <td>The Divine Lady</td>\n",
       "      <td>Frank Lloyd</td>\n",
       "      <td>NaN</td>\n",
       "      <td>NaN</td>\n",
       "      <td>NaN</td>\n",
       "      <td>NaN</td>\n",
       "    </tr>\n",
       "    <tr>\n",
       "      <th>2</th>\n",
       "      <td>670454355</td>\n",
       "      <td>False</td>\n",
       "      <td>finalized</td>\n",
       "      <td>3</td>\n",
       "      <td>2/10/15 2:05</td>\n",
       "      <td>Chisinau, Moldova</td>\n",
       "      <td>1.0</td>\n",
       "      <td>30-Sep-1895</td>\n",
       "      <td>1.0</td>\n",
       "      <td>White</td>\n",
       "      <td>...</td>\n",
       "      <td>Best Director</td>\n",
       "      <td>http://www.nndb.com/people/320/000043191/</td>\n",
       "      <td>NaN</td>\n",
       "      <td>NaN</td>\n",
       "      <td>All Quiet on the Western Front</td>\n",
       "      <td>Lewis Milestone</td>\n",
       "      <td>NaN</td>\n",
       "      <td>NaN</td>\n",
       "      <td>NaN</td>\n",
       "      <td>NaN</td>\n",
       "    </tr>\n",
       "    <tr>\n",
       "      <th>3</th>\n",
       "      <td>670454356</td>\n",
       "      <td>False</td>\n",
       "      <td>finalized</td>\n",
       "      <td>3</td>\n",
       "      <td>2/10/15 2:04</td>\n",
       "      <td>Chicago, Il</td>\n",
       "      <td>1.0</td>\n",
       "      <td>23-Feb-1899</td>\n",
       "      <td>1.0</td>\n",
       "      <td>White</td>\n",
       "      <td>...</td>\n",
       "      <td>Best Director</td>\n",
       "      <td>http://www.nndb.com/people/544/000041421/</td>\n",
       "      <td>NaN</td>\n",
       "      <td>NaN</td>\n",
       "      <td>Skippy</td>\n",
       "      <td>Norman Taurog</td>\n",
       "      <td>NaN</td>\n",
       "      <td>NaN</td>\n",
       "      <td>NaN</td>\n",
       "      <td>NaN</td>\n",
       "    </tr>\n",
       "    <tr>\n",
       "      <th>4</th>\n",
       "      <td>670454357</td>\n",
       "      <td>False</td>\n",
       "      <td>finalized</td>\n",
       "      <td>3</td>\n",
       "      <td>2/10/15 1:48</td>\n",
       "      <td>Salt Lake City, Ut</td>\n",
       "      <td>1.0</td>\n",
       "      <td>23-Apr-1894</td>\n",
       "      <td>1.0</td>\n",
       "      <td>White</td>\n",
       "      <td>...</td>\n",
       "      <td>Best Director</td>\n",
       "      <td>http://www.nndb.com/people/292/000044160/</td>\n",
       "      <td>NaN</td>\n",
       "      <td>NaN</td>\n",
       "      <td>Bad Girl</td>\n",
       "      <td>Frank Borzage</td>\n",
       "      <td>NaN</td>\n",
       "      <td>NaN</td>\n",
       "      <td>NaN</td>\n",
       "      <td>NaN</td>\n",
       "    </tr>\n",
       "  </tbody>\n",
       "</table>\n",
       "<p>5 rows × 27 columns</p>\n",
       "</div>"
      ],
      "text/plain": [
       "    _unit_id  _golden _unit_state  _trusted_judgments _last_judgment_at  \\\n",
       "0  670454353    False   finalized                   3      2/10/15 3:45   \n",
       "1  670454354    False   finalized                   3      2/10/15 2:03   \n",
       "2  670454355    False   finalized                   3      2/10/15 2:05   \n",
       "3  670454356    False   finalized                   3      2/10/15 2:04   \n",
       "4  670454357    False   finalized                   3      2/10/15 1:48   \n",
       "\n",
       "           birthplace  birthplace:confidence date_of_birth  \\\n",
       "0   Chisinau, Moldova                    1.0   30-Sep-1895   \n",
       "1   Glasgow, Scotland                    1.0    2-Feb-1886   \n",
       "2   Chisinau, Moldova                    1.0   30-Sep-1895   \n",
       "3         Chicago, Il                    1.0   23-Feb-1899   \n",
       "4  Salt Lake City, Ut                    1.0   23-Apr-1894   \n",
       "\n",
       "   date_of_birth:confidence race_ethnicity  ...          award  \\\n",
       "0                       1.0          White  ...  Best Director   \n",
       "1                       1.0          White  ...  Best Director   \n",
       "2                       1.0          White  ...  Best Director   \n",
       "3                       1.0          White  ...  Best Director   \n",
       "4                       1.0          White  ...  Best Director   \n",
       "\n",
       "                                      biourl  birthplace_gold  \\\n",
       "0  http://www.nndb.com/people/320/000043191/              NaN   \n",
       "1  http://www.nndb.com/people/626/000042500/              NaN   \n",
       "2  http://www.nndb.com/people/320/000043191/              NaN   \n",
       "3  http://www.nndb.com/people/544/000041421/              NaN   \n",
       "4  http://www.nndb.com/people/292/000044160/              NaN   \n",
       "\n",
       "  date_of_birth_gold                           movie           person  \\\n",
       "0                NaN             Two Arabian Knights  Lewis Milestone   \n",
       "1                NaN                 The Divine Lady      Frank Lloyd   \n",
       "2                NaN  All Quiet on the Western Front  Lewis Milestone   \n",
       "3                NaN                          Skippy    Norman Taurog   \n",
       "4                NaN                        Bad Girl    Frank Borzage   \n",
       "\n",
       "   race_ethnicity_gold religion_gold sexual_orientation_gold  \\\n",
       "0                  NaN           NaN                     NaN   \n",
       "1                  NaN           NaN                     NaN   \n",
       "2                  NaN           NaN                     NaN   \n",
       "3                  NaN           NaN                     NaN   \n",
       "4                  NaN           NaN                     NaN   \n",
       "\n",
       "  year_of_award_gold  \n",
       "0                NaN  \n",
       "1                NaN  \n",
       "2                NaN  \n",
       "3                NaN  \n",
       "4                NaN  \n",
       "\n",
       "[5 rows x 27 columns]"
      ]
     },
     "execution_count": 184,
     "metadata": {},
     "output_type": "execute_result"
    }
   ],
   "source": [
    "#Como la data está en CSV lo leeremos usando la funcion readl_csv() que nos permite\n",
    "#parsear y cargar la data dentro de un DATAFRAME facilmente.\n",
    "#Luego con la función head() vemos lo que leimos. Y le indicamos que queremos ver 5 columnas.\n",
    "oscars_demographics = pd.read_csv('data/Oscars-demographics-DFE.csv', encoding='latin-1')\n",
    "oscars_demographics.head(5)"
   ]
  },
  {
   "cell_type": "code",
   "execution_count": 185,
   "metadata": {},
   "outputs": [
    {
     "data": {
      "text/html": [
       "<div>\n",
       "<style scoped>\n",
       "    .dataframe tbody tr th:only-of-type {\n",
       "        vertical-align: middle;\n",
       "    }\n",
       "\n",
       "    .dataframe tbody tr th {\n",
       "        vertical-align: top;\n",
       "    }\n",
       "\n",
       "    .dataframe thead th {\n",
       "        text-align: right;\n",
       "    }\n",
       "</style>\n",
       "<table border=\"1\" class=\"dataframe\">\n",
       "  <thead>\n",
       "    <tr style=\"text-align: right;\">\n",
       "      <th></th>\n",
       "      <th>birthplace</th>\n",
       "      <th>date_of_birth</th>\n",
       "      <th>race_ethnicity</th>\n",
       "      <th>religion</th>\n",
       "      <th>sexual_orientation</th>\n",
       "      <th>year_of_award</th>\n",
       "      <th>award</th>\n",
       "      <th>movie</th>\n",
       "      <th>person</th>\n",
       "    </tr>\n",
       "  </thead>\n",
       "  <tbody>\n",
       "    <tr>\n",
       "      <th>0</th>\n",
       "      <td>Chisinau, Moldova</td>\n",
       "      <td>30-Sep-1895</td>\n",
       "      <td>White</td>\n",
       "      <td>Na</td>\n",
       "      <td>Straight</td>\n",
       "      <td>1927</td>\n",
       "      <td>Best Director</td>\n",
       "      <td>Two Arabian Knights</td>\n",
       "      <td>Lewis Milestone</td>\n",
       "    </tr>\n",
       "    <tr>\n",
       "      <th>1</th>\n",
       "      <td>Glasgow, Scotland</td>\n",
       "      <td>2-Feb-1886</td>\n",
       "      <td>White</td>\n",
       "      <td>Na</td>\n",
       "      <td>Straight</td>\n",
       "      <td>1930</td>\n",
       "      <td>Best Director</td>\n",
       "      <td>The Divine Lady</td>\n",
       "      <td>Frank Lloyd</td>\n",
       "    </tr>\n",
       "    <tr>\n",
       "      <th>2</th>\n",
       "      <td>Chisinau, Moldova</td>\n",
       "      <td>30-Sep-1895</td>\n",
       "      <td>White</td>\n",
       "      <td>Na</td>\n",
       "      <td>Straight</td>\n",
       "      <td>1931</td>\n",
       "      <td>Best Director</td>\n",
       "      <td>All Quiet on the Western Front</td>\n",
       "      <td>Lewis Milestone</td>\n",
       "    </tr>\n",
       "    <tr>\n",
       "      <th>3</th>\n",
       "      <td>Chicago, Il</td>\n",
       "      <td>23-Feb-1899</td>\n",
       "      <td>White</td>\n",
       "      <td>Na</td>\n",
       "      <td>Straight</td>\n",
       "      <td>1932</td>\n",
       "      <td>Best Director</td>\n",
       "      <td>Skippy</td>\n",
       "      <td>Norman Taurog</td>\n",
       "    </tr>\n",
       "    <tr>\n",
       "      <th>4</th>\n",
       "      <td>Salt Lake City, Ut</td>\n",
       "      <td>23-Apr-1894</td>\n",
       "      <td>White</td>\n",
       "      <td>Roman Catholic</td>\n",
       "      <td>Straight</td>\n",
       "      <td>1933</td>\n",
       "      <td>Best Director</td>\n",
       "      <td>Bad Girl</td>\n",
       "      <td>Frank Borzage</td>\n",
       "    </tr>\n",
       "  </tbody>\n",
       "</table>\n",
       "</div>"
      ],
      "text/plain": [
       "           birthplace date_of_birth race_ethnicity        religion  \\\n",
       "0   Chisinau, Moldova   30-Sep-1895          White              Na   \n",
       "1   Glasgow, Scotland    2-Feb-1886          White              Na   \n",
       "2   Chisinau, Moldova   30-Sep-1895          White              Na   \n",
       "3         Chicago, Il   23-Feb-1899          White              Na   \n",
       "4  Salt Lake City, Ut   23-Apr-1894          White  Roman Catholic   \n",
       "\n",
       "  sexual_orientation  year_of_award          award  \\\n",
       "0           Straight           1927  Best Director   \n",
       "1           Straight           1930  Best Director   \n",
       "2           Straight           1931  Best Director   \n",
       "3           Straight           1932  Best Director   \n",
       "4           Straight           1933  Best Director   \n",
       "\n",
       "                            movie           person  \n",
       "0             Two Arabian Knights  Lewis Milestone  \n",
       "1                 The Divine Lady      Frank Lloyd  \n",
       "2  All Quiet on the Western Front  Lewis Milestone  \n",
       "3                          Skippy    Norman Taurog  \n",
       "4                        Bad Girl    Frank Borzage  "
      ]
     },
     "execution_count": 185,
     "metadata": {},
     "output_type": "execute_result"
    }
   ],
   "source": [
    "#Analizamos el DS y vemos que es un DS de personas que ganaron el oscar en alguna oportunidad: hay actores y actrices y tambien directores.\n",
    "#AHora sacamos los datos relevantes... solo las columnas que nos interesan:\n",
    "oscars_short = pd.read_csv('data/Oscars-demographics-DFE.csv',\n",
    "                        encoding='latin-1',\n",
    "                        usecols = ['birthplace', 'date_of_birth','race_ethnicity','religion','sexual_orientation','year_of_award','award','movie','person'])\n",
    "oscars_short.head(5)"
   ]
  },
  {
   "cell_type": "code",
   "execution_count": 186,
   "metadata": {},
   "outputs": [
    {
     "name": "stdout",
     "output_type": "stream",
     "text": [
      "<class 'pandas.core.frame.DataFrame'>\n",
      "RangeIndex: 441 entries, 0 to 440\n",
      "Data columns (total 27 columns):\n",
      " #   Column                         Non-Null Count  Dtype  \n",
      "---  ------                         --------------  -----  \n",
      " 0   _unit_id                       441 non-null    int64  \n",
      " 1   _golden                        441 non-null    bool   \n",
      " 2   _unit_state                    441 non-null    object \n",
      " 3   _trusted_judgments             441 non-null    int64  \n",
      " 4   _last_judgment_at              416 non-null    object \n",
      " 5   birthplace                     441 non-null    object \n",
      " 6   birthplace:confidence          441 non-null    float64\n",
      " 7   date_of_birth                  441 non-null    object \n",
      " 8   date_of_birth:confidence       441 non-null    float64\n",
      " 9   race_ethnicity                 441 non-null    object \n",
      " 10  race_ethnicity:confidence      441 non-null    float64\n",
      " 11  religion                       441 non-null    object \n",
      " 12  religion:confidence            441 non-null    float64\n",
      " 13  sexual_orientation             441 non-null    object \n",
      " 14  sexual_orientation:confidence  441 non-null    float64\n",
      " 15  year_of_award                  441 non-null    int64  \n",
      " 16  year_of_award:confidence       441 non-null    float64\n",
      " 17  award                          441 non-null    object \n",
      " 18  biourl                         441 non-null    object \n",
      " 19  birthplace_gold                9 non-null      object \n",
      " 20  date_of_birth_gold             8 non-null      object \n",
      " 21  movie                          441 non-null    object \n",
      " 22  person                         441 non-null    object \n",
      " 23  race_ethnicity_gold            2 non-null      object \n",
      " 24  religion_gold                  10 non-null     object \n",
      " 25  sexual_orientation_gold        3 non-null      object \n",
      " 26  year_of_award_gold             11 non-null     float64\n",
      "dtypes: bool(1), float64(7), int64(3), object(16)\n",
      "memory usage: 90.1+ KB\n"
     ]
    }
   ],
   "source": [
    "#AHora vamos a querer ver info especifica del DF:\n",
    "oscars_demographics.info()  #Utilizamos el 1er DF, el que tenia todas las columnas.\n",
    "#Nos da el detalle de la estructura del DF:\n",
    "    #En non-null vemos que la mayoria tiene 441 valores NO nulos... pero por ej. birthplace_gold tiene solo 9, el resto son NaN.  \n",
    "    #Dtype: es el tipo de dato que asoció automáticamente Pandas al hacer read_csv(). Si tan solo 1 valor no machea para ese tipo de dato va a elegir otro el tipo: 'Object' (tipo de dato que elige si NO machea con ningñun otro más)\n",
    "            #Object son strings, la mayoría machean con ese tipo de dato."
   ]
  },
  {
   "cell_type": "code",
   "execution_count": 187,
   "metadata": {},
   "outputs": [
    {
     "data": {
      "text/html": [
       "<div>\n",
       "<style scoped>\n",
       "    .dataframe tbody tr th:only-of-type {\n",
       "        vertical-align: middle;\n",
       "    }\n",
       "\n",
       "    .dataframe tbody tr th {\n",
       "        vertical-align: top;\n",
       "    }\n",
       "\n",
       "    .dataframe thead th {\n",
       "        text-align: right;\n",
       "    }\n",
       "</style>\n",
       "<table border=\"1\" class=\"dataframe\">\n",
       "  <thead>\n",
       "    <tr style=\"text-align: right;\">\n",
       "      <th></th>\n",
       "      <th>_unit_id</th>\n",
       "      <th>_trusted_judgments</th>\n",
       "      <th>birthplace:confidence</th>\n",
       "      <th>date_of_birth:confidence</th>\n",
       "      <th>race_ethnicity:confidence</th>\n",
       "      <th>religion:confidence</th>\n",
       "      <th>sexual_orientation:confidence</th>\n",
       "      <th>year_of_award</th>\n",
       "      <th>year_of_award:confidence</th>\n",
       "      <th>year_of_award_gold</th>\n",
       "    </tr>\n",
       "  </thead>\n",
       "  <tbody>\n",
       "    <tr>\n",
       "      <th>count</th>\n",
       "      <td>4.410000e+02</td>\n",
       "      <td>441.000000</td>\n",
       "      <td>441.000000</td>\n",
       "      <td>441.000000</td>\n",
       "      <td>441.000000</td>\n",
       "      <td>441.000000</td>\n",
       "      <td>441.000000</td>\n",
       "      <td>441.000000</td>\n",
       "      <td>441.000000</td>\n",
       "      <td>11.000000</td>\n",
       "    </tr>\n",
       "    <tr>\n",
       "      <th>mean</th>\n",
       "      <td>6.704825e+08</td>\n",
       "      <td>7.637188</td>\n",
       "      <td>0.995259</td>\n",
       "      <td>0.996607</td>\n",
       "      <td>0.999130</td>\n",
       "      <td>0.989373</td>\n",
       "      <td>0.992390</td>\n",
       "      <td>1973.165533</td>\n",
       "      <td>0.990082</td>\n",
       "      <td>1977.363636</td>\n",
       "    </tr>\n",
       "    <tr>\n",
       "      <th>std</th>\n",
       "      <td>1.139974e+05</td>\n",
       "      <td>19.015541</td>\n",
       "      <td>0.038917</td>\n",
       "      <td>0.032060</td>\n",
       "      <td>0.016438</td>\n",
       "      <td>0.065610</td>\n",
       "      <td>0.049458</td>\n",
       "      <td>24.030895</td>\n",
       "      <td>0.059177</td>\n",
       "      <td>21.592928</td>\n",
       "    </tr>\n",
       "    <tr>\n",
       "      <th>min</th>\n",
       "      <td>6.704544e+08</td>\n",
       "      <td>3.000000</td>\n",
       "      <td>0.657100</td>\n",
       "      <td>0.656200</td>\n",
       "      <td>0.657100</td>\n",
       "      <td>0.333300</td>\n",
       "      <td>0.657100</td>\n",
       "      <td>1927.000000</td>\n",
       "      <td>0.333300</td>\n",
       "      <td>1942.000000</td>\n",
       "    </tr>\n",
       "    <tr>\n",
       "      <th>25%</th>\n",
       "      <td>6.704545e+08</td>\n",
       "      <td>3.000000</td>\n",
       "      <td>1.000000</td>\n",
       "      <td>1.000000</td>\n",
       "      <td>1.000000</td>\n",
       "      <td>1.000000</td>\n",
       "      <td>1.000000</td>\n",
       "      <td>1953.000000</td>\n",
       "      <td>1.000000</td>\n",
       "      <td>1964.000000</td>\n",
       "    </tr>\n",
       "    <tr>\n",
       "      <th>50%</th>\n",
       "      <td>6.704546e+08</td>\n",
       "      <td>3.000000</td>\n",
       "      <td>1.000000</td>\n",
       "      <td>1.000000</td>\n",
       "      <td>1.000000</td>\n",
       "      <td>1.000000</td>\n",
       "      <td>1.000000</td>\n",
       "      <td>1973.000000</td>\n",
       "      <td>1.000000</td>\n",
       "      <td>1977.000000</td>\n",
       "    </tr>\n",
       "    <tr>\n",
       "      <th>75%</th>\n",
       "      <td>6.704547e+08</td>\n",
       "      <td>3.000000</td>\n",
       "      <td>1.000000</td>\n",
       "      <td>1.000000</td>\n",
       "      <td>1.000000</td>\n",
       "      <td>1.000000</td>\n",
       "      <td>1.000000</td>\n",
       "      <td>1994.000000</td>\n",
       "      <td>1.000000</td>\n",
       "      <td>1997.000000</td>\n",
       "    </tr>\n",
       "    <tr>\n",
       "      <th>max</th>\n",
       "      <td>6.709729e+08</td>\n",
       "      <td>95.000000</td>\n",
       "      <td>1.000000</td>\n",
       "      <td>1.000000</td>\n",
       "      <td>1.000000</td>\n",
       "      <td>1.000000</td>\n",
       "      <td>1.000000</td>\n",
       "      <td>2014.000000</td>\n",
       "      <td>1.000000</td>\n",
       "      <td>2006.000000</td>\n",
       "    </tr>\n",
       "  </tbody>\n",
       "</table>\n",
       "</div>"
      ],
      "text/plain": [
       "           _unit_id  _trusted_judgments  birthplace:confidence  \\\n",
       "count  4.410000e+02          441.000000             441.000000   \n",
       "mean   6.704825e+08            7.637188               0.995259   \n",
       "std    1.139974e+05           19.015541               0.038917   \n",
       "min    6.704544e+08            3.000000               0.657100   \n",
       "25%    6.704545e+08            3.000000               1.000000   \n",
       "50%    6.704546e+08            3.000000               1.000000   \n",
       "75%    6.704547e+08            3.000000               1.000000   \n",
       "max    6.709729e+08           95.000000               1.000000   \n",
       "\n",
       "       date_of_birth:confidence  race_ethnicity:confidence  \\\n",
       "count                441.000000                 441.000000   \n",
       "mean                   0.996607                   0.999130   \n",
       "std                    0.032060                   0.016438   \n",
       "min                    0.656200                   0.657100   \n",
       "25%                    1.000000                   1.000000   \n",
       "50%                    1.000000                   1.000000   \n",
       "75%                    1.000000                   1.000000   \n",
       "max                    1.000000                   1.000000   \n",
       "\n",
       "       religion:confidence  sexual_orientation:confidence  year_of_award  \\\n",
       "count           441.000000                     441.000000     441.000000   \n",
       "mean              0.989373                       0.992390    1973.165533   \n",
       "std               0.065610                       0.049458      24.030895   \n",
       "min               0.333300                       0.657100    1927.000000   \n",
       "25%               1.000000                       1.000000    1953.000000   \n",
       "50%               1.000000                       1.000000    1973.000000   \n",
       "75%               1.000000                       1.000000    1994.000000   \n",
       "max               1.000000                       1.000000    2014.000000   \n",
       "\n",
       "       year_of_award:confidence  year_of_award_gold  \n",
       "count                441.000000           11.000000  \n",
       "mean                   0.990082         1977.363636  \n",
       "std                    0.059177           21.592928  \n",
       "min                    0.333300         1942.000000  \n",
       "25%                    1.000000         1964.000000  \n",
       "50%                    1.000000         1977.000000  \n",
       "75%                    1.000000         1997.000000  \n",
       "max                    1.000000         2006.000000  "
      ]
     },
     "execution_count": 187,
     "metadata": {},
     "output_type": "execute_result"
    }
   ],
   "source": [
    "#Para saber datos estadisticos del dataset hacemos esto:\n",
    "oscars_demographics.describe() \n",
    "#De esta manera tenemos estadisticas sobre cada una de las columnas NUMERICAS (las otras columnas NO)\n",
    "#El '25%'' es en qué valor se CENTRA el 25%. "
   ]
  },
  {
   "cell_type": "code",
   "execution_count": 188,
   "metadata": {},
   "outputs": [],
   "source": [
    "#Ahora vamos a ver la ESTRUCTURA del DF que explicamos en el apunte... (indice de datos, indice de columnas y la data) para poder analizarlas por separado.\n",
    "oscars_index=oscars_demographics.index #asi obtenemos el ùndice (en este caso es un RangeIndex ya que no tenemos seteado ninguna columna como ìndice. Rageindex son valores consecutivos numericos desde 0)\n",
    "oscars_columns=oscars_demographics.columns  #para obtener las columnas. Es una SERIE con los nombres de todas las columnas.\n",
    "oscars_data=oscars_demographics.values #para obtener la data. La operacion que nos devuelve obtiene tooodos los datos y los pone en un array. \n",
    "\n",
    "#Abajo mostramos estos 3:"
   ]
  },
  {
   "cell_type": "code",
   "execution_count": 189,
   "metadata": {},
   "outputs": [
    {
     "data": {
      "text/plain": [
       "RangeIndex(start=0, stop=441, step=1)"
      ]
     },
     "execution_count": 189,
     "metadata": {},
     "output_type": "execute_result"
    }
   ],
   "source": [
    "oscars_index"
   ]
  },
  {
   "cell_type": "code",
   "execution_count": 190,
   "metadata": {},
   "outputs": [
    {
     "data": {
      "text/plain": [
       "Index(['_unit_id', '_golden', '_unit_state', '_trusted_judgments',\n",
       "       '_last_judgment_at', 'birthplace', 'birthplace:confidence',\n",
       "       'date_of_birth', 'date_of_birth:confidence', 'race_ethnicity',\n",
       "       'race_ethnicity:confidence', 'religion', 'religion:confidence',\n",
       "       'sexual_orientation', 'sexual_orientation:confidence', 'year_of_award',\n",
       "       'year_of_award:confidence', 'award', 'biourl', 'birthplace_gold',\n",
       "       'date_of_birth_gold', 'movie', 'person', 'race_ethnicity_gold',\n",
       "       'religion_gold', 'sexual_orientation_gold', 'year_of_award_gold'],\n",
       "      dtype='object')"
      ]
     },
     "execution_count": 190,
     "metadata": {},
     "output_type": "execute_result"
    }
   ],
   "source": [
    "oscars_columns"
   ]
  },
  {
   "cell_type": "code",
   "execution_count": 191,
   "metadata": {},
   "outputs": [
    {
     "data": {
      "text/plain": [
       "array([[670454353, False, 'finalized', ..., nan, nan, nan],\n",
       "       [670454354, False, 'finalized', ..., nan, nan, nan],\n",
       "       [670454355, False, 'finalized', ..., nan, nan, nan],\n",
       "       ...,\n",
       "       [670964912, False, 'finalized', ..., nan, nan, nan],\n",
       "       [670964956, False, 'finalized', ..., nan, nan, nan],\n",
       "       [670972898, False, 'finalized', ..., nan, nan, nan]], dtype=object)"
      ]
     },
     "execution_count": 191,
     "metadata": {},
     "output_type": "execute_result"
    }
   ],
   "source": [
    "oscars_data"
   ]
  },
  {
   "cell_type": "code",
   "execution_count": 192,
   "metadata": {},
   "outputs": [
    {
     "data": {
      "text/plain": [
       "pandas.core.indexes.range.RangeIndex"
      ]
     },
     "execution_count": 192,
     "metadata": {},
     "output_type": "execute_result"
    }
   ],
   "source": [
    "#AHora vamos a ver el tipo de datos de cada estructura:\n",
    "\n",
    "type(oscars_index) #Vemos que tiene un tipo de dato RangeIndex. "
   ]
  },
  {
   "cell_type": "code",
   "execution_count": 193,
   "metadata": {},
   "outputs": [
    {
     "data": {
      "text/plain": [
       "pandas.core.indexes.base.Index"
      ]
     },
     "execution_count": 193,
     "metadata": {},
     "output_type": "execute_result"
    }
   ],
   "source": [
    "type(oscars_columns) #Tipo de dato Index."
   ]
  },
  {
   "cell_type": "code",
   "execution_count": 194,
   "metadata": {},
   "outputs": [
    {
     "data": {
      "text/plain": [
       "numpy.ndarray"
      ]
     },
     "execution_count": 194,
     "metadata": {},
     "output_type": "execute_result"
    }
   ],
   "source": [
    "type(oscars_data) #Tipo de dato Array."
   ]
  },
  {
   "cell_type": "code",
   "execution_count": 195,
   "metadata": {},
   "outputs": [
    {
     "data": {
      "text/plain": [
       "_unit_id                           int64\n",
       "_golden                             bool\n",
       "_unit_state                       object\n",
       "_trusted_judgments                 int64\n",
       "_last_judgment_at                 object\n",
       "birthplace                        object\n",
       "birthplace:confidence            float64\n",
       "date_of_birth                     object\n",
       "date_of_birth:confidence         float64\n",
       "race_ethnicity                    object\n",
       "race_ethnicity:confidence        float64\n",
       "religion                          object\n",
       "religion:confidence              float64\n",
       "sexual_orientation                object\n",
       "sexual_orientation:confidence    float64\n",
       "year_of_award                      int64\n",
       "year_of_award:confidence         float64\n",
       "award                             object\n",
       "biourl                            object\n",
       "birthplace_gold                   object\n",
       "date_of_birth_gold                object\n",
       "movie                             object\n",
       "person                            object\n",
       "race_ethnicity_gold               object\n",
       "religion_gold                     object\n",
       "sexual_orientation_gold           object\n",
       "year_of_award_gold               float64\n",
       "dtype: object"
      ]
     },
     "execution_count": 195,
     "metadata": {},
     "output_type": "execute_result"
    }
   ],
   "source": [
    "#AHora vemos los tipos de dato de cada columna de oscars_demographics(Que anteriormente vimos igualmente con oscars_demographics.info() )\n",
    "oscars_demographics.dtypes"
   ]
  },
  {
   "cell_type": "code",
   "execution_count": 196,
   "metadata": {},
   "outputs": [
    {
     "data": {
      "text/plain": [
       "object     16\n",
       "float64     7\n",
       "int64       3\n",
       "bool        1\n",
       "dtype: int64"
      ]
     },
     "execution_count": 196,
     "metadata": {},
     "output_type": "execute_result"
    }
   ],
   "source": [
    "#Con value_counts vamos a contar todas las ocurrencias de los distintos valores que aparecen en una serie:\n",
    "oscars_demographics.dtypes.value_counts()\n",
    "#De esta manera vemos la cantidad de tipos de datos que tenemos (tenemos 16 objects, 7 floats, 3 inst y 1 bool)"
   ]
  },
  {
   "cell_type": "markdown",
   "metadata": {},
   "source": [
    "## 2- Manejo de Series y estadìsticas sobre los datos."
   ]
  },
  {
   "cell_type": "code",
   "execution_count": 197,
   "metadata": {},
   "outputs": [
    {
     "data": {
      "text/plain": [
       "0      Lewis Milestone\n",
       "1          Frank Lloyd\n",
       "2      Lewis Milestone\n",
       "3        Norman Taurog\n",
       "4        Frank Borzage\n",
       "            ...       \n",
       "436       Rachel Weisz\n",
       "437        Danny Boyle\n",
       "438      Jason Robards\n",
       "439       James Coburn\n",
       "440        John Huston\n",
       "Name: person, Length: 441, dtype: object"
      ]
     },
     "execution_count": 197,
     "metadata": {},
     "output_type": "execute_result"
    }
   ],
   "source": [
    "#Anteriormente mencionamos ya que cada columna es una SERIE.\n",
    "#Una SERIE es un dato de una sola dimensión compuesto de solo un indice y su data. \n",
    "#Podemos seleccionar una columna utilizando el index operator  o utilizando la notación \"dot\"\n",
    "\n",
    "#Ahora vamos a utilizar el index operator para tomar todos los nombres de las personas (columna 'person'):\n",
    "oscars_demographics['person'] #esto es una SERIE"
   ]
  },
  {
   "cell_type": "code",
   "execution_count": 198,
   "metadata": {},
   "outputs": [
    {
     "data": {
      "text/plain": [
       "0      Lewis Milestone\n",
       "1          Frank Lloyd\n",
       "2      Lewis Milestone\n",
       "3        Norman Taurog\n",
       "4        Frank Borzage\n",
       "            ...       \n",
       "436       Rachel Weisz\n",
       "437        Danny Boyle\n",
       "438      Jason Robards\n",
       "439       James Coburn\n",
       "440        John Huston\n",
       "Name: person, Length: 441, dtype: object"
      ]
     },
     "execution_count": 198,
     "metadata": {},
     "output_type": "execute_result"
    }
   ],
   "source": [
    "#Hacemos lo mismo que arriba pero utilizando la notación \"dot\":\n",
    "oscars_demographics.person"
   ]
  },
  {
   "cell_type": "code",
   "execution_count": 199,
   "metadata": {},
   "outputs": [
    {
     "data": {
      "text/plain": [
       "pandas.core.series.Series"
      ]
     },
     "execution_count": 199,
     "metadata": {},
     "output_type": "execute_result"
    }
   ],
   "source": [
    "#Le hacemos un type a la columna person para ver que es del tipo serie:\n",
    "columnaPerson = oscars_demographics['person']\n",
    "type(columnaPerson)"
   ]
  },
  {
   "cell_type": "code",
   "execution_count": 200,
   "metadata": {},
   "outputs": [
    {
     "data": {
      "text/plain": [
       "pandas.core.frame.DataFrame"
      ]
     },
     "execution_count": 200,
     "metadata": {},
     "output_type": "execute_result"
    }
   ],
   "source": [
    "#AHora queremos transformar esto en un DATAFRAME:\n",
    "columnaPersonADF = oscars_demographics['person'].to_frame()\n",
    "type(columnaPersonADF)\n",
    "\n",
    "#Esto lo hacemos ya que hay ciertas operaciones que se pueden realizar en series\n",
    "#y ciertas operaciones que se pueden realizar sobre DF's."
   ]
  },
  {
   "cell_type": "code",
   "execution_count": 201,
   "metadata": {},
   "outputs": [
    {
     "name": "stdout",
     "output_type": "stream",
     "text": [
      "<class 'pandas.core.frame.DataFrame'>\n",
      "RangeIndex: 441 entries, 0 to 440\n",
      "Data columns (total 1 columns):\n",
      " #   Column  Non-Null Count  Dtype \n",
      "---  ------  --------------  ----- \n",
      " 0   person  441 non-null    object\n",
      "dtypes: object(1)\n",
      "memory usage: 3.6+ KB\n"
     ]
    }
   ],
   "source": [
    "#AHora le hacemos un info al DF para verlo como una estructura con una ùnica columna:\n",
    "columnaPersonADF.info()\n",
    "#columnaPerson.info()  #a una serie NO podemos aplicarle esto por ej."
   ]
  },
  {
   "cell_type": "code",
   "execution_count": 202,
   "metadata": {},
   "outputs": [
    {
     "data": {
      "text/plain": [
       "434"
      ]
     },
     "execution_count": 202,
     "metadata": {},
     "output_type": "execute_result"
    }
   ],
   "source": [
    "#Para listar los métodos que aplican sobre series:\n",
    "Series_Methods = set(dir(pd.Series))\n",
    "len(Series_Methods)"
   ]
  },
  {
   "cell_type": "code",
   "execution_count": 203,
   "metadata": {},
   "outputs": [
    {
     "data": {
      "text/plain": [
       "{'T',\n",
       " '_AXIS_ALIASES',\n",
       " '_AXIS_IALIASES',\n",
       " '_AXIS_LEN',\n",
       " '_AXIS_NAMES',\n",
       " '_AXIS_NUMBERS',\n",
       " '_AXIS_ORDERS',\n",
       " '_AXIS_REVERSED',\n",
       " '_HANDLED_TYPES',\n",
       " '__abs__',\n",
       " '__add__',\n",
       " '__and__',\n",
       " '__annotations__',\n",
       " '__array__',\n",
       " '__array_priority__',\n",
       " '__array_ufunc__',\n",
       " '__array_wrap__',\n",
       " '__bool__',\n",
       " '__class__',\n",
       " '__contains__',\n",
       " '__copy__',\n",
       " '__deepcopy__',\n",
       " '__delattr__',\n",
       " '__delitem__',\n",
       " '__dict__',\n",
       " '__dir__',\n",
       " '__div__',\n",
       " '__divmod__',\n",
       " '__doc__',\n",
       " '__eq__',\n",
       " '__finalize__',\n",
       " '__float__',\n",
       " '__floordiv__',\n",
       " '__format__',\n",
       " '__ge__',\n",
       " '__getattr__',\n",
       " '__getattribute__',\n",
       " '__getitem__',\n",
       " '__getstate__',\n",
       " '__gt__',\n",
       " '__hash__',\n",
       " '__iadd__',\n",
       " '__iand__',\n",
       " '__ifloordiv__',\n",
       " '__imod__',\n",
       " '__imul__',\n",
       " '__init__',\n",
       " '__init_subclass__',\n",
       " '__int__',\n",
       " '__invert__',\n",
       " '__ior__',\n",
       " '__ipow__',\n",
       " '__isub__',\n",
       " '__iter__',\n",
       " '__itruediv__',\n",
       " '__ixor__',\n",
       " '__le__',\n",
       " '__len__',\n",
       " '__long__',\n",
       " '__lt__',\n",
       " '__matmul__',\n",
       " '__mod__',\n",
       " '__module__',\n",
       " '__mul__',\n",
       " '__ne__',\n",
       " '__neg__',\n",
       " '__new__',\n",
       " '__nonzero__',\n",
       " '__or__',\n",
       " '__pos__',\n",
       " '__pow__',\n",
       " '__radd__',\n",
       " '__rand__',\n",
       " '__rdiv__',\n",
       " '__rdivmod__',\n",
       " '__reduce__',\n",
       " '__reduce_ex__',\n",
       " '__repr__',\n",
       " '__rfloordiv__',\n",
       " '__rmatmul__',\n",
       " '__rmod__',\n",
       " '__rmul__',\n",
       " '__ror__',\n",
       " '__round__',\n",
       " '__rpow__',\n",
       " '__rsub__',\n",
       " '__rtruediv__',\n",
       " '__rxor__',\n",
       " '__setattr__',\n",
       " '__setitem__',\n",
       " '__setstate__',\n",
       " '__sizeof__',\n",
       " '__str__',\n",
       " '__sub__',\n",
       " '__subclasshook__',\n",
       " '__truediv__',\n",
       " '__weakref__',\n",
       " '__xor__',\n",
       " '_accessors',\n",
       " '_add_numeric_operations',\n",
       " '_add_series_or_dataframe_operations',\n",
       " '_agg_by_level',\n",
       " '_agg_examples_doc',\n",
       " '_agg_see_also_doc',\n",
       " '_aggregate',\n",
       " '_aggregate_multiple_funcs',\n",
       " '_align_frame',\n",
       " '_align_series',\n",
       " '_binop',\n",
       " '_box_item_values',\n",
       " '_builtin_table',\n",
       " '_can_hold_na',\n",
       " '_check_inplace_setting',\n",
       " '_check_is_chained_assignment_possible',\n",
       " '_check_label_or_level_ambiguity',\n",
       " '_check_setitem_copy',\n",
       " '_clear_item_cache',\n",
       " '_clip_with_one_bound',\n",
       " '_clip_with_scalar',\n",
       " '_consolidate',\n",
       " '_consolidate_inplace',\n",
       " '_construct_axes_dict',\n",
       " '_construct_axes_dict_from',\n",
       " '_construct_axes_from_arguments',\n",
       " '_constructor',\n",
       " '_constructor_expanddim',\n",
       " '_constructor_sliced',\n",
       " '_convert',\n",
       " '_convert_dtypes',\n",
       " '_create_indexer',\n",
       " '_cython_table',\n",
       " '_deprecations',\n",
       " '_dir_additions',\n",
       " '_dir_deletions',\n",
       " '_drop_axis',\n",
       " '_drop_labels_or_levels',\n",
       " '_ensure_type',\n",
       " '_find_valid_index',\n",
       " '_from_axes',\n",
       " '_get_axis',\n",
       " '_get_axis_name',\n",
       " '_get_axis_number',\n",
       " '_get_axis_resolvers',\n",
       " '_get_block_manager_axis',\n",
       " '_get_bool_data',\n",
       " '_get_cacher',\n",
       " '_get_cleaned_column_resolvers',\n",
       " '_get_cython_func',\n",
       " '_get_index_resolvers',\n",
       " '_get_item_cache',\n",
       " '_get_label_or_level_values',\n",
       " '_get_numeric_data',\n",
       " '_get_value',\n",
       " '_get_values',\n",
       " '_get_values_tuple',\n",
       " '_get_with',\n",
       " '_gotitem',\n",
       " '_iget_item_cache',\n",
       " '_index',\n",
       " '_indexed_same',\n",
       " '_info_axis',\n",
       " '_info_axis_name',\n",
       " '_info_axis_number',\n",
       " '_init_dict',\n",
       " '_init_mgr',\n",
       " '_internal_get_values',\n",
       " '_internal_names',\n",
       " '_internal_names_set',\n",
       " '_is_builtin_func',\n",
       " '_is_cached',\n",
       " '_is_copy',\n",
       " '_is_datelike_mixed_type',\n",
       " '_is_label_or_level_reference',\n",
       " '_is_label_reference',\n",
       " '_is_level_reference',\n",
       " '_is_mixed_type',\n",
       " '_is_numeric_mixed_type',\n",
       " '_is_view',\n",
       " '_ix',\n",
       " '_ixs',\n",
       " '_map_values',\n",
       " '_maybe_cache_changed',\n",
       " '_maybe_update_cacher',\n",
       " '_metadata',\n",
       " '_ndarray_values',\n",
       " '_needs_reindex_multi',\n",
       " '_obj_with_exclusions',\n",
       " '_protect_consolidate',\n",
       " '_reduce',\n",
       " '_reindex_axes',\n",
       " '_reindex_indexer',\n",
       " '_reindex_multi',\n",
       " '_reindex_with_indexers',\n",
       " '_repr_data_resource_',\n",
       " '_repr_latex_',\n",
       " '_reset_cache',\n",
       " '_reset_cacher',\n",
       " '_selected_obj',\n",
       " '_selection',\n",
       " '_selection_list',\n",
       " '_selection_name',\n",
       " '_set_as_cached',\n",
       " '_set_axis',\n",
       " '_set_axis_name',\n",
       " '_set_is_copy',\n",
       " '_set_item',\n",
       " '_set_labels',\n",
       " '_set_name',\n",
       " '_set_subtyp',\n",
       " '_set_value',\n",
       " '_set_values',\n",
       " '_set_with',\n",
       " '_set_with_engine',\n",
       " '_setup_axes',\n",
       " '_slice',\n",
       " '_stat_axis',\n",
       " '_stat_axis_name',\n",
       " '_stat_axis_number',\n",
       " '_take_with_is_copy',\n",
       " '_to_dict_of_blocks',\n",
       " '_try_aggregate_string_function',\n",
       " '_typ',\n",
       " '_unpickle_series_compat',\n",
       " '_update_inplace',\n",
       " '_validate_dtype',\n",
       " '_values',\n",
       " '_where',\n",
       " '_xs',\n",
       " 'abs',\n",
       " 'add',\n",
       " 'add_prefix',\n",
       " 'add_suffix',\n",
       " 'agg',\n",
       " 'aggregate',\n",
       " 'align',\n",
       " 'all',\n",
       " 'any',\n",
       " 'append',\n",
       " 'apply',\n",
       " 'argmax',\n",
       " 'argmin',\n",
       " 'argsort',\n",
       " 'array',\n",
       " 'asfreq',\n",
       " 'asof',\n",
       " 'astype',\n",
       " 'at',\n",
       " 'at_time',\n",
       " 'attrs',\n",
       " 'autocorr',\n",
       " 'axes',\n",
       " 'between',\n",
       " 'between_time',\n",
       " 'bfill',\n",
       " 'bool',\n",
       " 'cat',\n",
       " 'clip',\n",
       " 'combine',\n",
       " 'combine_first',\n",
       " 'convert_dtypes',\n",
       " 'copy',\n",
       " 'corr',\n",
       " 'count',\n",
       " 'cov',\n",
       " 'cummax',\n",
       " 'cummin',\n",
       " 'cumprod',\n",
       " 'cumsum',\n",
       " 'describe',\n",
       " 'diff',\n",
       " 'div',\n",
       " 'divide',\n",
       " 'divmod',\n",
       " 'dot',\n",
       " 'drop',\n",
       " 'drop_duplicates',\n",
       " 'droplevel',\n",
       " 'dropna',\n",
       " 'dt',\n",
       " 'dtype',\n",
       " 'dtypes',\n",
       " 'duplicated',\n",
       " 'empty',\n",
       " 'eq',\n",
       " 'equals',\n",
       " 'ewm',\n",
       " 'expanding',\n",
       " 'explode',\n",
       " 'factorize',\n",
       " 'ffill',\n",
       " 'fillna',\n",
       " 'filter',\n",
       " 'first',\n",
       " 'first_valid_index',\n",
       " 'floordiv',\n",
       " 'ge',\n",
       " 'get',\n",
       " 'groupby',\n",
       " 'gt',\n",
       " 'hasnans',\n",
       " 'head',\n",
       " 'hist',\n",
       " 'iat',\n",
       " 'idxmax',\n",
       " 'idxmin',\n",
       " 'iloc',\n",
       " 'index',\n",
       " 'infer_objects',\n",
       " 'interpolate',\n",
       " 'is_monotonic',\n",
       " 'is_monotonic_decreasing',\n",
       " 'is_monotonic_increasing',\n",
       " 'is_unique',\n",
       " 'isin',\n",
       " 'isna',\n",
       " 'isnull',\n",
       " 'item',\n",
       " 'items',\n",
       " 'iteritems',\n",
       " 'keys',\n",
       " 'kurt',\n",
       " 'kurtosis',\n",
       " 'last',\n",
       " 'last_valid_index',\n",
       " 'le',\n",
       " 'loc',\n",
       " 'lt',\n",
       " 'mad',\n",
       " 'map',\n",
       " 'mask',\n",
       " 'max',\n",
       " 'mean',\n",
       " 'median',\n",
       " 'memory_usage',\n",
       " 'min',\n",
       " 'mod',\n",
       " 'mode',\n",
       " 'mul',\n",
       " 'multiply',\n",
       " 'name',\n",
       " 'nbytes',\n",
       " 'ndim',\n",
       " 'ne',\n",
       " 'nlargest',\n",
       " 'notna',\n",
       " 'notnull',\n",
       " 'nsmallest',\n",
       " 'nunique',\n",
       " 'pct_change',\n",
       " 'pipe',\n",
       " 'plot',\n",
       " 'pop',\n",
       " 'pow',\n",
       " 'prod',\n",
       " 'product',\n",
       " 'quantile',\n",
       " 'radd',\n",
       " 'rank',\n",
       " 'ravel',\n",
       " 'rdiv',\n",
       " 'rdivmod',\n",
       " 'reindex',\n",
       " 'reindex_like',\n",
       " 'rename',\n",
       " 'rename_axis',\n",
       " 'reorder_levels',\n",
       " 'repeat',\n",
       " 'replace',\n",
       " 'resample',\n",
       " 'reset_index',\n",
       " 'rfloordiv',\n",
       " 'rmod',\n",
       " 'rmul',\n",
       " 'rolling',\n",
       " 'round',\n",
       " 'rpow',\n",
       " 'rsub',\n",
       " 'rtruediv',\n",
       " 'sample',\n",
       " 'searchsorted',\n",
       " 'sem',\n",
       " 'set_axis',\n",
       " 'shape',\n",
       " 'shift',\n",
       " 'size',\n",
       " 'skew',\n",
       " 'slice_shift',\n",
       " 'sort_index',\n",
       " 'sort_values',\n",
       " 'sparse',\n",
       " 'squeeze',\n",
       " 'std',\n",
       " 'str',\n",
       " 'sub',\n",
       " 'subtract',\n",
       " 'sum',\n",
       " 'swapaxes',\n",
       " 'swaplevel',\n",
       " 'tail',\n",
       " 'take',\n",
       " 'to_clipboard',\n",
       " 'to_csv',\n",
       " 'to_dict',\n",
       " 'to_excel',\n",
       " 'to_frame',\n",
       " 'to_hdf',\n",
       " 'to_json',\n",
       " 'to_latex',\n",
       " 'to_list',\n",
       " 'to_markdown',\n",
       " 'to_numpy',\n",
       " 'to_period',\n",
       " 'to_pickle',\n",
       " 'to_sql',\n",
       " 'to_string',\n",
       " 'to_timestamp',\n",
       " 'to_xarray',\n",
       " 'tolist',\n",
       " 'transform',\n",
       " 'transpose',\n",
       " 'truediv',\n",
       " 'truncate',\n",
       " 'tshift',\n",
       " 'tz_convert',\n",
       " 'tz_localize',\n",
       " 'unique',\n",
       " 'unstack',\n",
       " 'update',\n",
       " 'value_counts',\n",
       " 'values',\n",
       " 'var',\n",
       " 'view',\n",
       " 'where',\n",
       " 'xs'}"
      ]
     },
     "execution_count": 203,
     "metadata": {},
     "output_type": "execute_result"
    }
   ],
   "source": [
    "Series_Methods"
   ]
  },
  {
   "cell_type": "code",
   "execution_count": 204,
   "metadata": {},
   "outputs": [
    {
     "data": {
      "text/plain": [
       "431"
      ]
     },
     "execution_count": 204,
     "metadata": {},
     "output_type": "execute_result"
    }
   ],
   "source": [
    "#Para listar los métodos que aplican sobre DFs:\n",
    "DF_Methods = set(dir(pd.DataFrame))\n",
    "len(DF_Methods)"
   ]
  },
  {
   "cell_type": "code",
   "execution_count": 205,
   "metadata": {},
   "outputs": [
    {
     "data": {
      "text/plain": [
       "{'T',\n",
       " '_AXIS_ALIASES',\n",
       " '_AXIS_IALIASES',\n",
       " '_AXIS_LEN',\n",
       " '_AXIS_NAMES',\n",
       " '_AXIS_NUMBERS',\n",
       " '_AXIS_ORDERS',\n",
       " '_AXIS_REVERSED',\n",
       " '__abs__',\n",
       " '__add__',\n",
       " '__and__',\n",
       " '__annotations__',\n",
       " '__array__',\n",
       " '__array_priority__',\n",
       " '__array_wrap__',\n",
       " '__bool__',\n",
       " '__class__',\n",
       " '__contains__',\n",
       " '__copy__',\n",
       " '__deepcopy__',\n",
       " '__delattr__',\n",
       " '__delitem__',\n",
       " '__dict__',\n",
       " '__dir__',\n",
       " '__div__',\n",
       " '__doc__',\n",
       " '__eq__',\n",
       " '__finalize__',\n",
       " '__floordiv__',\n",
       " '__format__',\n",
       " '__ge__',\n",
       " '__getattr__',\n",
       " '__getattribute__',\n",
       " '__getitem__',\n",
       " '__getstate__',\n",
       " '__gt__',\n",
       " '__hash__',\n",
       " '__iadd__',\n",
       " '__iand__',\n",
       " '__ifloordiv__',\n",
       " '__imod__',\n",
       " '__imul__',\n",
       " '__init__',\n",
       " '__init_subclass__',\n",
       " '__invert__',\n",
       " '__ior__',\n",
       " '__ipow__',\n",
       " '__isub__',\n",
       " '__iter__',\n",
       " '__itruediv__',\n",
       " '__ixor__',\n",
       " '__le__',\n",
       " '__len__',\n",
       " '__lt__',\n",
       " '__matmul__',\n",
       " '__mod__',\n",
       " '__module__',\n",
       " '__mul__',\n",
       " '__ne__',\n",
       " '__neg__',\n",
       " '__new__',\n",
       " '__nonzero__',\n",
       " '__or__',\n",
       " '__pos__',\n",
       " '__pow__',\n",
       " '__radd__',\n",
       " '__rand__',\n",
       " '__rdiv__',\n",
       " '__reduce__',\n",
       " '__reduce_ex__',\n",
       " '__repr__',\n",
       " '__rfloordiv__',\n",
       " '__rmatmul__',\n",
       " '__rmod__',\n",
       " '__rmul__',\n",
       " '__ror__',\n",
       " '__round__',\n",
       " '__rpow__',\n",
       " '__rsub__',\n",
       " '__rtruediv__',\n",
       " '__rxor__',\n",
       " '__setattr__',\n",
       " '__setitem__',\n",
       " '__setstate__',\n",
       " '__sizeof__',\n",
       " '__str__',\n",
       " '__sub__',\n",
       " '__subclasshook__',\n",
       " '__truediv__',\n",
       " '__weakref__',\n",
       " '__xor__',\n",
       " '_accessors',\n",
       " '_add_numeric_operations',\n",
       " '_add_series_or_dataframe_operations',\n",
       " '_agg_by_level',\n",
       " '_agg_examples_doc',\n",
       " '_agg_summary_and_see_also_doc',\n",
       " '_aggregate',\n",
       " '_aggregate_multiple_funcs',\n",
       " '_align_frame',\n",
       " '_align_series',\n",
       " '_box_col_values',\n",
       " '_box_item_values',\n",
       " '_builtin_table',\n",
       " '_check_inplace_setting',\n",
       " '_check_is_chained_assignment_possible',\n",
       " '_check_label_or_level_ambiguity',\n",
       " '_check_setitem_copy',\n",
       " '_clear_item_cache',\n",
       " '_clip_with_one_bound',\n",
       " '_clip_with_scalar',\n",
       " '_combine_frame',\n",
       " '_combine_match_index',\n",
       " '_consolidate',\n",
       " '_consolidate_inplace',\n",
       " '_construct_axes_dict',\n",
       " '_construct_axes_dict_from',\n",
       " '_construct_axes_from_arguments',\n",
       " '_construct_result',\n",
       " '_constructor',\n",
       " '_constructor_expanddim',\n",
       " '_constructor_sliced',\n",
       " '_convert',\n",
       " '_count_level',\n",
       " '_create_indexer',\n",
       " '_cython_table',\n",
       " '_deprecations',\n",
       " '_dir_additions',\n",
       " '_dir_deletions',\n",
       " '_drop_axis',\n",
       " '_drop_labels_or_levels',\n",
       " '_ensure_type',\n",
       " '_ensure_valid_index',\n",
       " '_find_valid_index',\n",
       " '_from_arrays',\n",
       " '_from_axes',\n",
       " '_get_agg_axis',\n",
       " '_get_axis',\n",
       " '_get_axis_name',\n",
       " '_get_axis_number',\n",
       " '_get_axis_resolvers',\n",
       " '_get_block_manager_axis',\n",
       " '_get_bool_data',\n",
       " '_get_cacher',\n",
       " '_get_cleaned_column_resolvers',\n",
       " '_get_cython_func',\n",
       " '_get_index_resolvers',\n",
       " '_get_item_cache',\n",
       " '_get_label_or_level_values',\n",
       " '_get_numeric_data',\n",
       " '_get_value',\n",
       " '_get_values',\n",
       " '_getitem_bool_array',\n",
       " '_getitem_multilevel',\n",
       " '_gotitem',\n",
       " '_iget_item_cache',\n",
       " '_indexed_same',\n",
       " '_info_axis',\n",
       " '_info_axis_name',\n",
       " '_info_axis_number',\n",
       " '_info_repr',\n",
       " '_init_mgr',\n",
       " '_internal_get_values',\n",
       " '_internal_names',\n",
       " '_internal_names_set',\n",
       " '_is_builtin_func',\n",
       " '_is_cached',\n",
       " '_is_copy',\n",
       " '_is_datelike_mixed_type',\n",
       " '_is_homogeneous_type',\n",
       " '_is_label_or_level_reference',\n",
       " '_is_label_reference',\n",
       " '_is_level_reference',\n",
       " '_is_mixed_type',\n",
       " '_is_numeric_mixed_type',\n",
       " '_is_view',\n",
       " '_ix',\n",
       " '_ixs',\n",
       " '_join_compat',\n",
       " '_maybe_cache_changed',\n",
       " '_maybe_update_cacher',\n",
       " '_metadata',\n",
       " '_needs_reindex_multi',\n",
       " '_obj_with_exclusions',\n",
       " '_protect_consolidate',\n",
       " '_reduce',\n",
       " '_reindex_axes',\n",
       " '_reindex_columns',\n",
       " '_reindex_index',\n",
       " '_reindex_multi',\n",
       " '_reindex_with_indexers',\n",
       " '_repr_data_resource_',\n",
       " '_repr_fits_horizontal_',\n",
       " '_repr_fits_vertical_',\n",
       " '_repr_html_',\n",
       " '_repr_latex_',\n",
       " '_reset_cache',\n",
       " '_reset_cacher',\n",
       " '_sanitize_column',\n",
       " '_selected_obj',\n",
       " '_selection',\n",
       " '_selection_list',\n",
       " '_selection_name',\n",
       " '_series',\n",
       " '_set_as_cached',\n",
       " '_set_axis',\n",
       " '_set_axis_name',\n",
       " '_set_is_copy',\n",
       " '_set_item',\n",
       " '_set_value',\n",
       " '_setitem_array',\n",
       " '_setitem_frame',\n",
       " '_setitem_slice',\n",
       " '_setup_axes',\n",
       " '_slice',\n",
       " '_stat_axis',\n",
       " '_stat_axis_name',\n",
       " '_stat_axis_number',\n",
       " '_take_with_is_copy',\n",
       " '_to_dict_of_blocks',\n",
       " '_try_aggregate_string_function',\n",
       " '_typ',\n",
       " '_update_inplace',\n",
       " '_validate_dtype',\n",
       " '_values',\n",
       " '_where',\n",
       " '_xs',\n",
       " 'abs',\n",
       " 'add',\n",
       " 'add_prefix',\n",
       " 'add_suffix',\n",
       " 'agg',\n",
       " 'aggregate',\n",
       " 'align',\n",
       " 'all',\n",
       " 'any',\n",
       " 'append',\n",
       " 'apply',\n",
       " 'applymap',\n",
       " 'asfreq',\n",
       " 'asof',\n",
       " 'assign',\n",
       " 'astype',\n",
       " 'at',\n",
       " 'at_time',\n",
       " 'attrs',\n",
       " 'axes',\n",
       " 'between_time',\n",
       " 'bfill',\n",
       " 'bool',\n",
       " 'boxplot',\n",
       " 'clip',\n",
       " 'columns',\n",
       " 'combine',\n",
       " 'combine_first',\n",
       " 'convert_dtypes',\n",
       " 'copy',\n",
       " 'corr',\n",
       " 'corrwith',\n",
       " 'count',\n",
       " 'cov',\n",
       " 'cummax',\n",
       " 'cummin',\n",
       " 'cumprod',\n",
       " 'cumsum',\n",
       " 'describe',\n",
       " 'diff',\n",
       " 'div',\n",
       " 'divide',\n",
       " 'dot',\n",
       " 'drop',\n",
       " 'drop_duplicates',\n",
       " 'droplevel',\n",
       " 'dropna',\n",
       " 'dtypes',\n",
       " 'duplicated',\n",
       " 'empty',\n",
       " 'eq',\n",
       " 'equals',\n",
       " 'eval',\n",
       " 'ewm',\n",
       " 'expanding',\n",
       " 'explode',\n",
       " 'ffill',\n",
       " 'fillna',\n",
       " 'filter',\n",
       " 'first',\n",
       " 'first_valid_index',\n",
       " 'floordiv',\n",
       " 'from_dict',\n",
       " 'from_records',\n",
       " 'ge',\n",
       " 'get',\n",
       " 'groupby',\n",
       " 'gt',\n",
       " 'head',\n",
       " 'hist',\n",
       " 'iat',\n",
       " 'idxmax',\n",
       " 'idxmin',\n",
       " 'iloc',\n",
       " 'index',\n",
       " 'infer_objects',\n",
       " 'info',\n",
       " 'insert',\n",
       " 'interpolate',\n",
       " 'isin',\n",
       " 'isna',\n",
       " 'isnull',\n",
       " 'items',\n",
       " 'iteritems',\n",
       " 'iterrows',\n",
       " 'itertuples',\n",
       " 'join',\n",
       " 'keys',\n",
       " 'kurt',\n",
       " 'kurtosis',\n",
       " 'last',\n",
       " 'last_valid_index',\n",
       " 'le',\n",
       " 'loc',\n",
       " 'lookup',\n",
       " 'lt',\n",
       " 'mad',\n",
       " 'mask',\n",
       " 'max',\n",
       " 'mean',\n",
       " 'median',\n",
       " 'melt',\n",
       " 'memory_usage',\n",
       " 'merge',\n",
       " 'min',\n",
       " 'mod',\n",
       " 'mode',\n",
       " 'mul',\n",
       " 'multiply',\n",
       " 'ndim',\n",
       " 'ne',\n",
       " 'nlargest',\n",
       " 'notna',\n",
       " 'notnull',\n",
       " 'nsmallest',\n",
       " 'nunique',\n",
       " 'pct_change',\n",
       " 'pipe',\n",
       " 'pivot',\n",
       " 'pivot_table',\n",
       " 'plot',\n",
       " 'pop',\n",
       " 'pow',\n",
       " 'prod',\n",
       " 'product',\n",
       " 'quantile',\n",
       " 'query',\n",
       " 'radd',\n",
       " 'rank',\n",
       " 'rdiv',\n",
       " 'reindex',\n",
       " 'reindex_like',\n",
       " 'rename',\n",
       " 'rename_axis',\n",
       " 'reorder_levels',\n",
       " 'replace',\n",
       " 'resample',\n",
       " 'reset_index',\n",
       " 'rfloordiv',\n",
       " 'rmod',\n",
       " 'rmul',\n",
       " 'rolling',\n",
       " 'round',\n",
       " 'rpow',\n",
       " 'rsub',\n",
       " 'rtruediv',\n",
       " 'sample',\n",
       " 'select_dtypes',\n",
       " 'sem',\n",
       " 'set_axis',\n",
       " 'set_index',\n",
       " 'shape',\n",
       " 'shift',\n",
       " 'size',\n",
       " 'skew',\n",
       " 'slice_shift',\n",
       " 'sort_index',\n",
       " 'sort_values',\n",
       " 'sparse',\n",
       " 'squeeze',\n",
       " 'stack',\n",
       " 'std',\n",
       " 'style',\n",
       " 'sub',\n",
       " 'subtract',\n",
       " 'sum',\n",
       " 'swapaxes',\n",
       " 'swaplevel',\n",
       " 'tail',\n",
       " 'take',\n",
       " 'to_clipboard',\n",
       " 'to_csv',\n",
       " 'to_dict',\n",
       " 'to_excel',\n",
       " 'to_feather',\n",
       " 'to_gbq',\n",
       " 'to_hdf',\n",
       " 'to_html',\n",
       " 'to_json',\n",
       " 'to_latex',\n",
       " 'to_markdown',\n",
       " 'to_numpy',\n",
       " 'to_parquet',\n",
       " 'to_period',\n",
       " 'to_pickle',\n",
       " 'to_records',\n",
       " 'to_sql',\n",
       " 'to_stata',\n",
       " 'to_string',\n",
       " 'to_timestamp',\n",
       " 'to_xarray',\n",
       " 'transform',\n",
       " 'transpose',\n",
       " 'truediv',\n",
       " 'truncate',\n",
       " 'tshift',\n",
       " 'tz_convert',\n",
       " 'tz_localize',\n",
       " 'unstack',\n",
       " 'update',\n",
       " 'values',\n",
       " 'var',\n",
       " 'where',\n",
       " 'xs'}"
      ]
     },
     "execution_count": 205,
     "metadata": {},
     "output_type": "execute_result"
    }
   ],
   "source": [
    "DF_Methods"
   ]
  },
  {
   "cell_type": "code",
   "execution_count": 206,
   "metadata": {},
   "outputs": [],
   "source": [
    "#Como ejemplo vamos a seleccionar 2 columnas con 2 tipos de datos distintos\n",
    "#para ver asi que las operaciones con distintos datos pueden dar resultados distintos.\n",
    "\n",
    "#Seleccionamos la pelicula y luego el año:\n",
    "oscars_movie = oscars_demographics['movie'] #es un object.\n",
    "oscars_years = oscars_demographics['year_of_award'] #es un int"
   ]
  },
  {
   "cell_type": "code",
   "execution_count": 207,
   "metadata": {},
   "outputs": [
    {
     "data": {
      "text/plain": [
       "0               Two Arabian Knights\n",
       "1                   The Divine Lady\n",
       "2    All Quiet on the Western Front\n",
       "3                            Skippy\n",
       "4                          Bad Girl\n",
       "Name: movie, dtype: object"
      ]
     },
     "execution_count": 207,
     "metadata": {},
     "output_type": "execute_result"
    }
   ],
   "source": [
    "oscars_movie.head(5) #Serie con los nombres. (NO es un DF)"
   ]
  },
  {
   "cell_type": "code",
   "execution_count": 208,
   "metadata": {},
   "outputs": [
    {
     "data": {
      "text/plain": [
       "0    1927\n",
       "1    1930\n",
       "2    1931\n",
       "3    1932\n",
       "4    1933\n",
       "Name: year_of_award, dtype: int64"
      ]
     },
     "execution_count": 208,
     "metadata": {},
     "output_type": "execute_result"
    }
   ],
   "source": [
    "oscars_years.head(5) #Serie con los años. (NO es un DF)"
   ]
  },
  {
   "cell_type": "code",
   "execution_count": 209,
   "metadata": {},
   "outputs": [],
   "source": [
    "#Sobre una serie podemos hacer varios Value_Counts():"
   ]
  },
  {
   "cell_type": "code",
   "execution_count": 210,
   "metadata": {},
   "outputs": [
    {
     "data": {
      "text/plain": [
       "Million Dollar Baby      5\n",
       "Network                  4\n",
       "West Side Story          4\n",
       "It Happened One Night    3\n",
       "Gone with the Wind       3\n",
       "                        ..\n",
       "Ordinary People          1\n",
       "The Killing Fields       1\n",
       "Butterfield 8            1\n",
       "Cavalcade                1\n",
       "Airport                  1\n",
       "Name: movie, Length: 336, dtype: int64"
      ]
     },
     "execution_count": 210,
     "metadata": {},
     "output_type": "execute_result"
    }
   ],
   "source": [
    "oscars_movie.value_counts() #Para ver las ocurrencias de cada valor (Million DOllar Baby vemos que tiene 5 ocurrencias)"
   ]
  },
  {
   "cell_type": "code",
   "execution_count": 211,
   "metadata": {},
   "outputs": [
    {
     "data": {
      "text/plain": [
       "Million Dollar Baby      0.011338\n",
       "Network                  0.009070\n",
       "West Side Story          0.009070\n",
       "It Happened One Night    0.006803\n",
       "Gone with the Wind       0.006803\n",
       "                           ...   \n",
       "Ordinary People          0.002268\n",
       "The Killing Fields       0.002268\n",
       "Butterfield 8            0.002268\n",
       "Cavalcade                0.002268\n",
       "Airport                  0.002268\n",
       "Name: movie, Length: 336, dtype: float64"
      ]
     },
     "execution_count": 211,
     "metadata": {},
     "output_type": "execute_result"
    }
   ],
   "source": [
    "#Ponemos el normalize=True para obtener asi el\n",
    "#porcentual, osea el volumen relativo de cada una de las peliculas\n",
    "oscars_movie.value_counts(normalize=True)\n",
    "#Nos muestra para cada pelicula los porcentajes de ocurrencia respecto a todas ahora.\n",
    "#Tooodos los valores numericos que vemos abajo (0.011338, 0.0009070 y todas las demás) SUMAN 1... entonces \n",
    "#el 0.011338 es la participación que tuvo la 1er peli con respecto a las demás pelis (el 100%)"
   ]
  },
  {
   "cell_type": "code",
   "execution_count": 212,
   "metadata": {},
   "outputs": [
    {
     "data": {
      "text/plain": [
       "1969    8\n",
       "2005    7\n",
       "1961    7\n",
       "1999    7\n",
       "2009    7\n",
       "       ..\n",
       "1932    3\n",
       "1931    3\n",
       "1929    2\n",
       "1933    1\n",
       "1927    1\n",
       "Name: year_of_award, Length: 87, dtype: int64"
      ]
     },
     "execution_count": 212,
     "metadata": {},
     "output_type": "execute_result"
    }
   ],
   "source": [
    "oscars_years.value_counts()  #AHora hacemos lo mismo para los años que son variables numéricas.\n",
    "#Y obtenemos la distribución.. para 1969 son 8, 2005 son 7, etc.\n",
    "#Obviamente este DS NO esta completo ya que en 1933 por ej. hay 1 solo."
   ]
  },
  {
   "cell_type": "code",
   "execution_count": 213,
   "metadata": {},
   "outputs": [
    {
     "data": {
      "text/plain": [
       "1969    0.018141\n",
       "2005    0.015873\n",
       "1961    0.015873\n",
       "1999    0.015873\n",
       "2009    0.015873\n",
       "          ...   \n",
       "1932    0.006803\n",
       "1931    0.006803\n",
       "1929    0.004535\n",
       "1933    0.002268\n",
       "1927    0.002268\n",
       "Name: year_of_award, Length: 87, dtype: float64"
      ]
     },
     "execution_count": 213,
     "metadata": {},
     "output_type": "execute_result"
    }
   ],
   "source": [
    "oscars_years.value_counts(normalize=True)\n",
    "#Me dice nuevamente en porcentaje cuantas veces aparecen los años. "
   ]
  },
  {
   "cell_type": "code",
   "execution_count": 214,
   "metadata": {},
   "outputs": [
    {
     "data": {
      "text/plain": [
       "pandas.core.frame.DataFrame"
      ]
     },
     "execution_count": 214,
     "metadata": {},
     "output_type": "execute_result"
    }
   ],
   "source": [
    "#Usamos size, shape y len para contar el nùmero de elementos en DF:\n",
    "type(oscars_demographics)"
   ]
  },
  {
   "cell_type": "code",
   "execution_count": 215,
   "metadata": {},
   "outputs": [
    {
     "data": {
      "text/plain": [
       "11907"
      ]
     },
     "execution_count": 215,
     "metadata": {},
     "output_type": "execute_result"
    }
   ],
   "source": [
    "oscars_demographics.size #Nos muestra la cantidad de elementos que tenemos (filas y columnas, TODO)"
   ]
  },
  {
   "cell_type": "code",
   "execution_count": 216,
   "metadata": {},
   "outputs": [
    {
     "data": {
      "text/plain": [
       "(441, 27)"
      ]
     },
     "execution_count": 216,
     "metadata": {},
     "output_type": "execute_result"
    }
   ],
   "source": [
    "oscars_demographics.shape #(Filas y columnas que tenemos)"
   ]
  },
  {
   "cell_type": "code",
   "execution_count": 217,
   "metadata": {},
   "outputs": [
    {
     "data": {
      "text/plain": [
       "441"
      ]
     },
     "execution_count": 217,
     "metadata": {},
     "output_type": "execute_result"
    }
   ],
   "source": [
    "len(oscars_demographics) #Cantidad de filas que tenemos"
   ]
  },
  {
   "cell_type": "code",
   "execution_count": 218,
   "metadata": {},
   "outputs": [
    {
     "data": {
      "text/plain": [
       "_unit_id                         441\n",
       "_golden                          441\n",
       "_unit_state                      441\n",
       "_trusted_judgments               441\n",
       "_last_judgment_at                416\n",
       "birthplace                       441\n",
       "birthplace:confidence            441\n",
       "date_of_birth                    441\n",
       "date_of_birth:confidence         441\n",
       "race_ethnicity                   441\n",
       "race_ethnicity:confidence        441\n",
       "religion                         441\n",
       "religion:confidence              441\n",
       "sexual_orientation               441\n",
       "sexual_orientation:confidence    441\n",
       "year_of_award                    441\n",
       "year_of_award:confidence         441\n",
       "award                            441\n",
       "biourl                           441\n",
       "birthplace_gold                    9\n",
       "date_of_birth_gold                 8\n",
       "movie                            441\n",
       "person                           441\n",
       "race_ethnicity_gold                2\n",
       "religion_gold                     10\n",
       "sexual_orientation_gold            3\n",
       "year_of_award_gold                11\n",
       "dtype: int64"
      ]
     },
     "execution_count": 218,
     "metadata": {},
     "output_type": "execute_result"
    }
   ],
   "source": [
    "oscars_demographics.count() #Vemos los valores asociados a cada columna"
   ]
  },
  {
   "cell_type": "code",
   "execution_count": 219,
   "metadata": {},
   "outputs": [
    {
     "data": {
      "text/plain": [
       "pandas.core.series.Series"
      ]
     },
     "execution_count": 219,
     "metadata": {},
     "output_type": "execute_result"
    }
   ],
   "source": [
    "#Ahora hacemos lo mismo (Usamos size, shape y len para contar el nùmero de elementos)\n",
    "#pero ahora no es un DF, sino una Serie:\n",
    "Serie_Date_Birth_Gold = oscars_demographics['date_of_birth_gold']\n",
    "type(Serie_Date_Birth_Gold)"
   ]
  },
  {
   "cell_type": "code",
   "execution_count": 220,
   "metadata": {},
   "outputs": [
    {
     "data": {
      "text/plain": [
       "441"
      ]
     },
     "execution_count": 220,
     "metadata": {},
     "output_type": "execute_result"
    }
   ],
   "source": [
    "Serie_Date_Birth_Gold.size #Vemos el TOTAL de datos (sean o no Nans)"
   ]
  },
  {
   "cell_type": "code",
   "execution_count": 221,
   "metadata": {},
   "outputs": [
    {
     "data": {
      "text/plain": [
       "8"
      ]
     },
     "execution_count": 221,
     "metadata": {},
     "output_type": "execute_result"
    }
   ],
   "source": [
    "Serie_Date_Birth_Gold.count() #Vemos que de los 441 que tiene de longitud solo 8 valores son distintos de null. \n",
    "#Anteriormente hicimos count() solo para el DF y como vimos nos devuelve las cantidades PARA CADA COLUMNA; aca con Series solo para esa columna."
   ]
  },
  {
   "cell_type": "code",
   "execution_count": 222,
   "metadata": {},
   "outputs": [
    {
     "data": {
      "text/plain": [
       "0      True\n",
       "1      True\n",
       "2      True\n",
       "3      True\n",
       "4      True\n",
       "       ... \n",
       "436    True\n",
       "437    True\n",
       "438    True\n",
       "439    True\n",
       "440    True\n",
       "Name: date_of_birth_gold, Length: 441, dtype: bool"
      ]
     },
     "execution_count": 222,
     "metadata": {},
     "output_type": "execute_result"
    }
   ],
   "source": [
    "Serie_Date_Birth_Gold.isnull() #Nos devuelve un valor booleano asociado a cada una de las posiciones indicando si es V o F que es nulo \n",
    "#(vemos que la mayoria son nullos por los T) --> son una SERIE de valores booleanos"
   ]
  },
  {
   "cell_type": "code",
   "execution_count": 223,
   "metadata": {},
   "outputs": [
    {
     "data": {
      "text/plain": [
       "True"
      ]
     },
     "execution_count": 223,
     "metadata": {},
     "output_type": "execute_result"
    }
   ],
   "source": [
    "Serie_Date_Birth_Gold.hasnans #SImplemente nos dice si existe algun Nan (null) dentro de la columna. SI tenemos solo 1 nos devuelve True."
   ]
  },
  {
   "cell_type": "code",
   "execution_count": 224,
   "metadata": {},
   "outputs": [
    {
     "data": {
      "text/plain": [
       "False"
      ]
     },
     "execution_count": 224,
     "metadata": {},
     "output_type": "execute_result"
    }
   ],
   "source": [
    "#Aca como todos tienen valores nos devuelve False.\n",
    "\n",
    "Serie_Persons = oscars_demographics['person']\n",
    "Serie_Persons.hasnans "
   ]
  },
  {
   "cell_type": "code",
   "execution_count": 225,
   "metadata": {},
   "outputs": [
    {
     "data": {
      "text/plain": [
       "0      NaN\n",
       "1      NaN\n",
       "2      NaN\n",
       "3      NaN\n",
       "4      NaN\n",
       "      ... \n",
       "436    NaN\n",
       "437    NaN\n",
       "438    NaN\n",
       "439    NaN\n",
       "440    NaN\n",
       "Name: date_of_birth_gold, Length: 441, dtype: object"
      ]
     },
     "execution_count": 225,
     "metadata": {},
     "output_type": "execute_result"
    }
   ],
   "source": [
    "Serie_Date_Birth_Gold  #Imprimiendo asi nos devuelve una Serie con los valores de la columna (la mayoria 'NaN')"
   ]
  },
  {
   "cell_type": "code",
   "execution_count": 226,
   "metadata": {},
   "outputs": [],
   "source": [
    "#AHora vamos a hacer algo con los valores que NO estan definidos...\n",
    "#Vamos a hacer un FIlling Nan... así para todos los valores NaN le vamos a poner el valor 'None'\n",
    "Serie_Date_Birth_Gold_Fill_NaNs = Serie_Date_Birth_Gold.fillna('None')"
   ]
  },
  {
   "cell_type": "code",
   "execution_count": 227,
   "metadata": {},
   "outputs": [
    {
     "data": {
      "text/plain": [
       "0      None\n",
       "1      None\n",
       "2      None\n",
       "3      None\n",
       "4      None\n",
       "       ... \n",
       "436    None\n",
       "437    None\n",
       "438    None\n",
       "439    None\n",
       "440    None\n",
       "Name: date_of_birth_gold, Length: 441, dtype: object"
      ]
     },
     "execution_count": 227,
     "metadata": {},
     "output_type": "execute_result"
    }
   ],
   "source": [
    "Serie_Date_Birth_Gold_Fill_NaNs #Lo imprimimos y vemos que los cambio por None:"
   ]
  },
  {
   "cell_type": "code",
   "execution_count": 228,
   "metadata": {},
   "outputs": [
    {
     "data": {
      "text/plain": [
       "False"
      ]
     },
     "execution_count": 228,
     "metadata": {},
     "output_type": "execute_result"
    }
   ],
   "source": [
    "Serie_Date_Birth_Gold_Fill_NaNs.hasnans #VEmos que NO tiene Nans"
   ]
  },
  {
   "cell_type": "code",
   "execution_count": 229,
   "metadata": {},
   "outputs": [
    {
     "data": {
      "text/plain": [
       "441"
      ]
     },
     "execution_count": 229,
     "metadata": {},
     "output_type": "execute_result"
    }
   ],
   "source": [
    "Serie_Date_Birth_Gold_Fill_NaNs.count() #Antes nos tiraba 8, ahora nos tira todos ya que los rellenamos."
   ]
  },
  {
   "cell_type": "code",
   "execution_count": 230,
   "metadata": {},
   "outputs": [
    {
     "data": {
      "text/plain": [
       "441"
      ]
     },
     "execution_count": 230,
     "metadata": {},
     "output_type": "execute_result"
    }
   ],
   "source": [
    "Serie_Date_Birth_Gold_Fill_NaNs.size #Y bueno aca nos tira nuevamente todos porque no considera los Nans."
   ]
  },
  {
   "cell_type": "code",
   "execution_count": 231,
   "metadata": {},
   "outputs": [],
   "source": [
    "#Ahora enves de rellenar vamos a Dropearlos/Removerlos:\n",
    "Serie_Date_Birth_Gold_Nans_Dropped=Serie_Date_Birth_Gold.dropna()"
   ]
  },
  {
   "cell_type": "code",
   "execution_count": 232,
   "metadata": {},
   "outputs": [
    {
     "data": {
      "text/plain": [
       "21      5-Aug-06\n",
       "33     22-Jun-06\n",
       "152     9-Jul-56\n",
       "205    16-Jun-07\n",
       "263    16-Jul-11\n",
       "280    27-Feb-30\n",
       "377    31-Oct-27\n",
       "411    11-Dec-67\n",
       "Name: date_of_birth_gold, dtype: object"
      ]
     },
     "execution_count": 232,
     "metadata": {},
     "output_type": "execute_result"
    }
   ],
   "source": [
    "Serie_Date_Birth_Gold_Nans_Dropped  #Solo tenemos los que NO eran NaN."
   ]
  },
  {
   "cell_type": "code",
   "execution_count": 233,
   "metadata": {},
   "outputs": [
    {
     "data": {
      "text/plain": [
       "8"
      ]
     },
     "execution_count": 233,
     "metadata": {},
     "output_type": "execute_result"
    }
   ],
   "source": [
    "Serie_Date_Birth_Gold_Nans_Dropped.count() #Nos da solo los que no tenian Nan... en este caso igual ninguno tienen Nan porque esos los eliminamos directamente."
   ]
  },
  {
   "cell_type": "code",
   "execution_count": 234,
   "metadata": {},
   "outputs": [
    {
     "data": {
      "text/plain": [
       "8"
      ]
     },
     "execution_count": 234,
     "metadata": {},
     "output_type": "execute_result"
    }
   ],
   "source": [
    "Serie_Date_Birth_Gold_Nans_Dropped.size #Nos tira TODOS los valores (igual tenemos 8, el resto los volamos)"
   ]
  },
  {
   "cell_type": "markdown",
   "metadata": {},
   "source": [
    "#### Ahora vamos a ver métodos básicos de estadística:  min, max, mean, median, std, sum y describe."
   ]
  },
  {
   "cell_type": "code",
   "execution_count": 240,
   "metadata": {},
   "outputs": [
    {
     "data": {
      "text/plain": [
       "(3, 95, 7.63718820861678, 3.0, 19.015540899806783, 3368)"
      ]
     },
     "execution_count": 240,
     "metadata": {},
     "output_type": "execute_result"
    }
   ],
   "source": [
    "#Anteriormente vimos que aplicando describe() sobre el DF te aplicaba todos los métodos de estadisticas para las variables NUMÉRICAS del mismo\n",
    "#Tambien podemos correr metricas de estadistica especificando las columnas si no lo queremos hacer sobre todo:\n",
    "#Saber... _trusted_judgments es una columna de nuestro DS.\n",
    "\n",
    "min_columna_trusted_j=oscars_demographics._trusted_judgments.min()\n",
    "max_columna_trusted_j=oscars_demographics._trusted_judgments.max()\n",
    "mean_columna_trusted_j=oscars_demographics._trusted_judgments.mean()\n",
    "median_columna_trusted_j=oscars_demographics._trusted_judgments.median()\n",
    "std_columna_trusted_j=oscars_demographics._trusted_judgments.std()\n",
    "sum_columna_trusted_j=oscars_demographics._trusted_judgments.sum()\n",
    "\n",
    "#Ahora imprimimos todos estos como una lista (separandolos por ,):\n",
    "min_columna_trusted_j, max_columna_trusted_j, mean_columna_trusted_j, median_columna_trusted_j, std_columna_trusted_j, sum_columna_trusted_j"
   ]
  },
  {
   "cell_type": "code",
   "execution_count": 241,
   "metadata": {},
   "outputs": [
    {
     "data": {
      "text/plain": [
       "count    441.000000\n",
       "mean       7.637188\n",
       "std       19.015541\n",
       "min        3.000000\n",
       "25%        3.000000\n",
       "50%        3.000000\n",
       "75%        3.000000\n",
       "max       95.000000\n",
       "Name: _trusted_judgments, dtype: float64"
      ]
     },
     "execution_count": 241,
     "metadata": {},
     "output_type": "execute_result"
    }
   ],
   "source": [
    "#Pero utilizando describe nos corre todas las estadisticas de una (Sobre la columna que le indicamos):\n",
    "oscars_demographics._trusted_judgments.describe()"
   ]
  },
  {
   "cell_type": "code",
   "execution_count": 242,
   "metadata": {},
   "outputs": [
    {
     "data": {
      "text/plain": [
       "count                     441\n",
       "unique                    336\n",
       "top       Million Dollar Baby\n",
       "freq                        5\n",
       "Name: movie, dtype: object"
      ]
     },
     "execution_count": 242,
     "metadata": {},
     "output_type": "execute_result"
    }
   ],
   "source": [
    "#SI hacemos lo mismo sobre una columna OBJECT (por ej. movie)\n",
    "#los valores van a ser distintos (que que NO podemos hacer un promedio de Strings)\n",
    "#Solo nos dice cuantos valores totales y únicos tenemos, el valor más comun (top) y su frecuencia.\n",
    "oscars_demographics.movie.describe()"
   ]
  },
  {
   "cell_type": "code",
   "execution_count": 243,
   "metadata": {},
   "outputs": [
    {
     "data": {
      "text/html": [
       "<div>\n",
       "<style scoped>\n",
       "    .dataframe tbody tr th:only-of-type {\n",
       "        vertical-align: middle;\n",
       "    }\n",
       "\n",
       "    .dataframe tbody tr th {\n",
       "        vertical-align: top;\n",
       "    }\n",
       "\n",
       "    .dataframe thead th {\n",
       "        text-align: right;\n",
       "    }\n",
       "</style>\n",
       "<table border=\"1\" class=\"dataframe\">\n",
       "  <thead>\n",
       "    <tr style=\"text-align: right;\">\n",
       "      <th></th>\n",
       "      <th>_unit_id</th>\n",
       "      <th>_trusted_judgments</th>\n",
       "      <th>birthplace:confidence</th>\n",
       "      <th>date_of_birth:confidence</th>\n",
       "      <th>race_ethnicity:confidence</th>\n",
       "      <th>religion:confidence</th>\n",
       "      <th>sexual_orientation:confidence</th>\n",
       "      <th>year_of_award</th>\n",
       "      <th>year_of_award:confidence</th>\n",
       "      <th>year_of_award_gold</th>\n",
       "    </tr>\n",
       "  </thead>\n",
       "  <tbody>\n",
       "    <tr>\n",
       "      <th>count</th>\n",
       "      <td>4.410000e+02</td>\n",
       "      <td>441.000000</td>\n",
       "      <td>441.000000</td>\n",
       "      <td>441.000000</td>\n",
       "      <td>441.000000</td>\n",
       "      <td>441.000000</td>\n",
       "      <td>441.000000</td>\n",
       "      <td>441.000000</td>\n",
       "      <td>441.000000</td>\n",
       "      <td>11.000000</td>\n",
       "    </tr>\n",
       "    <tr>\n",
       "      <th>mean</th>\n",
       "      <td>6.704825e+08</td>\n",
       "      <td>7.637188</td>\n",
       "      <td>0.995259</td>\n",
       "      <td>0.996607</td>\n",
       "      <td>0.999130</td>\n",
       "      <td>0.989373</td>\n",
       "      <td>0.992390</td>\n",
       "      <td>1973.165533</td>\n",
       "      <td>0.990082</td>\n",
       "      <td>1977.363636</td>\n",
       "    </tr>\n",
       "    <tr>\n",
       "      <th>std</th>\n",
       "      <td>1.139974e+05</td>\n",
       "      <td>19.015541</td>\n",
       "      <td>0.038917</td>\n",
       "      <td>0.032060</td>\n",
       "      <td>0.016438</td>\n",
       "      <td>0.065610</td>\n",
       "      <td>0.049458</td>\n",
       "      <td>24.030895</td>\n",
       "      <td>0.059177</td>\n",
       "      <td>21.592928</td>\n",
       "    </tr>\n",
       "    <tr>\n",
       "      <th>min</th>\n",
       "      <td>6.704544e+08</td>\n",
       "      <td>3.000000</td>\n",
       "      <td>0.657100</td>\n",
       "      <td>0.656200</td>\n",
       "      <td>0.657100</td>\n",
       "      <td>0.333300</td>\n",
       "      <td>0.657100</td>\n",
       "      <td>1927.000000</td>\n",
       "      <td>0.333300</td>\n",
       "      <td>1942.000000</td>\n",
       "    </tr>\n",
       "    <tr>\n",
       "      <th>25%</th>\n",
       "      <td>6.704545e+08</td>\n",
       "      <td>3.000000</td>\n",
       "      <td>1.000000</td>\n",
       "      <td>1.000000</td>\n",
       "      <td>1.000000</td>\n",
       "      <td>1.000000</td>\n",
       "      <td>1.000000</td>\n",
       "      <td>1953.000000</td>\n",
       "      <td>1.000000</td>\n",
       "      <td>1964.000000</td>\n",
       "    </tr>\n",
       "    <tr>\n",
       "      <th>50%</th>\n",
       "      <td>6.704546e+08</td>\n",
       "      <td>3.000000</td>\n",
       "      <td>1.000000</td>\n",
       "      <td>1.000000</td>\n",
       "      <td>1.000000</td>\n",
       "      <td>1.000000</td>\n",
       "      <td>1.000000</td>\n",
       "      <td>1973.000000</td>\n",
       "      <td>1.000000</td>\n",
       "      <td>1977.000000</td>\n",
       "    </tr>\n",
       "    <tr>\n",
       "      <th>75%</th>\n",
       "      <td>6.704547e+08</td>\n",
       "      <td>3.000000</td>\n",
       "      <td>1.000000</td>\n",
       "      <td>1.000000</td>\n",
       "      <td>1.000000</td>\n",
       "      <td>1.000000</td>\n",
       "      <td>1.000000</td>\n",
       "      <td>1994.000000</td>\n",
       "      <td>1.000000</td>\n",
       "      <td>1997.000000</td>\n",
       "    </tr>\n",
       "    <tr>\n",
       "      <th>max</th>\n",
       "      <td>6.709729e+08</td>\n",
       "      <td>95.000000</td>\n",
       "      <td>1.000000</td>\n",
       "      <td>1.000000</td>\n",
       "      <td>1.000000</td>\n",
       "      <td>1.000000</td>\n",
       "      <td>1.000000</td>\n",
       "      <td>2014.000000</td>\n",
       "      <td>1.000000</td>\n",
       "      <td>2006.000000</td>\n",
       "    </tr>\n",
       "  </tbody>\n",
       "</table>\n",
       "</div>"
      ],
      "text/plain": [
       "           _unit_id  _trusted_judgments  birthplace:confidence  \\\n",
       "count  4.410000e+02          441.000000             441.000000   \n",
       "mean   6.704825e+08            7.637188               0.995259   \n",
       "std    1.139974e+05           19.015541               0.038917   \n",
       "min    6.704544e+08            3.000000               0.657100   \n",
       "25%    6.704545e+08            3.000000               1.000000   \n",
       "50%    6.704546e+08            3.000000               1.000000   \n",
       "75%    6.704547e+08            3.000000               1.000000   \n",
       "max    6.709729e+08           95.000000               1.000000   \n",
       "\n",
       "       date_of_birth:confidence  race_ethnicity:confidence  \\\n",
       "count                441.000000                 441.000000   \n",
       "mean                   0.996607                   0.999130   \n",
       "std                    0.032060                   0.016438   \n",
       "min                    0.656200                   0.657100   \n",
       "25%                    1.000000                   1.000000   \n",
       "50%                    1.000000                   1.000000   \n",
       "75%                    1.000000                   1.000000   \n",
       "max                    1.000000                   1.000000   \n",
       "\n",
       "       religion:confidence  sexual_orientation:confidence  year_of_award  \\\n",
       "count           441.000000                     441.000000     441.000000   \n",
       "mean              0.989373                       0.992390    1973.165533   \n",
       "std               0.065610                       0.049458      24.030895   \n",
       "min               0.333300                       0.657100    1927.000000   \n",
       "25%               1.000000                       1.000000    1953.000000   \n",
       "50%               1.000000                       1.000000    1973.000000   \n",
       "75%               1.000000                       1.000000    1994.000000   \n",
       "max               1.000000                       1.000000    2014.000000   \n",
       "\n",
       "       year_of_award:confidence  year_of_award_gold  \n",
       "count                441.000000           11.000000  \n",
       "mean                   0.990082         1977.363636  \n",
       "std                    0.059177           21.592928  \n",
       "min                    0.333300         1942.000000  \n",
       "25%                    1.000000         1964.000000  \n",
       "50%                    1.000000         1977.000000  \n",
       "75%                    1.000000         1997.000000  \n",
       "max                    1.000000         2006.000000  "
      ]
     },
     "execution_count": 243,
     "metadata": {},
     "output_type": "execute_result"
    }
   ],
   "source": [
    "#SI corremos el describe() sobre todo el DF nos va a tirar el resultado\n",
    "#sobre todas las columnas que sean NUMERICAS (no va a tener en cuenta los objecs acá directamente)\n",
    "oscars_demographics.describe() "
   ]
  },
  {
   "cell_type": "markdown",
   "metadata": {},
   "source": [
    "## 3-Operaciones sobre series"
   ]
  },
  {
   "cell_type": "code",
   "execution_count": 246,
   "metadata": {},
   "outputs": [
    {
     "data": {
      "text/plain": [
       "0      3\n",
       "1      3\n",
       "2      3\n",
       "3      3\n",
       "4      3\n",
       "      ..\n",
       "436    3\n",
       "437    3\n",
       "438    3\n",
       "439    3\n",
       "440    3\n",
       "Name: _trusted_judgments, Length: 441, dtype: int64"
      ]
     },
     "execution_count": 246,
     "metadata": {},
     "output_type": "execute_result"
    }
   ],
   "source": [
    "#COmo dijismos antes.. cada columna de nuestro DF es una SERIE. \n",
    "#Nos quedamos con la columna _trusted_judgments... entonces tendremos una serie de valores asociados a esa columna:\n",
    "oscars_demographics['_trusted_judgments']"
   ]
  },
  {
   "cell_type": "code",
   "execution_count": 247,
   "metadata": {},
   "outputs": [
    {
     "data": {
      "text/plain": [
       "(3, 95, 7.63718820861678)"
      ]
     },
     "execution_count": 247,
     "metadata": {},
     "output_type": "execute_result"
    }
   ],
   "source": [
    "#Hacemos lo mismo que hicimos antes (calculamos la media, min y maximo de esa columa usnando los operadores que ya vimos):\n",
    "\n",
    "min_columna_trusted_j=oscars_demographics['_trusted_judgments'].min()\n",
    "max_columna_trusted_j=oscars_demographics['_trusted_judgments'].max()\n",
    "mean_columna_trusted_j=oscars_demographics['_trusted_judgments'].mean()\n",
    "\n",
    "#Y ahora imprimimos estos 3 resultados:\n",
    "min_columna_trusted_j, max_columna_trusted_j, mean_columna_trusted_j"
   ]
  },
  {
   "cell_type": "code",
   "execution_count": 249,
   "metadata": {},
   "outputs": [
    {
     "data": {
      "text/plain": [
       "3     416\n",
       "91      5\n",
       "87      3\n",
       "86      3\n",
       "84      2\n",
       "76      2\n",
       "75      2\n",
       "95      1\n",
       "92      1\n",
       "90      1\n",
       "89      1\n",
       "85      1\n",
       "82      1\n",
       "81      1\n",
       "62      1\n",
       "Name: _trusted_judgments, dtype: int64"
      ]
     },
     "execution_count": 249,
     "metadata": {},
     "output_type": "execute_result"
    }
   ],
   "source": [
    "#Ahora vamos a ver los valores posibles... utilizando el value_counts() que aplica sobre series:\n",
    "#Y vemos que el value 3 tiene 416 ocurrencias. Y los demás valores van bajando... \n",
    "#ya que esto está ordenado del valor más al menos frecuente.\n",
    "oscars_demographics['_trusted_judgments'].value_counts()"
   ]
  },
  {
   "cell_type": "code",
   "execution_count": 251,
   "metadata": {},
   "outputs": [
    {
     "data": {
      "text/plain": [
       "4"
      ]
     },
     "execution_count": 251,
     "metadata": {},
     "output_type": "execute_result"
    }
   ],
   "source": [
    "#Tambien podemos aplicar operaciones (al minumo le sumamos 1):\n",
    "min_columna_trusted_j+1  #COmo min_columna_trusted_j era 3, le sumamos 1 y nos da 4."
   ]
  },
  {
   "cell_type": "code",
   "execution_count": 254,
   "metadata": {},
   "outputs": [
    {
     "data": {
      "text/plain": [
       "0      4\n",
       "1      4\n",
       "2      4\n",
       "3      4\n",
       "4      4\n",
       "      ..\n",
       "436    4\n",
       "437    4\n",
       "438    4\n",
       "439    4\n",
       "440    4\n",
       "Name: _trusted_judgments, Length: 441, dtype: int64"
      ]
     },
     "execution_count": 254,
     "metadata": {},
     "output_type": "execute_result"
    }
   ],
   "source": [
    "#En cambio ahora si a la columna le sumamos 1 lo que vamos a obtener es \n",
    "#una serie que va a sumar 1 a cada valor de la columna (antes la mayorìa eran 3... ahora van a ser 4)\n",
    "oscars_demographics['_trusted_judgments'] + 1"
   ]
  },
  {
   "cell_type": "code",
   "execution_count": 255,
   "metadata": {},
   "outputs": [
    {
     "data": {
      "text/plain": [
       "0      9\n",
       "1      9\n",
       "2      9\n",
       "3      9\n",
       "4      9\n",
       "      ..\n",
       "436    9\n",
       "437    9\n",
       "438    9\n",
       "439    9\n",
       "440    9\n",
       "Name: _trusted_judgments, Length: 441, dtype: int64"
      ]
     },
     "execution_count": 255,
     "metadata": {},
     "output_type": "execute_result"
    }
   ],
   "source": [
    "#Tambien podemos aplicar multiplicación para cada uno de estos valores:\n",
    "oscars_demographics['_trusted_judgments'] * 3"
   ]
  },
  {
   "cell_type": "code",
   "execution_count": 258,
   "metadata": {},
   "outputs": [
    {
     "data": {
      "text/plain": [
       "False    433\n",
       "True       8\n",
       "Name: year_of_award, dtype: int64"
      ]
     },
     "execution_count": 258,
     "metadata": {},
     "output_type": "execute_result"
    }
   ],
   "source": [
    "#Anteriormente teniamos esto:\n",
    "oscars_years = oscars_demographics['year_of_award'] #es un int\n",
    "#Ahora vamos a ver cuales de estos son iguales a 1969:\n",
    "(oscars_years == 1969).value_counts()\n",
    "#Y nos tira que 8 son iguales.Y el 433 es para las ocurrencias que no son iguales a 1969.\n",
    "#Comparamos una serie con un valor.. y lo que nos devuelve es otra serie de igual cantidad de elementos\n",
    "#pero con valores booleanos, donde se ve si para cada elemento cumple o no la condición que le fijamos (que sea = a 1969)\n",
    "#Por esto si hacemos un value count sobre esa serie obtenemos la cantidad de Falses y de True (y está ordenado del mas al menos frecuente: por esto primero el False con 433)"
   ]
  },
  {
   "cell_type": "code",
   "execution_count": 266,
   "metadata": {},
   "outputs": [
    {
     "data": {
      "text/plain": [
       "True     437\n",
       "False      4\n",
       "Name: year_of_award, dtype: int64"
      ]
     },
     "execution_count": 266,
     "metadata": {},
     "output_type": "execute_result"
    }
   ],
   "source": [
    "(oscars_years < 2014).value_counts() #Vemos que no esta muy actualizado, solo tiene 4 peliculas mayores a 2014."
   ]
  },
  {
   "cell_type": "code",
   "execution_count": 267,
   "metadata": {},
   "outputs": [],
   "source": [
    "#Entonces... operadores:\n",
    "#Aritmeticos: +,-,/,//,%  \n",
    "    #Aritmeticos equivalentes: add, sub, mul, div, floordiv, mod, pow\n",
    "#De comparacion: <,>,<=,>=,==,!=\n",
    "    #De comparacion equivalentes: it, gt, le, ge, eq, ne"
   ]
  },
  {
   "cell_type": "code",
   "execution_count": 269,
   "metadata": {},
   "outputs": [
    {
     "data": {
      "text/plain": [
       "False    433\n",
       "True       8\n",
       "Name: year_of_award, dtype: int64"
      ]
     },
     "execution_count": 269,
     "metadata": {},
     "output_type": "execute_result"
    }
   ],
   "source": [
    "#ENtonces hacemos lo mismo con el equivalente al == en comparacion:\n",
    "oscars_years.eq(1969).value_counts()"
   ]
  },
  {
   "cell_type": "code",
   "execution_count": 277,
   "metadata": {},
   "outputs": [
    {
     "data": {
      "text/plain": [
       "0      True\n",
       "1      True\n",
       "2      True\n",
       "3      True\n",
       "4      True\n",
       "       ... \n",
       "436    True\n",
       "437    True\n",
       "438    True\n",
       "439    True\n",
       "440    True\n",
       "Name: year_of_award_gold, Length: 441, dtype: bool"
      ]
     },
     "execution_count": 277,
     "metadata": {},
     "output_type": "execute_result"
    }
   ],
   "source": [
    "#Los métodos tambien pueden encadenarse (para esto usamos el punto .)\n",
    "oscars_demographics['year_of_award_gold'].isnull() \n",
    "#Primero asi, sin concatenar. A la serie oscars_demographics['year_of_award_gold'] le \n",
    "#aplicamos innull() que nos va a dar valores T o F en función si es null o no lo es."
   ]
  },
  {
   "cell_type": "code",
   "execution_count": 280,
   "metadata": {},
   "outputs": [
    {
     "data": {
      "text/plain": [
       "430"
      ]
     },
     "execution_count": 280,
     "metadata": {},
     "output_type": "execute_result"
    }
   ],
   "source": [
    "#Ahora concatenamos con sum() lo anterior:\n",
    "oscars_demographics['year_of_award_gold'].isnull().sum()\n",
    "#Lo que hace esto es contar los NULLs que tenemos en la columna."
   ]
  },
  {
   "cell_type": "code",
   "execution_count": 282,
   "metadata": {},
   "outputs": [
    {
     "data": {
      "text/plain": [
       "0.9750566893424036"
      ]
     },
     "execution_count": 282,
     "metadata": {},
     "output_type": "execute_result"
    }
   ],
   "source": [
    "#Ahora concatenamos con mean():\n",
    "oscars_demographics['year_of_award_gold'].isnull().mean()\n",
    "#Ahora vemos la media/porcentaje de valores NO definidos (nulls) en esa columna:\n",
    "#En este caso el 97,5%... es null, BASTANTE."
   ]
  },
  {
   "cell_type": "code",
   "execution_count": 286,
   "metadata": {},
   "outputs": [
    {
     "data": {
      "text/plain": [
       "0.9750566893424036"
      ]
     },
     "execution_count": 286,
     "metadata": {},
     "output_type": "execute_result"
    }
   ],
   "source": [
    "#Para splitear y poder escribir código debajo usamos la barra invertida (\\)... para asi leer instrucciones de lineas muuuy largas\n",
    "#La barra invertida (\\) la hago con ALTGR + el botón de la izquierda debajo de escape.\n",
    "oscars_demographics['year_of_award_gold'].isnull()\\\n",
    "                    .mean()\n",
    "#SOlo visualmente lo separamos en 2 renglones para que no se haga largo."
   ]
  },
  {
   "cell_type": "code",
   "execution_count": 288,
   "metadata": {},
   "outputs": [
    {
     "data": {
      "text/plain": [
       "0.9750566893424036"
      ]
     },
     "execution_count": 288,
     "metadata": {},
     "output_type": "execute_result"
    }
   ],
   "source": [
    "#Otra opcion para hacer lo mismo que con la barra invertida es\n",
    "#METER TODO ENTRE PARENTESIS:\n",
    "( oscars_demographics['year_of_award_gold'].isnull()\n",
    "                    .mean() )"
   ]
  },
  {
   "cell_type": "markdown",
   "metadata": {},
   "source": [
    "## 4-Limpieza de dataset y manejo de indices"
   ]
  },
  {
   "cell_type": "code",
   "execution_count": null,
   "metadata": {},
   "outputs": [],
   "source": []
  }
 ],
 "metadata": {
  "kernelspec": {
   "display_name": "Python 3",
   "language": "python",
   "name": "python3"
  },
  "language_info": {
   "codemirror_mode": {
    "name": "ipython",
    "version": 3
   },
   "file_extension": ".py",
   "mimetype": "text/x-python",
   "name": "python",
   "nbconvert_exporter": "python",
   "pygments_lexer": "ipython3",
   "version": "3.7.6"
  }
 },
 "nbformat": 4,
 "nbformat_minor": 4
}
