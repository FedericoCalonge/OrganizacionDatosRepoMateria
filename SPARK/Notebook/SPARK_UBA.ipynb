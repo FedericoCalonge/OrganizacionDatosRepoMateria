{
  "nbformat": 4,
  "nbformat_minor": 0,
  "metadata": {
    "colab": {
      "name": "SPARK_UBA.ipynb",
      "provenance": [],
      "collapsed_sections": [],
      "include_colab_link": true
    },
    "kernelspec": {
      "name": "python3",
      "display_name": "Python 3"
    }
  },
  "cells": [
    {
      "cell_type": "markdown",
      "metadata": {
        "id": "view-in-github",
        "colab_type": "text"
      },
      "source": [
        "<a href=\"https://colab.research.google.com/github/FedericoCalonge/OrganizacionDatosRepoMateria/blob/master/SPARK/Notebook/SPARK_UBA.ipynb\" target=\"_parent\"><img src=\"https://colab.research.google.com/assets/colab-badge.svg\" alt=\"Open In Colab\"/></a>"
      ]
    },
    {
      "cell_type": "markdown",
      "metadata": {
        "id": "uRxHlLY88tcD",
        "colab_type": "text"
      },
      "source": [
        "# 1-Inicio SPARK y Lectura de datos.\n",
        "\n",
        "Vamos a ver cómo leer datos de un archivo con Spark y como hacerlo mediante transformaciones y acciones. \n"
      ]
    },
    {
      "cell_type": "markdown",
      "metadata": {
        "id": "KHdU05jEP1EY",
        "colab_type": "text"
      },
      "source": [
        "## Instalamos e importamos librerías"
      ]
    },
    {
      "cell_type": "code",
      "metadata": {
        "id": "fnV5re322Wz9",
        "colab_type": "code",
        "colab": {
          "base_uri": "https://localhost:8080/",
          "height": 131
        },
        "outputId": "0f1598ec-5b26-4a9f-ffff-fbb3fa9e6059"
      },
      "source": [
        "!pip install pyspark\n",
        "!pip install -U -q PyDrive\n",
        "!apt install openjdk-8-jdk-headless -qq\n",
        "import os\n",
        "os.environ[\"JAVA_HOME\"] = \"/usr/lib/jvm/java-8-openjdk-amd64\""
      ],
      "execution_count": null,
      "outputs": [
        {
          "output_type": "stream",
          "text": [
            "Requirement already satisfied: pyspark in /usr/local/lib/python3.6/dist-packages (3.0.0)\n",
            "Requirement already satisfied: py4j==0.10.9 in /usr/local/lib/python3.6/dist-packages (from pyspark) (0.10.9)\n",
            "openjdk-8-jdk-headless is already the newest version (8u252-b09-1~18.04).\n",
            "The following package was automatically installed and is no longer required:\n",
            "  libnvidia-common-440\n",
            "Use 'apt autoremove' to remove it.\n",
            "0 upgraded, 0 newly installed, 0 to remove and 35 not upgraded.\n"
          ],
          "name": "stdout"
        }
      ]
    },
    {
      "cell_type": "code",
      "metadata": {
        "id": "nhYIAjti3iaf",
        "colab_type": "code",
        "colab": {}
      },
      "source": [
        "from pydrive.auth import GoogleAuth\n",
        "from pydrive.drive import GoogleDrive\n",
        "from google.colab import auth\n",
        "from oauth2client.client import GoogleCredentials\n",
        "from pyspark.sql import *\n",
        "from pyspark.sql.functions import *\n",
        "from pyspark import SparkContext\n",
        "from pyspark.sql import SQLContext\n",
        "import pandas as pd"
      ],
      "execution_count": null,
      "outputs": []
    },
    {
      "cell_type": "markdown",
      "metadata": {
        "id": "Xlsys9XvQHGK",
        "colab_type": "text"
      },
      "source": [
        "## Autenticamos con Google Drive"
      ]
    },
    {
      "cell_type": "code",
      "metadata": {
        "id": "WmVhF9Pi3mbH",
        "colab_type": "code",
        "colab": {}
      },
      "source": [
        "#Esto lo hacemos para poder bajar archivos de Google Drive.\n",
        "#Tenemos que entrar al link y colocar el código de verificación.\n",
        "auth.authenticate_user()\n",
        "gauth = GoogleAuth()\n",
        "gauth.credentials = GoogleCredentials.get_application_default()\n",
        "drive = GoogleDrive(gauth)"
      ],
      "execution_count": null,
      "outputs": []
    },
    {
      "cell_type": "code",
      "metadata": {
        "id": "WFdCQedFL7Z0",
        "colab_type": "code",
        "colab": {
          "base_uri": "https://localhost:8080/",
          "height": 33
        },
        "outputId": "e496e470-1526-4c93-be98-0036a53c4443"
      },
      "source": [
        "#Esto es por si queremos montar nuestra Carpeta de Google al directorio de Files que vemos a la izquierda en el ícono \"Archivos/Files\" \n",
        "#(para así poder guardar o cargar archivos desde ahí).\n",
        "from google.colab import drive\n",
        "drive.mount('/content/drive')"
      ],
      "execution_count": null,
      "outputs": [
        {
          "output_type": "stream",
          "text": [
            "Drive already mounted at /content/drive; to attempt to forcibly remount, call drive.mount(\"/content/drive\", force_remount=True).\n"
          ],
          "name": "stdout"
        }
      ]
    },
    {
      "cell_type": "code",
      "metadata": {
        "id": "6jjZsgQTOPgm",
        "colab_type": "code",
        "colab": {
          "base_uri": "https://localhost:8080/",
          "height": 180
        },
        "outputId": "584fdf56-262e-4d83-b3a5-ec2b5024004b"
      },
      "source": [
        "!ls \"/content/drive/My Drive\""
      ],
      "execution_count": null,
      "outputs": [
        {
          "output_type": "stream",
          "text": [
            "'Backups Obligatorios Sincronizados'\n",
            "'Colab Notebooks'\n",
            " ContinuacionDjangoCurso4.rar\n",
            "'CSVs TP1-OrgaDeDatos'\n",
            "'Documento sin título.gdoc'\n",
            "'Grupo Tecnico IA'\n",
            "'HTML - CSS - BOOTSTRAP - PYTHONDJANGO.rar'\n",
            " s.txt\n",
            "'TL4 Ejemplos'\n",
            "'TP1 - Organizacion de Datos - Undav_Team'\n"
          ],
          "name": "stdout"
        }
      ]
    },
    {
      "cell_type": "markdown",
      "metadata": {
        "id": "8qZCCf99QPGn",
        "colab_type": "text"
      },
      "source": [
        "## Bajamos archivo con la colección de Shakespeare"
      ]
    },
    {
      "cell_type": "code",
      "metadata": {
        "id": "CoqqUqNV3wFZ",
        "colab_type": "code",
        "colab": {}
      },
      "source": [
        "#Acá bajamos el archivo s.txt que son textos de Sheckspeare que vamos a usar más adelante para algunos ejemplos.\n",
        "downloaded = drive.CreateFile({'id':\"1ybtSQxrqVqbRrl_3FMzMYW03Flp4zM-j\"})   # Este es el ID del archivo que queremos tener acceso (que lo tiene el profe en su Drive). DESPUES VER COMO ACCEDER A ESE EN EL NAVEGADOR.\n",
        "downloaded.GetContentFile(\"/content/drive/My Drive/Colab Notebooks/UBAs.txt\")   #Este txt lo vemos a la izquierda yendo al ícono \"Archivos/Files\" y lo vemos en esa ruta que lo coloqué."
      ],
      "execution_count": null,
      "outputs": []
    },
    {
      "cell_type": "markdown",
      "metadata": {
        "id": "JCKfIhFUQiyg",
        "colab_type": "text"
      },
      "source": [
        "## Creamos el Spark Context"
      ]
    },
    {
      "cell_type": "code",
      "metadata": {
        "id": "5ENPglW_4Cco",
        "colab_type": "code",
        "colab": {}
      },
      "source": [
        "#Tenemos que crear el \"Spark Context\" para poder trabajar con Spark. \n",
        "\n",
        "# 1ro creamos una sesión de Spark:\n",
        "spark = SparkSession.builder.getOrCreate()\n",
        "\n",
        "# Y luego de esta variable spark (nuestra sesión) obtenemos el contexto de Spark:\n",
        "sc = spark.sparkContext\n",
        "\n",
        "#Y esta variable, sc, es la que vamos a utilizar para comunicarnos con Spark."
      ],
      "execution_count": null,
      "outputs": []
    },
    {
      "cell_type": "code",
      "metadata": {
        "id": "68-dxCy6IqWv",
        "colab_type": "code",
        "colab": {
          "base_uri": "https://localhost:8080/",
          "height": 33
        },
        "outputId": "cb51139e-e009-48e5-875b-dcff49cd2377"
      },
      "source": [
        "type(sc)"
      ],
      "execution_count": null,
      "outputs": [
        {
          "output_type": "execute_result",
          "data": {
            "text/plain": [
              "pyspark.context.SparkContext"
            ]
          },
          "metadata": {
            "tags": []
          },
          "execution_count": 24
        }
      ]
    },
    {
      "cell_type": "markdown",
      "metadata": {
        "id": "-CbdyUxRQuO1",
        "colab_type": "text"
      },
      "source": [
        "## Lectura de datos en Spark\n",
        "\n",
        "Vamos a ver cómo leer datos en Spark. \n",
        "Vamos a ver 3 formas de hacerlo."
      ]
    },
    {
      "cell_type": "markdown",
      "metadata": {
        "id": "4hsKVzAOJCNZ",
        "colab_type": "text"
      },
      "source": [
        "### Forma 1 - Paralelizando una coleccion de python"
      ]
    },
    {
      "cell_type": "code",
      "metadata": {
        "id": "SlaLdgdfI6Nm",
        "colab_type": "code",
        "colab": {
          "base_uri": "https://localhost:8080/",
          "height": 33
        },
        "outputId": "20c6b898-3a1d-4460-bbb0-b7d9cbee8984"
      },
      "source": [
        "#La idea de esta manera es tener una colección de datos en Python y paralelizarlos en un RDD con Spark.\n",
        "\n",
        "integersList = range(1,1001) ## Creamos una lista de entero del 1 al 1000 (no incluye al 1001).\n",
        "len(integersList)"
      ],
      "execution_count": null,
      "outputs": [
        {
          "output_type": "execute_result",
          "data": {
            "text/plain": [
              "1000"
            ]
          },
          "metadata": {
            "tags": []
          },
          "execution_count": 25
        }
      ]
    },
    {
      "cell_type": "code",
      "metadata": {
        "id": "Cg31cLQYJQFP",
        "colab_type": "code",
        "colab": {
          "base_uri": "https://localhost:8080/",
          "height": 33
        },
        "outputId": "4c3dba95-0378-494d-a4b6-45d5e68727ff"
      },
      "source": [
        "#Ahora para transformar esta variable de Python en un RDD lo que hacemos es llamar al método\n",
        "#parallelize (que es de sc, osea del Spark Context). Si ponemos el puntero del mouse sobre la función parallelize\n",
        "# nos tira la info de ese método. Nos dice que parallelize permite distribuir una colección de Python local\n",
        "#en un RDD, y el 2do parametro (slice, en el que pusimos 8) es la cantidad de particiones en que queremos que divida \n",
        "#Spark ese RDD.\n",
        "\n",
        "#De esta manera paralelizamos la coleccion utilizando 8 particiones o slices\n",
        "#Esta operacion es una transformacion de datos en un RDD. Y dado que Spark usa lazy evaluation, no corren jobs de Spark hasta el momento.\n",
        "\n",
        "integersListRDD = sc.parallelize(integersList, 8) #Entonces le pasamos la lista de enteros y le decimos que lo divida en 8 particiones. \n",
        "type(integersListRDD) #Entonces ahora en integersListRDD tenemos un RDD de Spark que podemos utilizarlo para luego procesarlo."
      ],
      "execution_count": null,
      "outputs": [
        {
          "output_type": "execute_result",
          "data": {
            "text/plain": [
              "pyspark.rdd.PipelinedRDD"
            ]
          },
          "metadata": {
            "tags": []
          },
          "execution_count": 26
        }
      ]
    },
    {
      "cell_type": "code",
      "metadata": {
        "id": "1YieMrEDJXEQ",
        "colab_type": "code",
        "colab": {
          "base_uri": "https://localhost:8080/",
          "height": 33
        },
        "outputId": "8d70f925-a41e-40b2-e3d3-4a3bc9f5ad4e"
      },
      "source": [
        "integersListRDD.getNumPartitions() #Para comprobar efectivamente que el RDD está dividido en 8 particiones (que fue lo que le indicamos cuando lo creamos)"
      ],
      "execution_count": null,
      "outputs": [
        {
          "output_type": "execute_result",
          "data": {
            "text/plain": [
              "8"
            ]
          },
          "metadata": {
            "tags": []
          },
          "execution_count": 27
        }
      ]
    },
    {
      "cell_type": "code",
      "metadata": {
        "id": "3R9126T7JiA0",
        "colab_type": "code",
        "colab": {
          "base_uri": "https://localhost:8080/",
          "height": 33
        },
        "outputId": "9d33a38c-8211-4f4e-e776-c8c76b158bfe"
      },
      "source": [
        "integersListRDD.toDebugString() #Método que nos permite llamar a un RDD que tenga transformaciones \n",
        "#para ver dichas transformaciones que se aplican en el RDD. Como en nuestro caso es un RDD que recién creamos solo\n",
        "#tenemos la operación de paralelización ('ParallelCollectionRDD'). "
      ],
      "execution_count": null,
      "outputs": [
        {
          "output_type": "execute_result",
          "data": {
            "text/plain": [
              "b'(8) PythonRDD[1] at RDD at PythonRDD.scala:53 []\\n |  ParallelCollectionRDD[0] at readRDDFromFile at PythonRDD.scala:262 []'"
            ]
          },
          "metadata": {
            "tags": []
          },
          "execution_count": 28
        }
      ]
    },
    {
      "cell_type": "code",
      "metadata": {
        "id": "ekG7ZqGOJm3-",
        "colab_type": "code",
        "colab": {
          "base_uri": "https://localhost:8080/",
          "height": 1000
        },
        "outputId": "569ed278-b3b7-4dfd-cfb2-b6fa265e35db"
      },
      "source": [
        "help(integersListRDD) #Para ver más métodos disponibles para utilizar en estructuras RDDs."
      ],
      "execution_count": null,
      "outputs": [
        {
          "output_type": "stream",
          "text": [
            "Help on PipelinedRDD in module pyspark.rdd object:\n",
            "\n",
            "class PipelinedRDD(RDD)\n",
            " |  Pipelined maps:\n",
            " |  \n",
            " |  >>> rdd = sc.parallelize([1, 2, 3, 4])\n",
            " |  >>> rdd.map(lambda x: 2 * x).cache().map(lambda x: 2 * x).collect()\n",
            " |  [4, 8, 12, 16]\n",
            " |  >>> rdd.map(lambda x: 2 * x).map(lambda x: 2 * x).collect()\n",
            " |  [4, 8, 12, 16]\n",
            " |  \n",
            " |  Pipelined reduces:\n",
            " |  >>> from operator import add\n",
            " |  >>> rdd.map(lambda x: 2 * x).reduce(add)\n",
            " |  20\n",
            " |  >>> rdd.flatMap(lambda x: [x, x]).reduce(add)\n",
            " |  20\n",
            " |  \n",
            " |  Method resolution order:\n",
            " |      PipelinedRDD\n",
            " |      RDD\n",
            " |      builtins.object\n",
            " |  \n",
            " |  Methods defined here:\n",
            " |  \n",
            " |  __init__(self, prev, func, preservesPartitioning=False, isFromBarrier=False)\n",
            " |      Initialize self.  See help(type(self)) for accurate signature.\n",
            " |  \n",
            " |  getNumPartitions(self)\n",
            " |      Returns the number of partitions in RDD\n",
            " |      \n",
            " |      >>> rdd = sc.parallelize([1, 2, 3, 4], 2)\n",
            " |      >>> rdd.getNumPartitions()\n",
            " |      2\n",
            " |  \n",
            " |  id(self)\n",
            " |      A unique ID for this RDD (within its SparkContext).\n",
            " |  \n",
            " |  ----------------------------------------------------------------------\n",
            " |  Methods inherited from RDD:\n",
            " |  \n",
            " |  __add__(self, other)\n",
            " |      Return the union of this RDD and another one.\n",
            " |      \n",
            " |      >>> rdd = sc.parallelize([1, 1, 2, 3])\n",
            " |      >>> (rdd + rdd).collect()\n",
            " |      [1, 1, 2, 3, 1, 1, 2, 3]\n",
            " |  \n",
            " |  __getnewargs__(self)\n",
            " |  \n",
            " |  __repr__(self)\n",
            " |      Return repr(self).\n",
            " |  \n",
            " |  aggregate(self, zeroValue, seqOp, combOp)\n",
            " |      Aggregate the elements of each partition, and then the results for all\n",
            " |      the partitions, using a given combine functions and a neutral \"zero\n",
            " |      value.\"\n",
            " |      \n",
            " |      The functions ``op(t1, t2)`` is allowed to modify ``t1`` and return it\n",
            " |      as its result value to avoid object allocation; however, it should not\n",
            " |      modify ``t2``.\n",
            " |      \n",
            " |      The first function (seqOp) can return a different result type, U, than\n",
            " |      the type of this RDD. Thus, we need one operation for merging a T into\n",
            " |      an U and one operation for merging two U\n",
            " |      \n",
            " |      >>> seqOp = (lambda x, y: (x[0] + y, x[1] + 1))\n",
            " |      >>> combOp = (lambda x, y: (x[0] + y[0], x[1] + y[1]))\n",
            " |      >>> sc.parallelize([1, 2, 3, 4]).aggregate((0, 0), seqOp, combOp)\n",
            " |      (10, 4)\n",
            " |      >>> sc.parallelize([]).aggregate((0, 0), seqOp, combOp)\n",
            " |      (0, 0)\n",
            " |  \n",
            " |  aggregateByKey(self, zeroValue, seqFunc, combFunc, numPartitions=None, partitionFunc=<function portable_hash at 0x7fba63b470d0>)\n",
            " |      Aggregate the values of each key, using given combine functions and a neutral\n",
            " |      \"zero value\". This function can return a different result type, U, than the type\n",
            " |      of the values in this RDD, V. Thus, we need one operation for merging a V into\n",
            " |      a U and one operation for merging two U's, The former operation is used for merging\n",
            " |      values within a partition, and the latter is used for merging values between\n",
            " |      partitions. To avoid memory allocation, both of these functions are\n",
            " |      allowed to modify and return their first argument instead of creating a new U.\n",
            " |  \n",
            " |  barrier(self)\n",
            " |      .. note:: Experimental\n",
            " |      \n",
            " |      Marks the current stage as a barrier stage, where Spark must launch all tasks together.\n",
            " |      In case of a task failure, instead of only restarting the failed task, Spark will abort the\n",
            " |      entire stage and relaunch all tasks for this stage.\n",
            " |      The barrier execution mode feature is experimental and it only handles limited scenarios.\n",
            " |      Please read the linked SPIP and design docs to understand the limitations and future plans.\n",
            " |      \n",
            " |      :return: an :class:`RDDBarrier` instance that provides actions within a barrier stage.\n",
            " |      \n",
            " |      .. seealso:: :class:`BarrierTaskContext`\n",
            " |      .. seealso:: `SPIP: Barrier Execution Mode\n",
            " |          <http://jira.apache.org/jira/browse/SPARK-24374>`_\n",
            " |      .. seealso:: `Design Doc <https://jira.apache.org/jira/browse/SPARK-24582>`_\n",
            " |      \n",
            " |      .. versionadded:: 2.4.0\n",
            " |  \n",
            " |  cache(self)\n",
            " |      Persist this RDD with the default storage level (`MEMORY_ONLY`).\n",
            " |  \n",
            " |  cartesian(self, other)\n",
            " |      Return the Cartesian product of this RDD and another one, that is, the\n",
            " |      RDD of all pairs of elements ``(a, b)`` where ``a`` is in `self` and\n",
            " |      ``b`` is in `other`.\n",
            " |      \n",
            " |      >>> rdd = sc.parallelize([1, 2])\n",
            " |      >>> sorted(rdd.cartesian(rdd).collect())\n",
            " |      [(1, 1), (1, 2), (2, 1), (2, 2)]\n",
            " |  \n",
            " |  checkpoint(self)\n",
            " |      Mark this RDD for checkpointing. It will be saved to a file inside the\n",
            " |      checkpoint directory set with :meth:`SparkContext.setCheckpointDir` and\n",
            " |      all references to its parent RDDs will be removed. This function must\n",
            " |      be called before any job has been executed on this RDD. It is strongly\n",
            " |      recommended that this RDD is persisted in memory, otherwise saving it\n",
            " |      on a file will require recomputation.\n",
            " |  \n",
            " |  coalesce(self, numPartitions, shuffle=False)\n",
            " |      Return a new RDD that is reduced into `numPartitions` partitions.\n",
            " |      \n",
            " |      >>> sc.parallelize([1, 2, 3, 4, 5], 3).glom().collect()\n",
            " |      [[1], [2, 3], [4, 5]]\n",
            " |      >>> sc.parallelize([1, 2, 3, 4, 5], 3).coalesce(1).glom().collect()\n",
            " |      [[1, 2, 3, 4, 5]]\n",
            " |  \n",
            " |  cogroup(self, other, numPartitions=None)\n",
            " |      For each key k in `self` or `other`, return a resulting RDD that\n",
            " |      contains a tuple with the list of values for that key in `self` as\n",
            " |      well as `other`.\n",
            " |      \n",
            " |      >>> x = sc.parallelize([(\"a\", 1), (\"b\", 4)])\n",
            " |      >>> y = sc.parallelize([(\"a\", 2)])\n",
            " |      >>> [(x, tuple(map(list, y))) for x, y in sorted(list(x.cogroup(y).collect()))]\n",
            " |      [('a', ([1], [2])), ('b', ([4], []))]\n",
            " |  \n",
            " |  collect(self)\n",
            " |      Return a list that contains all of the elements in this RDD.\n",
            " |      \n",
            " |      .. note:: This method should only be used if the resulting array is expected\n",
            " |          to be small, as all the data is loaded into the driver's memory.\n",
            " |  \n",
            " |  collectAsMap(self)\n",
            " |      Return the key-value pairs in this RDD to the master as a dictionary.\n",
            " |      \n",
            " |      .. note:: this method should only be used if the resulting data is expected\n",
            " |          to be small, as all the data is loaded into the driver's memory.\n",
            " |      \n",
            " |      >>> m = sc.parallelize([(1, 2), (3, 4)]).collectAsMap()\n",
            " |      >>> m[1]\n",
            " |      2\n",
            " |      >>> m[3]\n",
            " |      4\n",
            " |  \n",
            " |  collectWithJobGroup(self, groupId, description, interruptOnCancel=False)\n",
            " |      .. note:: Experimental\n",
            " |      \n",
            " |      When collect rdd, use this method to specify job group.\n",
            " |      \n",
            " |      .. versionadded:: 3.0.0\n",
            " |  \n",
            " |  combineByKey(self, createCombiner, mergeValue, mergeCombiners, numPartitions=None, partitionFunc=<function portable_hash at 0x7fba63b470d0>)\n",
            " |      Generic function to combine the elements for each key using a custom\n",
            " |      set of aggregation functions.\n",
            " |      \n",
            " |      Turns an RDD[(K, V)] into a result of type RDD[(K, C)], for a \"combined\n",
            " |      type\" C.\n",
            " |      \n",
            " |      Users provide three functions:\n",
            " |      \n",
            " |          - `createCombiner`, which turns a V into a C (e.g., creates\n",
            " |            a one-element list)\n",
            " |          - `mergeValue`, to merge a V into a C (e.g., adds it to the end of\n",
            " |            a list)\n",
            " |          - `mergeCombiners`, to combine two C's into a single one (e.g., merges\n",
            " |            the lists)\n",
            " |      \n",
            " |      To avoid memory allocation, both mergeValue and mergeCombiners are allowed to\n",
            " |      modify and return their first argument instead of creating a new C.\n",
            " |      \n",
            " |      In addition, users can control the partitioning of the output RDD.\n",
            " |      \n",
            " |      .. note:: V and C can be different -- for example, one might group an RDD of type\n",
            " |          (Int, Int) into an RDD of type (Int, List[Int]).\n",
            " |      \n",
            " |      >>> x = sc.parallelize([(\"a\", 1), (\"b\", 1), (\"a\", 2)])\n",
            " |      >>> def to_list(a):\n",
            " |      ...     return [a]\n",
            " |      ...\n",
            " |      >>> def append(a, b):\n",
            " |      ...     a.append(b)\n",
            " |      ...     return a\n",
            " |      ...\n",
            " |      >>> def extend(a, b):\n",
            " |      ...     a.extend(b)\n",
            " |      ...     return a\n",
            " |      ...\n",
            " |      >>> sorted(x.combineByKey(to_list, append, extend).collect())\n",
            " |      [('a', [1, 2]), ('b', [1])]\n",
            " |  \n",
            " |  count(self)\n",
            " |      Return the number of elements in this RDD.\n",
            " |      \n",
            " |      >>> sc.parallelize([2, 3, 4]).count()\n",
            " |      3\n",
            " |  \n",
            " |  countApprox(self, timeout, confidence=0.95)\n",
            " |      Approximate version of count() that returns a potentially incomplete\n",
            " |      result within a timeout, even if not all tasks have finished.\n",
            " |      \n",
            " |      >>> rdd = sc.parallelize(range(1000), 10)\n",
            " |      >>> rdd.countApprox(1000, 1.0)\n",
            " |      1000\n",
            " |  \n",
            " |  countApproxDistinct(self, relativeSD=0.05)\n",
            " |      Return approximate number of distinct elements in the RDD.\n",
            " |      \n",
            " |      The algorithm used is based on streamlib's implementation of\n",
            " |      `\"HyperLogLog in Practice: Algorithmic Engineering of a State\n",
            " |      of The Art Cardinality Estimation Algorithm\", available here\n",
            " |      <https://doi.org/10.1145/2452376.2452456>`_.\n",
            " |      \n",
            " |      :param relativeSD: Relative accuracy. Smaller values create\n",
            " |                         counters that require more space.\n",
            " |                         It must be greater than 0.000017.\n",
            " |      \n",
            " |      >>> n = sc.parallelize(range(1000)).map(str).countApproxDistinct()\n",
            " |      >>> 900 < n < 1100\n",
            " |      True\n",
            " |      >>> n = sc.parallelize([i % 20 for i in range(1000)]).countApproxDistinct()\n",
            " |      >>> 16 < n < 24\n",
            " |      True\n",
            " |  \n",
            " |  countByKey(self)\n",
            " |      Count the number of elements for each key, and return the result to the\n",
            " |      master as a dictionary.\n",
            " |      \n",
            " |      >>> rdd = sc.parallelize([(\"a\", 1), (\"b\", 1), (\"a\", 1)])\n",
            " |      >>> sorted(rdd.countByKey().items())\n",
            " |      [('a', 2), ('b', 1)]\n",
            " |  \n",
            " |  countByValue(self)\n",
            " |      Return the count of each unique value in this RDD as a dictionary of\n",
            " |      (value, count) pairs.\n",
            " |      \n",
            " |      >>> sorted(sc.parallelize([1, 2, 1, 2, 2], 2).countByValue().items())\n",
            " |      [(1, 2), (2, 3)]\n",
            " |  \n",
            " |  distinct(self, numPartitions=None)\n",
            " |      Return a new RDD containing the distinct elements in this RDD.\n",
            " |      \n",
            " |      >>> sorted(sc.parallelize([1, 1, 2, 3]).distinct().collect())\n",
            " |      [1, 2, 3]\n",
            " |  \n",
            " |  filter(self, f)\n",
            " |      Return a new RDD containing only the elements that satisfy a predicate.\n",
            " |      \n",
            " |      >>> rdd = sc.parallelize([1, 2, 3, 4, 5])\n",
            " |      >>> rdd.filter(lambda x: x % 2 == 0).collect()\n",
            " |      [2, 4]\n",
            " |  \n",
            " |  first(self)\n",
            " |      Return the first element in this RDD.\n",
            " |      \n",
            " |      >>> sc.parallelize([2, 3, 4]).first()\n",
            " |      2\n",
            " |      >>> sc.parallelize([]).first()\n",
            " |      Traceback (most recent call last):\n",
            " |          ...\n",
            " |      ValueError: RDD is empty\n",
            " |  \n",
            " |  flatMap(self, f, preservesPartitioning=False)\n",
            " |      Return a new RDD by first applying a function to all elements of this\n",
            " |      RDD, and then flattening the results.\n",
            " |      \n",
            " |      >>> rdd = sc.parallelize([2, 3, 4])\n",
            " |      >>> sorted(rdd.flatMap(lambda x: range(1, x)).collect())\n",
            " |      [1, 1, 1, 2, 2, 3]\n",
            " |      >>> sorted(rdd.flatMap(lambda x: [(x, x), (x, x)]).collect())\n",
            " |      [(2, 2), (2, 2), (3, 3), (3, 3), (4, 4), (4, 4)]\n",
            " |  \n",
            " |  flatMapValues(self, f)\n",
            " |      Pass each value in the key-value pair RDD through a flatMap function\n",
            " |      without changing the keys; this also retains the original RDD's\n",
            " |      partitioning.\n",
            " |      \n",
            " |      >>> x = sc.parallelize([(\"a\", [\"x\", \"y\", \"z\"]), (\"b\", [\"p\", \"r\"])])\n",
            " |      >>> def f(x): return x\n",
            " |      >>> x.flatMapValues(f).collect()\n",
            " |      [('a', 'x'), ('a', 'y'), ('a', 'z'), ('b', 'p'), ('b', 'r')]\n",
            " |  \n",
            " |  fold(self, zeroValue, op)\n",
            " |      Aggregate the elements of each partition, and then the results for all\n",
            " |      the partitions, using a given associative function and a neutral \"zero value.\"\n",
            " |      \n",
            " |      The function ``op(t1, t2)`` is allowed to modify ``t1`` and return it\n",
            " |      as its result value to avoid object allocation; however, it should not\n",
            " |      modify ``t2``.\n",
            " |      \n",
            " |      This behaves somewhat differently from fold operations implemented\n",
            " |      for non-distributed collections in functional languages like Scala.\n",
            " |      This fold operation may be applied to partitions individually, and then\n",
            " |      fold those results into the final result, rather than apply the fold\n",
            " |      to each element sequentially in some defined ordering. For functions\n",
            " |      that are not commutative, the result may differ from that of a fold\n",
            " |      applied to a non-distributed collection.\n",
            " |      \n",
            " |      >>> from operator import add\n",
            " |      >>> sc.parallelize([1, 2, 3, 4, 5]).fold(0, add)\n",
            " |      15\n",
            " |  \n",
            " |  foldByKey(self, zeroValue, func, numPartitions=None, partitionFunc=<function portable_hash at 0x7fba63b470d0>)\n",
            " |      Merge the values for each key using an associative function \"func\"\n",
            " |      and a neutral \"zeroValue\" which may be added to the result an\n",
            " |      arbitrary number of times, and must not change the result\n",
            " |      (e.g., 0 for addition, or 1 for multiplication.).\n",
            " |      \n",
            " |      >>> rdd = sc.parallelize([(\"a\", 1), (\"b\", 1), (\"a\", 1)])\n",
            " |      >>> from operator import add\n",
            " |      >>> sorted(rdd.foldByKey(0, add).collect())\n",
            " |      [('a', 2), ('b', 1)]\n",
            " |  \n",
            " |  foreach(self, f)\n",
            " |      Applies a function to all elements of this RDD.\n",
            " |      \n",
            " |      >>> def f(x): print(x)\n",
            " |      >>> sc.parallelize([1, 2, 3, 4, 5]).foreach(f)\n",
            " |  \n",
            " |  foreachPartition(self, f)\n",
            " |      Applies a function to each partition of this RDD.\n",
            " |      \n",
            " |      >>> def f(iterator):\n",
            " |      ...     for x in iterator:\n",
            " |      ...          print(x)\n",
            " |      >>> sc.parallelize([1, 2, 3, 4, 5]).foreachPartition(f)\n",
            " |  \n",
            " |  fullOuterJoin(self, other, numPartitions=None)\n",
            " |      Perform a right outer join of `self` and `other`.\n",
            " |      \n",
            " |      For each element (k, v) in `self`, the resulting RDD will either\n",
            " |      contain all pairs (k, (v, w)) for w in `other`, or the pair\n",
            " |      (k, (v, None)) if no elements in `other` have key k.\n",
            " |      \n",
            " |      Similarly, for each element (k, w) in `other`, the resulting RDD will\n",
            " |      either contain all pairs (k, (v, w)) for v in `self`, or the pair\n",
            " |      (k, (None, w)) if no elements in `self` have key k.\n",
            " |      \n",
            " |      Hash-partitions the resulting RDD into the given number of partitions.\n",
            " |      \n",
            " |      >>> x = sc.parallelize([(\"a\", 1), (\"b\", 4)])\n",
            " |      >>> y = sc.parallelize([(\"a\", 2), (\"c\", 8)])\n",
            " |      >>> sorted(x.fullOuterJoin(y).collect())\n",
            " |      [('a', (1, 2)), ('b', (4, None)), ('c', (None, 8))]\n",
            " |  \n",
            " |  getCheckpointFile(self)\n",
            " |      Gets the name of the file to which this RDD was checkpointed\n",
            " |      \n",
            " |      Not defined if RDD is checkpointed locally.\n",
            " |  \n",
            " |  getStorageLevel(self)\n",
            " |      Get the RDD's current storage level.\n",
            " |      \n",
            " |      >>> rdd1 = sc.parallelize([1,2])\n",
            " |      >>> rdd1.getStorageLevel()\n",
            " |      StorageLevel(False, False, False, False, 1)\n",
            " |      >>> print(rdd1.getStorageLevel())\n",
            " |      Serialized 1x Replicated\n",
            " |  \n",
            " |  glom(self)\n",
            " |      Return an RDD created by coalescing all elements within each partition\n",
            " |      into a list.\n",
            " |      \n",
            " |      >>> rdd = sc.parallelize([1, 2, 3, 4], 2)\n",
            " |      >>> sorted(rdd.glom().collect())\n",
            " |      [[1, 2], [3, 4]]\n",
            " |  \n",
            " |  groupBy(self, f, numPartitions=None, partitionFunc=<function portable_hash at 0x7fba63b470d0>)\n",
            " |      Return an RDD of grouped items.\n",
            " |      \n",
            " |      >>> rdd = sc.parallelize([1, 1, 2, 3, 5, 8])\n",
            " |      >>> result = rdd.groupBy(lambda x: x % 2).collect()\n",
            " |      >>> sorted([(x, sorted(y)) for (x, y) in result])\n",
            " |      [(0, [2, 8]), (1, [1, 1, 3, 5])]\n",
            " |  \n",
            " |  groupByKey(self, numPartitions=None, partitionFunc=<function portable_hash at 0x7fba63b470d0>)\n",
            " |      Group the values for each key in the RDD into a single sequence.\n",
            " |      Hash-partitions the resulting RDD with numPartitions partitions.\n",
            " |      \n",
            " |      .. note:: If you are grouping in order to perform an aggregation (such as a\n",
            " |          sum or average) over each key, using reduceByKey or aggregateByKey will\n",
            " |          provide much better performance.\n",
            " |      \n",
            " |      >>> rdd = sc.parallelize([(\"a\", 1), (\"b\", 1), (\"a\", 1)])\n",
            " |      >>> sorted(rdd.groupByKey().mapValues(len).collect())\n",
            " |      [('a', 2), ('b', 1)]\n",
            " |      >>> sorted(rdd.groupByKey().mapValues(list).collect())\n",
            " |      [('a', [1, 1]), ('b', [1])]\n",
            " |  \n",
            " |  groupWith(self, other, *others)\n",
            " |      Alias for cogroup but with support for multiple RDDs.\n",
            " |      \n",
            " |      >>> w = sc.parallelize([(\"a\", 5), (\"b\", 6)])\n",
            " |      >>> x = sc.parallelize([(\"a\", 1), (\"b\", 4)])\n",
            " |      >>> y = sc.parallelize([(\"a\", 2)])\n",
            " |      >>> z = sc.parallelize([(\"b\", 42)])\n",
            " |      >>> [(x, tuple(map(list, y))) for x, y in sorted(list(w.groupWith(x, y, z).collect()))]\n",
            " |      [('a', ([5], [1], [2], [])), ('b', ([6], [4], [], [42]))]\n",
            " |  \n",
            " |  histogram(self, buckets)\n",
            " |      Compute a histogram using the provided buckets. The buckets\n",
            " |      are all open to the right except for the last which is closed.\n",
            " |      e.g. [1,10,20,50] means the buckets are [1,10) [10,20) [20,50],\n",
            " |      which means 1<=x<10, 10<=x<20, 20<=x<=50. And on the input of 1\n",
            " |      and 50 we would have a histogram of 1,0,1.\n",
            " |      \n",
            " |      If your histogram is evenly spaced (e.g. [0, 10, 20, 30]),\n",
            " |      this can be switched from an O(log n) inseration to O(1) per\n",
            " |      element (where n is the number of buckets).\n",
            " |      \n",
            " |      Buckets must be sorted, not contain any duplicates, and have\n",
            " |      at least two elements.\n",
            " |      \n",
            " |      If `buckets` is a number, it will generate buckets which are\n",
            " |      evenly spaced between the minimum and maximum of the RDD. For\n",
            " |      example, if the min value is 0 and the max is 100, given `buckets`\n",
            " |      as 2, the resulting buckets will be [0,50) [50,100]. `buckets` must\n",
            " |      be at least 1. An exception is raised if the RDD contains infinity.\n",
            " |      If the elements in the RDD do not vary (max == min), a single bucket\n",
            " |      will be used.\n",
            " |      \n",
            " |      The return value is a tuple of buckets and histogram.\n",
            " |      \n",
            " |      >>> rdd = sc.parallelize(range(51))\n",
            " |      >>> rdd.histogram(2)\n",
            " |      ([0, 25, 50], [25, 26])\n",
            " |      >>> rdd.histogram([0, 5, 25, 50])\n",
            " |      ([0, 5, 25, 50], [5, 20, 26])\n",
            " |      >>> rdd.histogram([0, 15, 30, 45, 60])  # evenly spaced buckets\n",
            " |      ([0, 15, 30, 45, 60], [15, 15, 15, 6])\n",
            " |      >>> rdd = sc.parallelize([\"ab\", \"ac\", \"b\", \"bd\", \"ef\"])\n",
            " |      >>> rdd.histogram((\"a\", \"b\", \"c\"))\n",
            " |      (('a', 'b', 'c'), [2, 2])\n",
            " |  \n",
            " |  intersection(self, other)\n",
            " |      Return the intersection of this RDD and another one. The output will\n",
            " |      not contain any duplicate elements, even if the input RDDs did.\n",
            " |      \n",
            " |      .. note:: This method performs a shuffle internally.\n",
            " |      \n",
            " |      >>> rdd1 = sc.parallelize([1, 10, 2, 3, 4, 5])\n",
            " |      >>> rdd2 = sc.parallelize([1, 6, 2, 3, 7, 8])\n",
            " |      >>> rdd1.intersection(rdd2).collect()\n",
            " |      [1, 2, 3]\n",
            " |  \n",
            " |  isCheckpointed(self)\n",
            " |      Return whether this RDD is checkpointed and materialized, either reliably or locally.\n",
            " |  \n",
            " |  isEmpty(self)\n",
            " |      Returns true if and only if the RDD contains no elements at all.\n",
            " |      \n",
            " |      .. note:: an RDD may be empty even when it has at least 1 partition.\n",
            " |      \n",
            " |      >>> sc.parallelize([]).isEmpty()\n",
            " |      True\n",
            " |      >>> sc.parallelize([1]).isEmpty()\n",
            " |      False\n",
            " |  \n",
            " |  isLocallyCheckpointed(self)\n",
            " |      Return whether this RDD is marked for local checkpointing.\n",
            " |      \n",
            " |      Exposed for testing.\n",
            " |  \n",
            " |  join(self, other, numPartitions=None)\n",
            " |      Return an RDD containing all pairs of elements with matching keys in\n",
            " |      `self` and `other`.\n",
            " |      \n",
            " |      Each pair of elements will be returned as a (k, (v1, v2)) tuple, where\n",
            " |      (k, v1) is in `self` and (k, v2) is in `other`.\n",
            " |      \n",
            " |      Performs a hash join across the cluster.\n",
            " |      \n",
            " |      >>> x = sc.parallelize([(\"a\", 1), (\"b\", 4)])\n",
            " |      >>> y = sc.parallelize([(\"a\", 2), (\"a\", 3)])\n",
            " |      >>> sorted(x.join(y).collect())\n",
            " |      [('a', (1, 2)), ('a', (1, 3))]\n",
            " |  \n",
            " |  keyBy(self, f)\n",
            " |      Creates tuples of the elements in this RDD by applying `f`.\n",
            " |      \n",
            " |      >>> x = sc.parallelize(range(0,3)).keyBy(lambda x: x*x)\n",
            " |      >>> y = sc.parallelize(zip(range(0,5), range(0,5)))\n",
            " |      >>> [(x, list(map(list, y))) for x, y in sorted(x.cogroup(y).collect())]\n",
            " |      [(0, [[0], [0]]), (1, [[1], [1]]), (2, [[], [2]]), (3, [[], [3]]), (4, [[2], [4]])]\n",
            " |  \n",
            " |  keys(self)\n",
            " |      Return an RDD with the keys of each tuple.\n",
            " |      \n",
            " |      >>> m = sc.parallelize([(1, 2), (3, 4)]).keys()\n",
            " |      >>> m.collect()\n",
            " |      [1, 3]\n",
            " |  \n",
            " |  leftOuterJoin(self, other, numPartitions=None)\n",
            " |      Perform a left outer join of `self` and `other`.\n",
            " |      \n",
            " |      For each element (k, v) in `self`, the resulting RDD will either\n",
            " |      contain all pairs (k, (v, w)) for w in `other`, or the pair\n",
            " |      (k, (v, None)) if no elements in `other` have key k.\n",
            " |      \n",
            " |      Hash-partitions the resulting RDD into the given number of partitions.\n",
            " |      \n",
            " |      >>> x = sc.parallelize([(\"a\", 1), (\"b\", 4)])\n",
            " |      >>> y = sc.parallelize([(\"a\", 2)])\n",
            " |      >>> sorted(x.leftOuterJoin(y).collect())\n",
            " |      [('a', (1, 2)), ('b', (4, None))]\n",
            " |  \n",
            " |  localCheckpoint(self)\n",
            " |      Mark this RDD for local checkpointing using Spark's existing caching layer.\n",
            " |      \n",
            " |      This method is for users who wish to truncate RDD lineages while skipping the expensive\n",
            " |      step of replicating the materialized data in a reliable distributed file system. This is\n",
            " |      useful for RDDs with long lineages that need to be truncated periodically (e.g. GraphX).\n",
            " |      \n",
            " |      Local checkpointing sacrifices fault-tolerance for performance. In particular, checkpointed\n",
            " |      data is written to ephemeral local storage in the executors instead of to a reliable,\n",
            " |      fault-tolerant storage. The effect is that if an executor fails during the computation,\n",
            " |      the checkpointed data may no longer be accessible, causing an irrecoverable job failure.\n",
            " |      \n",
            " |      This is NOT safe to use with dynamic allocation, which removes executors along\n",
            " |      with their cached blocks. If you must use both features, you are advised to set\n",
            " |      `spark.dynamicAllocation.cachedExecutorIdleTimeout` to a high value.\n",
            " |      \n",
            " |      The checkpoint directory set through :meth:`SparkContext.setCheckpointDir` is not used.\n",
            " |  \n",
            " |  lookup(self, key)\n",
            " |      Return the list of values in the RDD for key `key`. This operation\n",
            " |      is done efficiently if the RDD has a known partitioner by only\n",
            " |      searching the partition that the key maps to.\n",
            " |      \n",
            " |      >>> l = range(1000)\n",
            " |      >>> rdd = sc.parallelize(zip(l, l), 10)\n",
            " |      >>> rdd.lookup(42)  # slow\n",
            " |      [42]\n",
            " |      >>> sorted = rdd.sortByKey()\n",
            " |      >>> sorted.lookup(42)  # fast\n",
            " |      [42]\n",
            " |      >>> sorted.lookup(1024)\n",
            " |      []\n",
            " |      >>> rdd2 = sc.parallelize([(('a', 'b'), 'c')]).groupByKey()\n",
            " |      >>> list(rdd2.lookup(('a', 'b'))[0])\n",
            " |      ['c']\n",
            " |  \n",
            " |  map(self, f, preservesPartitioning=False)\n",
            " |      Return a new RDD by applying a function to each element of this RDD.\n",
            " |      \n",
            " |      >>> rdd = sc.parallelize([\"b\", \"a\", \"c\"])\n",
            " |      >>> sorted(rdd.map(lambda x: (x, 1)).collect())\n",
            " |      [('a', 1), ('b', 1), ('c', 1)]\n",
            " |  \n",
            " |  mapPartitions(self, f, preservesPartitioning=False)\n",
            " |      Return a new RDD by applying a function to each partition of this RDD.\n",
            " |      \n",
            " |      >>> rdd = sc.parallelize([1, 2, 3, 4], 2)\n",
            " |      >>> def f(iterator): yield sum(iterator)\n",
            " |      >>> rdd.mapPartitions(f).collect()\n",
            " |      [3, 7]\n",
            " |  \n",
            " |  mapPartitionsWithIndex(self, f, preservesPartitioning=False)\n",
            " |      Return a new RDD by applying a function to each partition of this RDD,\n",
            " |      while tracking the index of the original partition.\n",
            " |      \n",
            " |      >>> rdd = sc.parallelize([1, 2, 3, 4], 4)\n",
            " |      >>> def f(splitIndex, iterator): yield splitIndex\n",
            " |      >>> rdd.mapPartitionsWithIndex(f).sum()\n",
            " |      6\n",
            " |  \n",
            " |  mapPartitionsWithSplit(self, f, preservesPartitioning=False)\n",
            " |      Deprecated: use mapPartitionsWithIndex instead.\n",
            " |      \n",
            " |      Return a new RDD by applying a function to each partition of this RDD,\n",
            " |      while tracking the index of the original partition.\n",
            " |      \n",
            " |      >>> rdd = sc.parallelize([1, 2, 3, 4], 4)\n",
            " |      >>> def f(splitIndex, iterator): yield splitIndex\n",
            " |      >>> rdd.mapPartitionsWithSplit(f).sum()\n",
            " |      6\n",
            " |  \n",
            " |  mapValues(self, f)\n",
            " |      Pass each value in the key-value pair RDD through a map function\n",
            " |      without changing the keys; this also retains the original RDD's\n",
            " |      partitioning.\n",
            " |      \n",
            " |      >>> x = sc.parallelize([(\"a\", [\"apple\", \"banana\", \"lemon\"]), (\"b\", [\"grapes\"])])\n",
            " |      >>> def f(x): return len(x)\n",
            " |      >>> x.mapValues(f).collect()\n",
            " |      [('a', 3), ('b', 1)]\n",
            " |  \n",
            " |  max(self, key=None)\n",
            " |      Find the maximum item in this RDD.\n",
            " |      \n",
            " |      :param key: A function used to generate key for comparing\n",
            " |      \n",
            " |      >>> rdd = sc.parallelize([1.0, 5.0, 43.0, 10.0])\n",
            " |      >>> rdd.max()\n",
            " |      43.0\n",
            " |      >>> rdd.max(key=str)\n",
            " |      5.0\n",
            " |  \n",
            " |  mean(self)\n",
            " |      Compute the mean of this RDD's elements.\n",
            " |      \n",
            " |      >>> sc.parallelize([1, 2, 3]).mean()\n",
            " |      2.0\n",
            " |  \n",
            " |  meanApprox(self, timeout, confidence=0.95)\n",
            " |      Approximate operation to return the mean within a timeout\n",
            " |      or meet the confidence.\n",
            " |      \n",
            " |      >>> rdd = sc.parallelize(range(1000), 10)\n",
            " |      >>> r = sum(range(1000)) / 1000.0\n",
            " |      >>> abs(rdd.meanApprox(1000) - r) / r < 0.05\n",
            " |      True\n",
            " |  \n",
            " |  min(self, key=None)\n",
            " |      Find the minimum item in this RDD.\n",
            " |      \n",
            " |      :param key: A function used to generate key for comparing\n",
            " |      \n",
            " |      >>> rdd = sc.parallelize([2.0, 5.0, 43.0, 10.0])\n",
            " |      >>> rdd.min()\n",
            " |      2.0\n",
            " |      >>> rdd.min(key=str)\n",
            " |      10.0\n",
            " |  \n",
            " |  name(self)\n",
            " |      Return the name of this RDD.\n",
            " |  \n",
            " |  partitionBy(self, numPartitions, partitionFunc=<function portable_hash at 0x7fba63b470d0>)\n",
            " |      Return a copy of the RDD partitioned using the specified partitioner.\n",
            " |      \n",
            " |      >>> pairs = sc.parallelize([1, 2, 3, 4, 2, 4, 1]).map(lambda x: (x, x))\n",
            " |      >>> sets = pairs.partitionBy(2).glom().collect()\n",
            " |      >>> len(set(sets[0]).intersection(set(sets[1])))\n",
            " |      0\n",
            " |  \n",
            " |  persist(self, storageLevel=StorageLevel(False, True, False, False, 1))\n",
            " |      Set this RDD's storage level to persist its values across operations\n",
            " |      after the first time it is computed. This can only be used to assign\n",
            " |      a new storage level if the RDD does not have a storage level set yet.\n",
            " |      If no storage level is specified defaults to (`MEMORY_ONLY`).\n",
            " |      \n",
            " |      >>> rdd = sc.parallelize([\"b\", \"a\", \"c\"])\n",
            " |      >>> rdd.persist().is_cached\n",
            " |      True\n",
            " |  \n",
            " |  pipe(self, command, env=None, checkCode=False)\n",
            " |      Return an RDD created by piping elements to a forked external process.\n",
            " |      \n",
            " |      >>> sc.parallelize(['1', '2', '', '3']).pipe('cat').collect()\n",
            " |      ['1', '2', '', '3']\n",
            " |      \n",
            " |      :param checkCode: whether or not to check the return value of the shell command.\n",
            " |  \n",
            " |  randomSplit(self, weights, seed=None)\n",
            " |      Randomly splits this RDD with the provided weights.\n",
            " |      \n",
            " |      :param weights: weights for splits, will be normalized if they don't sum to 1\n",
            " |      :param seed: random seed\n",
            " |      :return: split RDDs in a list\n",
            " |      \n",
            " |      >>> rdd = sc.parallelize(range(500), 1)\n",
            " |      >>> rdd1, rdd2 = rdd.randomSplit([2, 3], 17)\n",
            " |      >>> len(rdd1.collect() + rdd2.collect())\n",
            " |      500\n",
            " |      >>> 150 < rdd1.count() < 250\n",
            " |      True\n",
            " |      >>> 250 < rdd2.count() < 350\n",
            " |      True\n",
            " |  \n",
            " |  reduce(self, f)\n",
            " |      Reduces the elements of this RDD using the specified commutative and\n",
            " |      associative binary operator. Currently reduces partitions locally.\n",
            " |      \n",
            " |      >>> from operator import add\n",
            " |      >>> sc.parallelize([1, 2, 3, 4, 5]).reduce(add)\n",
            " |      15\n",
            " |      >>> sc.parallelize((2 for _ in range(10))).map(lambda x: 1).cache().reduce(add)\n",
            " |      10\n",
            " |      >>> sc.parallelize([]).reduce(add)\n",
            " |      Traceback (most recent call last):\n",
            " |          ...\n",
            " |      ValueError: Can not reduce() empty RDD\n",
            " |  \n",
            " |  reduceByKey(self, func, numPartitions=None, partitionFunc=<function portable_hash at 0x7fba63b470d0>)\n",
            " |      Merge the values for each key using an associative and commutative reduce function.\n",
            " |      \n",
            " |      This will also perform the merging locally on each mapper before\n",
            " |      sending results to a reducer, similarly to a \"combiner\" in MapReduce.\n",
            " |      \n",
            " |      Output will be partitioned with `numPartitions` partitions, or\n",
            " |      the default parallelism level if `numPartitions` is not specified.\n",
            " |      Default partitioner is hash-partition.\n",
            " |      \n",
            " |      >>> from operator import add\n",
            " |      >>> rdd = sc.parallelize([(\"a\", 1), (\"b\", 1), (\"a\", 1)])\n",
            " |      >>> sorted(rdd.reduceByKey(add).collect())\n",
            " |      [('a', 2), ('b', 1)]\n",
            " |  \n",
            " |  reduceByKeyLocally(self, func)\n",
            " |      Merge the values for each key using an associative and commutative reduce function, but\n",
            " |      return the results immediately to the master as a dictionary.\n",
            " |      \n",
            " |      This will also perform the merging locally on each mapper before\n",
            " |      sending results to a reducer, similarly to a \"combiner\" in MapReduce.\n",
            " |      \n",
            " |      >>> from operator import add\n",
            " |      >>> rdd = sc.parallelize([(\"a\", 1), (\"b\", 1), (\"a\", 1)])\n",
            " |      >>> sorted(rdd.reduceByKeyLocally(add).items())\n",
            " |      [('a', 2), ('b', 1)]\n",
            " |  \n",
            " |  repartition(self, numPartitions)\n",
            " |      Return a new RDD that has exactly numPartitions partitions.\n",
            " |      \n",
            " |      Can increase or decrease the level of parallelism in this RDD.\n",
            " |      Internally, this uses a shuffle to redistribute data.\n",
            " |      If you are decreasing the number of partitions in this RDD, consider\n",
            " |      using `coalesce`, which can avoid performing a shuffle.\n",
            " |      \n",
            " |      >>> rdd = sc.parallelize([1,2,3,4,5,6,7], 4)\n",
            " |      >>> sorted(rdd.glom().collect())\n",
            " |      [[1], [2, 3], [4, 5], [6, 7]]\n",
            " |      >>> len(rdd.repartition(2).glom().collect())\n",
            " |      2\n",
            " |      >>> len(rdd.repartition(10).glom().collect())\n",
            " |      10\n",
            " |  \n",
            " |  repartitionAndSortWithinPartitions(self, numPartitions=None, partitionFunc=<function portable_hash at 0x7fba63b470d0>, ascending=True, keyfunc=<function RDD.<lambda> at 0x7fba63675620>)\n",
            " |      Repartition the RDD according to the given partitioner and, within each resulting partition,\n",
            " |      sort records by their keys.\n",
            " |      \n",
            " |      >>> rdd = sc.parallelize([(0, 5), (3, 8), (2, 6), (0, 8), (3, 8), (1, 3)])\n",
            " |      >>> rdd2 = rdd.repartitionAndSortWithinPartitions(2, lambda x: x % 2, True)\n",
            " |      >>> rdd2.glom().collect()\n",
            " |      [[(0, 5), (0, 8), (2, 6)], [(1, 3), (3, 8), (3, 8)]]\n",
            " |  \n",
            " |  rightOuterJoin(self, other, numPartitions=None)\n",
            " |      Perform a right outer join of `self` and `other`.\n",
            " |      \n",
            " |      For each element (k, w) in `other`, the resulting RDD will either\n",
            " |      contain all pairs (k, (v, w)) for v in this, or the pair (k, (None, w))\n",
            " |      if no elements in `self` have key k.\n",
            " |      \n",
            " |      Hash-partitions the resulting RDD into the given number of partitions.\n",
            " |      \n",
            " |      >>> x = sc.parallelize([(\"a\", 1), (\"b\", 4)])\n",
            " |      >>> y = sc.parallelize([(\"a\", 2)])\n",
            " |      >>> sorted(y.rightOuterJoin(x).collect())\n",
            " |      [('a', (2, 1)), ('b', (None, 4))]\n",
            " |  \n",
            " |  sample(self, withReplacement, fraction, seed=None)\n",
            " |      Return a sampled subset of this RDD.\n",
            " |      \n",
            " |      :param withReplacement: can elements be sampled multiple times (replaced when sampled out)\n",
            " |      :param fraction: expected size of the sample as a fraction of this RDD's size\n",
            " |          without replacement: probability that each element is chosen; fraction must be [0, 1]\n",
            " |          with replacement: expected number of times each element is chosen; fraction must be >= 0\n",
            " |      :param seed: seed for the random number generator\n",
            " |      \n",
            " |      .. note:: This is not guaranteed to provide exactly the fraction specified of the total\n",
            " |          count of the given :class:`DataFrame`.\n",
            " |      \n",
            " |      >>> rdd = sc.parallelize(range(100), 4)\n",
            " |      >>> 6 <= rdd.sample(False, 0.1, 81).count() <= 14\n",
            " |      True\n",
            " |  \n",
            " |  sampleByKey(self, withReplacement, fractions, seed=None)\n",
            " |      Return a subset of this RDD sampled by key (via stratified sampling).\n",
            " |      Create a sample of this RDD using variable sampling rates for\n",
            " |      different keys as specified by fractions, a key to sampling rate map.\n",
            " |      \n",
            " |      >>> fractions = {\"a\": 0.2, \"b\": 0.1}\n",
            " |      >>> rdd = sc.parallelize(fractions.keys()).cartesian(sc.parallelize(range(0, 1000)))\n",
            " |      >>> sample = dict(rdd.sampleByKey(False, fractions, 2).groupByKey().collect())\n",
            " |      >>> 100 < len(sample[\"a\"]) < 300 and 50 < len(sample[\"b\"]) < 150\n",
            " |      True\n",
            " |      >>> max(sample[\"a\"]) <= 999 and min(sample[\"a\"]) >= 0\n",
            " |      True\n",
            " |      >>> max(sample[\"b\"]) <= 999 and min(sample[\"b\"]) >= 0\n",
            " |      True\n",
            " |  \n",
            " |  sampleStdev(self)\n",
            " |      Compute the sample standard deviation of this RDD's elements (which\n",
            " |      corrects for bias in estimating the standard deviation by dividing by\n",
            " |      N-1 instead of N).\n",
            " |      \n",
            " |      >>> sc.parallelize([1, 2, 3]).sampleStdev()\n",
            " |      1.0\n",
            " |  \n",
            " |  sampleVariance(self)\n",
            " |      Compute the sample variance of this RDD's elements (which corrects\n",
            " |      for bias in estimating the variance by dividing by N-1 instead of N).\n",
            " |      \n",
            " |      >>> sc.parallelize([1, 2, 3]).sampleVariance()\n",
            " |      1.0\n",
            " |  \n",
            " |  saveAsHadoopDataset(self, conf, keyConverter=None, valueConverter=None)\n",
            " |      Output a Python RDD of key-value pairs (of form ``RDD[(K, V)]``) to any Hadoop file\n",
            " |      system, using the old Hadoop OutputFormat API (mapred package). Keys/values are\n",
            " |      converted for output using either user specified converters or, by default,\n",
            " |      \"org.apache.spark.api.python.JavaToWritableConverter\".\n",
            " |      \n",
            " |      :param conf: Hadoop job configuration, passed in as a dict\n",
            " |      :param keyConverter: (None by default)\n",
            " |      :param valueConverter: (None by default)\n",
            " |  \n",
            " |  saveAsHadoopFile(self, path, outputFormatClass, keyClass=None, valueClass=None, keyConverter=None, valueConverter=None, conf=None, compressionCodecClass=None)\n",
            " |      Output a Python RDD of key-value pairs (of form ``RDD[(K, V)]``) to any Hadoop file\n",
            " |      system, using the old Hadoop OutputFormat API (mapred package). Key and value types\n",
            " |      will be inferred if not specified. Keys and values are converted for output using either\n",
            " |      user specified converters or \"org.apache.spark.api.python.JavaToWritableConverter\". The\n",
            " |      `conf` is applied on top of the base Hadoop conf associated with the SparkContext\n",
            " |      of this RDD to create a merged Hadoop MapReduce job configuration for saving the data.\n",
            " |      \n",
            " |      :param path: path to Hadoop file\n",
            " |      :param outputFormatClass: fully qualified classname of Hadoop OutputFormat\n",
            " |             (e.g. \"org.apache.hadoop.mapred.SequenceFileOutputFormat\")\n",
            " |      :param keyClass: fully qualified classname of key Writable class\n",
            " |             (e.g. \"org.apache.hadoop.io.IntWritable\", None by default)\n",
            " |      :param valueClass: fully qualified classname of value Writable class\n",
            " |             (e.g. \"org.apache.hadoop.io.Text\", None by default)\n",
            " |      :param keyConverter: (None by default)\n",
            " |      :param valueConverter: (None by default)\n",
            " |      :param conf: (None by default)\n",
            " |      :param compressionCodecClass: (None by default)\n",
            " |  \n",
            " |  saveAsNewAPIHadoopDataset(self, conf, keyConverter=None, valueConverter=None)\n",
            " |      Output a Python RDD of key-value pairs (of form ``RDD[(K, V)]``) to any Hadoop file\n",
            " |      system, using the new Hadoop OutputFormat API (mapreduce package). Keys/values are\n",
            " |      converted for output using either user specified converters or, by default,\n",
            " |      \"org.apache.spark.api.python.JavaToWritableConverter\".\n",
            " |      \n",
            " |      :param conf: Hadoop job configuration, passed in as a dict\n",
            " |      :param keyConverter: (None by default)\n",
            " |      :param valueConverter: (None by default)\n",
            " |  \n",
            " |  saveAsNewAPIHadoopFile(self, path, outputFormatClass, keyClass=None, valueClass=None, keyConverter=None, valueConverter=None, conf=None)\n",
            " |      Output a Python RDD of key-value pairs (of form ``RDD[(K, V)]``) to any Hadoop file\n",
            " |      system, using the new Hadoop OutputFormat API (mapreduce package). Key and value types\n",
            " |      will be inferred if not specified. Keys and values are converted for output using either\n",
            " |      user specified converters or \"org.apache.spark.api.python.JavaToWritableConverter\". The\n",
            " |      `conf` is applied on top of the base Hadoop conf associated with the SparkContext\n",
            " |      of this RDD to create a merged Hadoop MapReduce job configuration for saving the data.\n",
            " |      \n",
            " |      :param path: path to Hadoop file\n",
            " |      :param outputFormatClass: fully qualified classname of Hadoop OutputFormat\n",
            " |             (e.g. \"org.apache.hadoop.mapreduce.lib.output.SequenceFileOutputFormat\")\n",
            " |      :param keyClass: fully qualified classname of key Writable class\n",
            " |             (e.g. \"org.apache.hadoop.io.IntWritable\", None by default)\n",
            " |      :param valueClass: fully qualified classname of value Writable class\n",
            " |             (e.g. \"org.apache.hadoop.io.Text\", None by default)\n",
            " |      :param keyConverter: (None by default)\n",
            " |      :param valueConverter: (None by default)\n",
            " |      :param conf: Hadoop job configuration, passed in as a dict (None by default)\n",
            " |  \n",
            " |  saveAsPickleFile(self, path, batchSize=10)\n",
            " |      Save this RDD as a SequenceFile of serialized objects. The serializer\n",
            " |      used is :class:`pyspark.serializers.PickleSerializer`, default batch size\n",
            " |      is 10.\n",
            " |      \n",
            " |      >>> tmpFile = NamedTemporaryFile(delete=True)\n",
            " |      >>> tmpFile.close()\n",
            " |      >>> sc.parallelize([1, 2, 'spark', 'rdd']).saveAsPickleFile(tmpFile.name, 3)\n",
            " |      >>> sorted(sc.pickleFile(tmpFile.name, 5).map(str).collect())\n",
            " |      ['1', '2', 'rdd', 'spark']\n",
            " |  \n",
            " |  saveAsSequenceFile(self, path, compressionCodecClass=None)\n",
            " |      Output a Python RDD of key-value pairs (of form ``RDD[(K, V)]``) to any Hadoop file\n",
            " |      system, using the \"org.apache.hadoop.io.Writable\" types that we convert from the\n",
            " |      RDD's key and value types. The mechanism is as follows:\n",
            " |      \n",
            " |          1. Pyrolite is used to convert pickled Python RDD into RDD of Java objects.\n",
            " |          2. Keys and values of this Java RDD are converted to Writables and written out.\n",
            " |      \n",
            " |      :param path: path to sequence file\n",
            " |      :param compressionCodecClass: (None by default)\n",
            " |  \n",
            " |  saveAsTextFile(self, path, compressionCodecClass=None)\n",
            " |      Save this RDD as a text file, using string representations of elements.\n",
            " |      \n",
            " |      :param path: path to text file\n",
            " |      :param compressionCodecClass: (None by default) string i.e.\n",
            " |          \"org.apache.hadoop.io.compress.GzipCodec\"\n",
            " |      \n",
            " |      >>> tempFile = NamedTemporaryFile(delete=True)\n",
            " |      >>> tempFile.close()\n",
            " |      >>> sc.parallelize(range(10)).saveAsTextFile(tempFile.name)\n",
            " |      >>> from fileinput import input\n",
            " |      >>> from glob import glob\n",
            " |      >>> ''.join(sorted(input(glob(tempFile.name + \"/part-0000*\"))))\n",
            " |      '0\\n1\\n2\\n3\\n4\\n5\\n6\\n7\\n8\\n9\\n'\n",
            " |      \n",
            " |      Empty lines are tolerated when saving to text files.\n",
            " |      \n",
            " |      >>> tempFile2 = NamedTemporaryFile(delete=True)\n",
            " |      >>> tempFile2.close()\n",
            " |      >>> sc.parallelize(['', 'foo', '', 'bar', '']).saveAsTextFile(tempFile2.name)\n",
            " |      >>> ''.join(sorted(input(glob(tempFile2.name + \"/part-0000*\"))))\n",
            " |      '\\n\\n\\nbar\\nfoo\\n'\n",
            " |      \n",
            " |      Using compressionCodecClass\n",
            " |      \n",
            " |      >>> tempFile3 = NamedTemporaryFile(delete=True)\n",
            " |      >>> tempFile3.close()\n",
            " |      >>> codec = \"org.apache.hadoop.io.compress.GzipCodec\"\n",
            " |      >>> sc.parallelize(['foo', 'bar']).saveAsTextFile(tempFile3.name, codec)\n",
            " |      >>> from fileinput import input, hook_compressed\n",
            " |      >>> result = sorted(input(glob(tempFile3.name + \"/part*.gz\"), openhook=hook_compressed))\n",
            " |      >>> b''.join(result).decode('utf-8')\n",
            " |      'bar\\nfoo\\n'\n",
            " |  \n",
            " |  setName(self, name)\n",
            " |      Assign a name to this RDD.\n",
            " |      \n",
            " |      >>> rdd1 = sc.parallelize([1, 2])\n",
            " |      >>> rdd1.setName('RDD1').name()\n",
            " |      'RDD1'\n",
            " |  \n",
            " |  sortBy(self, keyfunc, ascending=True, numPartitions=None)\n",
            " |      Sorts this RDD by the given keyfunc\n",
            " |      \n",
            " |      >>> tmp = [('a', 1), ('b', 2), ('1', 3), ('d', 4), ('2', 5)]\n",
            " |      >>> sc.parallelize(tmp).sortBy(lambda x: x[0]).collect()\n",
            " |      [('1', 3), ('2', 5), ('a', 1), ('b', 2), ('d', 4)]\n",
            " |      >>> sc.parallelize(tmp).sortBy(lambda x: x[1]).collect()\n",
            " |      [('a', 1), ('b', 2), ('1', 3), ('d', 4), ('2', 5)]\n",
            " |  \n",
            " |  sortByKey(self, ascending=True, numPartitions=None, keyfunc=<function RDD.<lambda> at 0x7fba63675730>)\n",
            " |      Sorts this RDD, which is assumed to consist of (key, value) pairs.\n",
            " |      \n",
            " |      >>> tmp = [('a', 1), ('b', 2), ('1', 3), ('d', 4), ('2', 5)]\n",
            " |      >>> sc.parallelize(tmp).sortByKey().first()\n",
            " |      ('1', 3)\n",
            " |      >>> sc.parallelize(tmp).sortByKey(True, 1).collect()\n",
            " |      [('1', 3), ('2', 5), ('a', 1), ('b', 2), ('d', 4)]\n",
            " |      >>> sc.parallelize(tmp).sortByKey(True, 2).collect()\n",
            " |      [('1', 3), ('2', 5), ('a', 1), ('b', 2), ('d', 4)]\n",
            " |      >>> tmp2 = [('Mary', 1), ('had', 2), ('a', 3), ('little', 4), ('lamb', 5)]\n",
            " |      >>> tmp2.extend([('whose', 6), ('fleece', 7), ('was', 8), ('white', 9)])\n",
            " |      >>> sc.parallelize(tmp2).sortByKey(True, 3, keyfunc=lambda k: k.lower()).collect()\n",
            " |      [('a', 3), ('fleece', 7), ('had', 2), ('lamb', 5),...('white', 9), ('whose', 6)]\n",
            " |  \n",
            " |  stats(self)\n",
            " |      Return a :class:`StatCounter` object that captures the mean, variance\n",
            " |      and count of the RDD's elements in one operation.\n",
            " |  \n",
            " |  stdev(self)\n",
            " |      Compute the standard deviation of this RDD's elements.\n",
            " |      \n",
            " |      >>> sc.parallelize([1, 2, 3]).stdev()\n",
            " |      0.816...\n",
            " |  \n",
            " |  subtract(self, other, numPartitions=None)\n",
            " |      Return each value in `self` that is not contained in `other`.\n",
            " |      \n",
            " |      >>> x = sc.parallelize([(\"a\", 1), (\"b\", 4), (\"b\", 5), (\"a\", 3)])\n",
            " |      >>> y = sc.parallelize([(\"a\", 3), (\"c\", None)])\n",
            " |      >>> sorted(x.subtract(y).collect())\n",
            " |      [('a', 1), ('b', 4), ('b', 5)]\n",
            " |  \n",
            " |  subtractByKey(self, other, numPartitions=None)\n",
            " |      Return each (key, value) pair in `self` that has no pair with matching\n",
            " |      key in `other`.\n",
            " |      \n",
            " |      >>> x = sc.parallelize([(\"a\", 1), (\"b\", 4), (\"b\", 5), (\"a\", 2)])\n",
            " |      >>> y = sc.parallelize([(\"a\", 3), (\"c\", None)])\n",
            " |      >>> sorted(x.subtractByKey(y).collect())\n",
            " |      [('b', 4), ('b', 5)]\n",
            " |  \n",
            " |  sum(self)\n",
            " |      Add up the elements in this RDD.\n",
            " |      \n",
            " |      >>> sc.parallelize([1.0, 2.0, 3.0]).sum()\n",
            " |      6.0\n",
            " |  \n",
            " |  sumApprox(self, timeout, confidence=0.95)\n",
            " |      Approximate operation to return the sum within a timeout\n",
            " |      or meet the confidence.\n",
            " |      \n",
            " |      >>> rdd = sc.parallelize(range(1000), 10)\n",
            " |      >>> r = sum(range(1000))\n",
            " |      >>> abs(rdd.sumApprox(1000) - r) / r < 0.05\n",
            " |      True\n",
            " |  \n",
            " |  take(self, num)\n",
            " |      Take the first num elements of the RDD.\n",
            " |      \n",
            " |      It works by first scanning one partition, and use the results from\n",
            " |      that partition to estimate the number of additional partitions needed\n",
            " |      to satisfy the limit.\n",
            " |      \n",
            " |      Translated from the Scala implementation in RDD#take().\n",
            " |      \n",
            " |      .. note:: this method should only be used if the resulting array is expected\n",
            " |          to be small, as all the data is loaded into the driver's memory.\n",
            " |      \n",
            " |      >>> sc.parallelize([2, 3, 4, 5, 6]).cache().take(2)\n",
            " |      [2, 3]\n",
            " |      >>> sc.parallelize([2, 3, 4, 5, 6]).take(10)\n",
            " |      [2, 3, 4, 5, 6]\n",
            " |      >>> sc.parallelize(range(100), 100).filter(lambda x: x > 90).take(3)\n",
            " |      [91, 92, 93]\n",
            " |  \n",
            " |  takeOrdered(self, num, key=None)\n",
            " |      Get the N elements from an RDD ordered in ascending order or as\n",
            " |      specified by the optional key function.\n",
            " |      \n",
            " |      .. note:: this method should only be used if the resulting array is expected\n",
            " |          to be small, as all the data is loaded into the driver's memory.\n",
            " |      \n",
            " |      >>> sc.parallelize([10, 1, 2, 9, 3, 4, 5, 6, 7]).takeOrdered(6)\n",
            " |      [1, 2, 3, 4, 5, 6]\n",
            " |      >>> sc.parallelize([10, 1, 2, 9, 3, 4, 5, 6, 7], 2).takeOrdered(6, key=lambda x: -x)\n",
            " |      [10, 9, 7, 6, 5, 4]\n",
            " |  \n",
            " |  takeSample(self, withReplacement, num, seed=None)\n",
            " |      Return a fixed-size sampled subset of this RDD.\n",
            " |      \n",
            " |      .. note:: This method should only be used if the resulting array is expected\n",
            " |          to be small, as all the data is loaded into the driver's memory.\n",
            " |      \n",
            " |      >>> rdd = sc.parallelize(range(0, 10))\n",
            " |      >>> len(rdd.takeSample(True, 20, 1))\n",
            " |      20\n",
            " |      >>> len(rdd.takeSample(False, 5, 2))\n",
            " |      5\n",
            " |      >>> len(rdd.takeSample(False, 15, 3))\n",
            " |      10\n",
            " |  \n",
            " |  toDF(self, schema=None, sampleRatio=None)\n",
            " |      Converts current :class:`RDD` into a :class:`DataFrame`\n",
            " |      \n",
            " |      This is a shorthand for ``spark.createDataFrame(rdd, schema, sampleRatio)``\n",
            " |      \n",
            " |      :param schema: a :class:`pyspark.sql.types.StructType` or list of names of columns\n",
            " |      :param samplingRatio: the sample ratio of rows used for inferring\n",
            " |      :return: a DataFrame\n",
            " |      \n",
            " |      >>> rdd.toDF().collect()\n",
            " |      [Row(name=u'Alice', age=1)]\n",
            " |  \n",
            " |  toDebugString(self)\n",
            " |      A description of this RDD and its recursive dependencies for debugging.\n",
            " |  \n",
            " |  toLocalIterator(self, prefetchPartitions=False)\n",
            " |      Return an iterator that contains all of the elements in this RDD.\n",
            " |      The iterator will consume as much memory as the largest partition in this RDD.\n",
            " |      With prefetch it may consume up to the memory of the 2 largest partitions.\n",
            " |      \n",
            " |      :param prefetchPartitions: If Spark should pre-fetch the next partition\n",
            " |                                 before it is needed.\n",
            " |      \n",
            " |      >>> rdd = sc.parallelize(range(10))\n",
            " |      >>> [x for x in rdd.toLocalIterator()]\n",
            " |      [0, 1, 2, 3, 4, 5, 6, 7, 8, 9]\n",
            " |  \n",
            " |  top(self, num, key=None)\n",
            " |      Get the top N elements from an RDD.\n",
            " |      \n",
            " |      .. note:: This method should only be used if the resulting array is expected\n",
            " |          to be small, as all the data is loaded into the driver's memory.\n",
            " |      \n",
            " |      .. note:: It returns the list sorted in descending order.\n",
            " |      \n",
            " |      >>> sc.parallelize([10, 4, 2, 12, 3]).top(1)\n",
            " |      [12]\n",
            " |      >>> sc.parallelize([2, 3, 4, 5, 6], 2).top(2)\n",
            " |      [6, 5]\n",
            " |      >>> sc.parallelize([10, 4, 2, 12, 3]).top(3, key=str)\n",
            " |      [4, 3, 2]\n",
            " |  \n",
            " |  treeAggregate(self, zeroValue, seqOp, combOp, depth=2)\n",
            " |      Aggregates the elements of this RDD in a multi-level tree\n",
            " |      pattern.\n",
            " |      \n",
            " |      :param depth: suggested depth of the tree (default: 2)\n",
            " |      \n",
            " |      >>> add = lambda x, y: x + y\n",
            " |      >>> rdd = sc.parallelize([-5, -4, -3, -2, -1, 1, 2, 3, 4], 10)\n",
            " |      >>> rdd.treeAggregate(0, add, add)\n",
            " |      -5\n",
            " |      >>> rdd.treeAggregate(0, add, add, 1)\n",
            " |      -5\n",
            " |      >>> rdd.treeAggregate(0, add, add, 2)\n",
            " |      -5\n",
            " |      >>> rdd.treeAggregate(0, add, add, 5)\n",
            " |      -5\n",
            " |      >>> rdd.treeAggregate(0, add, add, 10)\n",
            " |      -5\n",
            " |  \n",
            " |  treeReduce(self, f, depth=2)\n",
            " |      Reduces the elements of this RDD in a multi-level tree pattern.\n",
            " |      \n",
            " |      :param depth: suggested depth of the tree (default: 2)\n",
            " |      \n",
            " |      >>> add = lambda x, y: x + y\n",
            " |      >>> rdd = sc.parallelize([-5, -4, -3, -2, -1, 1, 2, 3, 4], 10)\n",
            " |      >>> rdd.treeReduce(add)\n",
            " |      -5\n",
            " |      >>> rdd.treeReduce(add, 1)\n",
            " |      -5\n",
            " |      >>> rdd.treeReduce(add, 2)\n",
            " |      -5\n",
            " |      >>> rdd.treeReduce(add, 5)\n",
            " |      -5\n",
            " |      >>> rdd.treeReduce(add, 10)\n",
            " |      -5\n",
            " |  \n",
            " |  union(self, other)\n",
            " |      Return the union of this RDD and another one.\n",
            " |      \n",
            " |      >>> rdd = sc.parallelize([1, 1, 2, 3])\n",
            " |      >>> rdd.union(rdd).collect()\n",
            " |      [1, 1, 2, 3, 1, 1, 2, 3]\n",
            " |  \n",
            " |  unpersist(self, blocking=False)\n",
            " |      Mark the RDD as non-persistent, and remove all blocks for it from\n",
            " |      memory and disk.\n",
            " |      \n",
            " |      .. versionchanged:: 3.0.0\n",
            " |         Added optional argument `blocking` to specify whether to block until all\n",
            " |         blocks are deleted.\n",
            " |  \n",
            " |  values(self)\n",
            " |      Return an RDD with the values of each tuple.\n",
            " |      \n",
            " |      >>> m = sc.parallelize([(1, 2), (3, 4)]).values()\n",
            " |      >>> m.collect()\n",
            " |      [2, 4]\n",
            " |  \n",
            " |  variance(self)\n",
            " |      Compute the variance of this RDD's elements.\n",
            " |      \n",
            " |      >>> sc.parallelize([1, 2, 3]).variance()\n",
            " |      0.666...\n",
            " |  \n",
            " |  zip(self, other)\n",
            " |      Zips this RDD with another one, returning key-value pairs with the\n",
            " |      first element in each RDD second element in each RDD, etc. Assumes\n",
            " |      that the two RDDs have the same number of partitions and the same\n",
            " |      number of elements in each partition (e.g. one was made through\n",
            " |      a map on the other).\n",
            " |      \n",
            " |      >>> x = sc.parallelize(range(0,5))\n",
            " |      >>> y = sc.parallelize(range(1000, 1005))\n",
            " |      >>> x.zip(y).collect()\n",
            " |      [(0, 1000), (1, 1001), (2, 1002), (3, 1003), (4, 1004)]\n",
            " |  \n",
            " |  zipWithIndex(self)\n",
            " |      Zips this RDD with its element indices.\n",
            " |      \n",
            " |      The ordering is first based on the partition index and then the\n",
            " |      ordering of items within each partition. So the first item in\n",
            " |      the first partition gets index 0, and the last item in the last\n",
            " |      partition receives the largest index.\n",
            " |      \n",
            " |      This method needs to trigger a spark job when this RDD contains\n",
            " |      more than one partitions.\n",
            " |      \n",
            " |      >>> sc.parallelize([\"a\", \"b\", \"c\", \"d\"], 3).zipWithIndex().collect()\n",
            " |      [('a', 0), ('b', 1), ('c', 2), ('d', 3)]\n",
            " |  \n",
            " |  zipWithUniqueId(self)\n",
            " |      Zips this RDD with generated unique Long ids.\n",
            " |      \n",
            " |      Items in the kth partition will get ids k, n+k, 2*n+k, ..., where\n",
            " |      n is the number of partitions. So there may exist gaps, but this\n",
            " |      method won't trigger a spark job, which is different from\n",
            " |      :meth:`zipWithIndex`.\n",
            " |      \n",
            " |      >>> sc.parallelize([\"a\", \"b\", \"c\", \"d\", \"e\"], 3).zipWithUniqueId().collect()\n",
            " |      [('a', 0), ('b', 1), ('c', 4), ('d', 2), ('e', 5)]\n",
            " |  \n",
            " |  ----------------------------------------------------------------------\n",
            " |  Data descriptors inherited from RDD:\n",
            " |  \n",
            " |  __dict__\n",
            " |      dictionary for instance variables (if defined)\n",
            " |  \n",
            " |  __weakref__\n",
            " |      list of weak references to the object (if defined)\n",
            " |  \n",
            " |  context\n",
            " |      The :class:`SparkContext` that this RDD was created on.\n",
            "\n"
          ],
          "name": "stdout"
        }
      ]
    },
    {
      "cell_type": "code",
      "metadata": {
        "id": "9vE0HNwGKMgE",
        "colab_type": "code",
        "colab": {
          "base_uri": "https://localhost:8080/",
          "height": 33
        },
        "outputId": "c7853990-9409-4c69-deb1-fd76138e7a62"
      },
      "source": [
        "integersListRDD.take(5) #Llamamos a una ACCIÓN de Spark (take) que lo que hace es obtener los\n",
        "#primeros 5 registros del RDD. En nuestro caso los números del 1 al 5. "
      ],
      "execution_count": null,
      "outputs": [
        {
          "output_type": "execute_result",
          "data": {
            "text/plain": [
              "[1, 2, 3, 4, 5]"
            ]
          },
          "metadata": {
            "tags": []
          },
          "execution_count": 30
        }
      ]
    },
    {
      "cell_type": "code",
      "metadata": {
        "id": "uTkCa9z4KSDX",
        "colab_type": "code",
        "colab": {
          "base_uri": "https://localhost:8080/",
          "height": 33
        },
        "outputId": "df2e8415-7079-438f-d4f5-f198f6c498a8"
      },
      "source": [
        "integersListRDD.count() #Ahora ejecutamos otra ACCIÓN (count) que te devuelve la cantidad de registros del RDD.\n",
        "#Como recordamos, integersListRDD lo creamos a partir de las variables en Python."
      ],
      "execution_count": null,
      "outputs": [
        {
          "output_type": "execute_result",
          "data": {
            "text/plain": [
              "1000"
            ]
          },
          "metadata": {
            "tags": []
          },
          "execution_count": 31
        }
      ]
    },
    {
      "cell_type": "markdown",
      "metadata": {
        "id": "oxRHG4v4R4Rz",
        "colab_type": "text"
      },
      "source": [
        "### Forma 2 - Leyendo archivo con textFile"
      ]
    },
    {
      "cell_type": "code",
      "metadata": {
        "id": "RRIlDQRr4EkJ",
        "colab_type": "code",
        "colab": {}
      },
      "source": [
        "#De esta manera vamos a leer el archivo 's.txt' con la función 'textFile':\n",
        "rdd = spark.sparkContext.textFile('s.txt')  #Acá solo ponemos 's.txt' porque es un archivo local del google colab, pero ahi podemos poner el path de nuestro archivo \n",
        "                                            #o tambien este archivo lo podemos obtener de un HDFs o de un Amazon F3, etc."
      ],
      "execution_count": null,
      "outputs": []
    },
    {
      "cell_type": "code",
      "metadata": {
        "id": "cPzWiShdsa8T",
        "colab_type": "code",
        "colab": {
          "base_uri": "https://localhost:8080/",
          "height": 33
        },
        "outputId": "87477fa3-f804-454a-dbd7-ae7b9ddc8ac9"
      },
      "source": [
        "#Este textFile nos devuelve directamente un RDD. \n",
        "rdd"
      ],
      "execution_count": null,
      "outputs": [
        {
          "output_type": "execute_result",
          "data": {
            "text/plain": [
              "s.txt MapPartitionsRDD[5] at textFile at NativeMethodAccessorImpl.java:0"
            ]
          },
          "metadata": {
            "tags": []
          },
          "execution_count": 15
        }
      ]
    },
    {
      "cell_type": "code",
      "metadata": {
        "id": "wxiacj7U9-Fh",
        "colab_type": "code",
        "colab": {
          "base_uri": "https://localhost:8080/",
          "height": 33
        },
        "outputId": "e43b5c3d-2d07-4983-960d-8fffc9dd7438"
      },
      "source": [
        "rdd.count()"
      ],
      "execution_count": null,
      "outputs": [
        {
          "output_type": "execute_result",
          "data": {
            "text/plain": [
              "124614"
            ]
          },
          "metadata": {
            "tags": []
          },
          "execution_count": 16
        }
      ]
    },
    {
      "cell_type": "code",
      "metadata": {
        "id": "Z7ot8-hDKZqR",
        "colab_type": "code",
        "colab": {
          "base_uri": "https://localhost:8080/",
          "height": 33
        },
        "outputId": "e81d4a9b-72da-46ae-b290-717fded3b68e"
      },
      "source": [
        "rdd.take(5)"
      ],
      "execution_count": null,
      "outputs": [
        {
          "output_type": "execute_result",
          "data": {
            "text/plain": [
              "['1609', '', 'THE SONNETS', '', 'by William Shakespeare']"
            ]
          },
          "metadata": {
            "tags": []
          },
          "execution_count": 17
        }
      ]
    },
    {
      "cell_type": "markdown",
      "metadata": {
        "id": "iQuEiCSwTFcL",
        "colab_type": "text"
      },
      "source": [
        "### Forma 3 - Leyendo datos con el sqlContext"
      ]
    },
    {
      "cell_type": "code",
      "metadata": {
        "id": "xjqckKbCSN6m",
        "colab_type": "code",
        "colab": {}
      },
      "source": [
        "sqlContext = SQLContext(sc)"
      ],
      "execution_count": null,
      "outputs": []
    },
    {
      "cell_type": "code",
      "metadata": {
        "id": "cBkiBRPxUbLe",
        "colab_type": "code",
        "colab": {}
      },
      "source": [
        "dataframe = sqlContext.read.text('s.txt')"
      ],
      "execution_count": null,
      "outputs": []
    },
    {
      "cell_type": "code",
      "metadata": {
        "id": "WogrwH_4Uo97",
        "colab_type": "code",
        "colab": {}
      },
      "source": [
        "dataframe"
      ],
      "execution_count": null,
      "outputs": []
    },
    {
      "cell_type": "code",
      "metadata": {
        "id": "yWc_JpLHUqqz",
        "colab_type": "code",
        "colab": {}
      },
      "source": [
        "rddCsv = dataframe.rdd"
      ],
      "execution_count": null,
      "outputs": []
    },
    {
      "cell_type": "code",
      "metadata": {
        "id": "YqN2PigYUv2P",
        "colab_type": "code",
        "colab": {}
      },
      "source": [
        "rddCsv"
      ],
      "execution_count": null,
      "outputs": []
    },
    {
      "cell_type": "code",
      "metadata": {
        "id": "6u4liP2TUx3P",
        "colab_type": "code",
        "colab": {}
      },
      "source": [
        "rddCsv.take(5)"
      ],
      "execution_count": null,
      "outputs": []
    },
    {
      "cell_type": "markdown",
      "metadata": {
        "id": "9cKE58VzTabI",
        "colab_type": "text"
      },
      "source": [
        "Tambien se pueden leer archivos csv, json, parquet, jdbc, etc"
      ]
    },
    {
      "cell_type": "markdown",
      "metadata": {
        "id": "tQ2zW38tNPao",
        "colab_type": "text"
      },
      "source": [
        "# 2-Acciones."
      ]
    },
    {
      "cell_type": "markdown",
      "metadata": {
        "id": "YK9_c-ZANS6q",
        "colab_type": "text"
      },
      "source": [
        "## Count"
      ]
    },
    {
      "cell_type": "markdown",
      "metadata": {
        "id": "1bQR6UgRDcF8",
        "colab_type": "text"
      },
      "source": [
        "Obtiene la cantidad de registros del RDD"
      ]
    },
    {
      "cell_type": "code",
      "metadata": {
        "id": "vL9EXNnGNYPg",
        "colab_type": "code",
        "colab": {}
      },
      "source": [
        "integersListRDD.count()"
      ],
      "execution_count": null,
      "outputs": []
    },
    {
      "cell_type": "markdown",
      "metadata": {
        "id": "-uui6n-EBjhG",
        "colab_type": "text"
      },
      "source": [
        "### Take"
      ]
    },
    {
      "cell_type": "markdown",
      "metadata": {
        "id": "kdULVg5pDg1W",
        "colab_type": "text"
      },
      "source": [
        "Obtiene los primeros n registros del RDD"
      ]
    },
    {
      "cell_type": "code",
      "metadata": {
        "id": "d-TEqf-RNbqG",
        "colab_type": "code",
        "colab": {}
      },
      "source": [
        "integersListRDD.take(5)"
      ],
      "execution_count": null,
      "outputs": []
    },
    {
      "cell_type": "markdown",
      "metadata": {
        "id": "S3KYoynwBnBf",
        "colab_type": "text"
      },
      "source": [
        "## Collect"
      ]
    },
    {
      "cell_type": "markdown",
      "metadata": {
        "id": "9tBbHaOFDk1Q",
        "colab_type": "text"
      },
      "source": [
        "Obtiene TODOS los registros del RDD. Esto es un potencial problema, ya que si los datos no son acotados va a sobrecargar el driver. Solo se debe ejecutar si de antemano conocemos que la cantidad de datos es acotada."
      ]
    },
    {
      "cell_type": "code",
      "metadata": {
        "id": "dVwrmdsQNezf",
        "colab_type": "code",
        "colab": {}
      },
      "source": [
        "integersListRDD.collect() # danger"
      ],
      "execution_count": null,
      "outputs": []
    },
    {
      "cell_type": "markdown",
      "metadata": {
        "id": "qkau0dZTBq8Z",
        "colab_type": "text"
      },
      "source": [
        "## First"
      ]
    },
    {
      "cell_type": "markdown",
      "metadata": {
        "id": "HFWwYplgD_3a",
        "colab_type": "text"
      },
      "source": [
        "Obtiene el primer registro del RDD"
      ]
    },
    {
      "cell_type": "code",
      "metadata": {
        "id": "HOYGelqqNkCC",
        "colab_type": "code",
        "colab": {}
      },
      "source": [
        "integersListRDD.first()"
      ],
      "execution_count": null,
      "outputs": []
    },
    {
      "cell_type": "markdown",
      "metadata": {
        "id": "7FwrpPTlBuhZ",
        "colab_type": "text"
      },
      "source": [
        "## TakeOrdered"
      ]
    },
    {
      "cell_type": "markdown",
      "metadata": {
        "id": "l0OucoHZEC6h",
        "colab_type": "text"
      },
      "source": [
        "Obtiene los primeros n registros en base a un orden indicado."
      ]
    },
    {
      "cell_type": "code",
      "metadata": {
        "id": "DslDO0f8NtI2",
        "colab_type": "code",
        "colab": {}
      },
      "source": [
        "integersListRDD.takeOrdered(5, key=lambda x: -x)"
      ],
      "execution_count": null,
      "outputs": []
    },
    {
      "cell_type": "markdown",
      "metadata": {
        "id": "YunCyrJBBxii",
        "colab_type": "text"
      },
      "source": [
        "## TakeSample"
      ]
    },
    {
      "cell_type": "markdown",
      "metadata": {
        "id": "sZkX85HOEJnY",
        "colab_type": "text"
      },
      "source": [
        "Obtiene una muestra de n registros con o sin reemplazo."
      ]
    },
    {
      "cell_type": "code",
      "metadata": {
        "id": "R94o47hlN-OG",
        "colab_type": "code",
        "colab": {}
      },
      "source": [
        "integersListRDD.takeSample(False, 5)"
      ],
      "execution_count": null,
      "outputs": []
    },
    {
      "cell_type": "markdown",
      "metadata": {
        "id": "gfFmi9hMB0fz",
        "colab_type": "text"
      },
      "source": [
        "## Reduce"
      ]
    },
    {
      "cell_type": "markdown",
      "metadata": {
        "id": "SZTXTiN6EQ41",
        "colab_type": "text"
      },
      "source": [
        "Obtiene un solo registro, combinando el resultado en base a una función dada."
      ]
    },
    {
      "cell_type": "markdown",
      "metadata": {
        "id": "uA5TMBcKEkrM",
        "colab_type": "text"
      },
      "source": [
        "Suma de todos los nros del RDD:"
      ]
    },
    {
      "cell_type": "code",
      "metadata": {
        "id": "w1aRuIdcOG8T",
        "colab_type": "code",
        "colab": {}
      },
      "source": [
        "integersListRDD.reduce(lambda a,b: a+b)"
      ],
      "execution_count": null,
      "outputs": []
    },
    {
      "cell_type": "markdown",
      "metadata": {
        "id": "iPldfWT_EnQW",
        "colab_type": "text"
      },
      "source": [
        "Número más grande del RDD:"
      ]
    },
    {
      "cell_type": "code",
      "metadata": {
        "id": "uoZe4PTeEZU0",
        "colab_type": "code",
        "colab": {}
      },
      "source": [
        "integersListRDD.reduce(lambda a,b: a if a > b else b)"
      ],
      "execution_count": null,
      "outputs": []
    },
    {
      "cell_type": "markdown",
      "metadata": {
        "id": "bqtSjN_4B2sY",
        "colab_type": "text"
      },
      "source": [
        "## CountByKey"
      ]
    },
    {
      "cell_type": "markdown",
      "metadata": {
        "id": "MDx7ZMX2Esdw",
        "colab_type": "text"
      },
      "source": [
        "Cuenta ocurrencias de registros para cada clave."
      ]
    },
    {
      "cell_type": "markdown",
      "metadata": {
        "id": "sIC-fAW-EziF",
        "colab_type": "text"
      },
      "source": [
        "En Spark para que un registro sea considerado con clave debe se una tupla de unicamente dos elementos. El primer elemento es la key y el segundo el valor. A su vez, la key y el valor pueden estar compuestos por tuplas."
      ]
    },
    {
      "cell_type": "markdown",
      "metadata": {
        "id": "HioGdGD8FJld",
        "colab_type": "text"
      },
      "source": [
        "Cuento cuántos nros múltiplo de 2 hay y cuántos no:"
      ]
    },
    {
      "cell_type": "code",
      "metadata": {
        "id": "iMrNtCjlOOvW",
        "colab_type": "code",
        "colab": {}
      },
      "source": [
        "integersListRDD.map(lambda x: (x % 2, 1)).countByKey()"
      ],
      "execution_count": null,
      "outputs": []
    },
    {
      "cell_type": "markdown",
      "metadata": {
        "id": "wICWjRrq9LGk",
        "colab_type": "text"
      },
      "source": [
        "# 3-Transformaciones."
      ]
    },
    {
      "cell_type": "markdown",
      "metadata": {
        "id": "htCboCCE9OxU",
        "colab_type": "text"
      },
      "source": [
        "### Map"
      ]
    },
    {
      "cell_type": "markdown",
      "metadata": {
        "id": "4Osz4fFVFZkW",
        "colab_type": "text"
      },
      "source": [
        "Transforma cada registro en base a la función dada."
      ]
    },
    {
      "cell_type": "code",
      "metadata": {
        "id": "-Amp0bYmSG-c",
        "colab_type": "code",
        "colab": {}
      },
      "source": [
        "integersListRDD.map(lambda x: x*2).take(5)"
      ],
      "execution_count": null,
      "outputs": []
    },
    {
      "cell_type": "code",
      "metadata": {
        "id": "hM5gotbf9R-W",
        "colab_type": "code",
        "colab": {}
      },
      "source": [
        "integersListRDD.map(lambda x: (x % 2, x)).take(5)"
      ],
      "execution_count": null,
      "outputs": []
    },
    {
      "cell_type": "markdown",
      "metadata": {
        "id": "UGGRoh-d9k4P",
        "colab_type": "text"
      },
      "source": [
        "## Filter"
      ]
    },
    {
      "cell_type": "markdown",
      "metadata": {
        "id": "zQfdye1DF2zO",
        "colab_type": "text"
      },
      "source": [
        "Filtra registros en base a la función dada."
      ]
    },
    {
      "cell_type": "code",
      "metadata": {
        "id": "S0l43_s89wpW",
        "colab_type": "code",
        "colab": {}
      },
      "source": [
        "integersListRDD.filter(lambda x: x % 2 == 0).take(5)"
      ],
      "execution_count": null,
      "outputs": []
    },
    {
      "cell_type": "code",
      "metadata": {
        "id": "vWEZW0D70HWU",
        "colab_type": "code",
        "colab": {}
      },
      "source": [
        "integersListRDD.filter(lambda x: x % 2 == 0).count()"
      ],
      "execution_count": null,
      "outputs": []
    },
    {
      "cell_type": "markdown",
      "metadata": {
        "id": "y0ZHNYdO-ExA",
        "colab_type": "text"
      },
      "source": [
        "## FlatMap"
      ]
    },
    {
      "cell_type": "markdown",
      "metadata": {
        "id": "NHE01zeXGGOK",
        "colab_type": "text"
      },
      "source": [
        "Similar a Map, pero cada registro puede generar 0, 1 o más registros."
      ]
    },
    {
      "cell_type": "markdown",
      "metadata": {
        "id": "mVQdUOkHGQgl",
        "colab_type": "text"
      },
      "source": [
        "Para cada registro original genero un nuevo registro con el nro, otro con el nro menos uno y otro con el registro más uno:"
      ]
    },
    {
      "cell_type": "code",
      "metadata": {
        "id": "09N_gedZ-BSu",
        "colab_type": "code",
        "colab": {}
      },
      "source": [
        "integersFlat = integersListRDD.flatMap(lambda x: [(x), (x-1), (x+1)])\n",
        "integersFlat.count()"
      ],
      "execution_count": null,
      "outputs": []
    },
    {
      "cell_type": "markdown",
      "metadata": {
        "id": "uOJAhi5O-haG",
        "colab_type": "text"
      },
      "source": [
        "## ReduceByKey"
      ]
    },
    {
      "cell_type": "markdown",
      "metadata": {
        "id": "90kFEtpmGafZ",
        "colab_type": "text"
      },
      "source": [
        "Combina los registros para una misma clave en base a una función de reduce."
      ]
    },
    {
      "cell_type": "markdown",
      "metadata": {
        "id": "FLUeA__1yVFj",
        "colab_type": "text"
      },
      "source": [
        "La función de reduce debe ser **conmutativa** y **asociativa**."
      ]
    },
    {
      "cell_type": "markdown",
      "metadata": {
        "id": "PcWSQNr7Gggz",
        "colab_type": "text"
      },
      "source": [
        "Del RDD salida del flatMap cuento cuantos registros hay para cada nro:"
      ]
    },
    {
      "cell_type": "code",
      "metadata": {
        "id": "5ak--UX3-zLm",
        "colab_type": "code",
        "colab": {}
      },
      "source": [
        "integersFlat.map(lambda x: (x, 1)).reduceByKey(lambda a,b: a+b).count()"
      ],
      "execution_count": null,
      "outputs": []
    },
    {
      "cell_type": "code",
      "metadata": {
        "id": "VbH-NuM61Dbb",
        "colab_type": "code",
        "colab": {}
      },
      "source": [
        "integersFlat.map(lambda x: (x, 1)).reduceByKey(lambda a,b: a+b).take(10)"
      ],
      "execution_count": null,
      "outputs": []
    },
    {
      "cell_type": "code",
      "metadata": {
        "id": "SwncZCGB1Ind",
        "colab_type": "code",
        "colab": {}
      },
      "source": [
        "integersFlat.map(lambda x: (x, 1)).reduceByKey(lambda a,b: a+b).reduce(lambda a,b: a if a > b else b)"
      ],
      "execution_count": null,
      "outputs": []
    },
    {
      "cell_type": "markdown",
      "metadata": {
        "id": "rXS7ZVE4_lDB",
        "colab_type": "text"
      },
      "source": [
        "## GroupByKey"
      ]
    },
    {
      "cell_type": "markdown",
      "metadata": {
        "id": "qRhtk2zFGr2g",
        "colab_type": "text"
      },
      "source": [
        "Agrupa los registros para cada clave. Es similar a reduceByKey pero con \n",
        "groupByKey se obtiene todos los registros para cada clave.\n",
        "\n",
        "Solo se debe utilizar si es necesario la información de cada registro y la cantidad de registros por clave no es demasiado grande.\n",
        "\n",
        "GroupByKey es una transformación costosa.\n",
        "\n",
        "Si se desea realizar una agregación, usar reduceByKey. Usar groupByKey para hacer una agregación esta MAL."
      ]
    },
    {
      "cell_type": "markdown",
      "metadata": {
        "id": "XM84FFQbHxcZ",
        "colab_type": "text"
      },
      "source": [
        "Necesito saber cuales son los nros múltiplos de 2 y cuales no:"
      ]
    },
    {
      "cell_type": "code",
      "metadata": {
        "id": "dXi4mcm0_kFB",
        "colab_type": "code",
        "colab": {}
      },
      "source": [
        "integersListRDD.map(lambda x: (x % 2, x)).groupByKey().map(lambda x: (x[0], list(x[1]))).collect()"
      ],
      "execution_count": null,
      "outputs": []
    },
    {
      "cell_type": "markdown",
      "metadata": {
        "id": "_URCZ87zAcSj",
        "colab_type": "text"
      },
      "source": [
        "## Distinct"
      ]
    },
    {
      "cell_type": "markdown",
      "metadata": {
        "id": "vDYgJ-WDIde5",
        "colab_type": "text"
      },
      "source": [
        "Elimina registros duplicados (todo el registro debe coincidir)"
      ]
    },
    {
      "cell_type": "markdown",
      "metadata": {
        "id": "YcLF3Se1Il4k",
        "colab_type": "text"
      },
      "source": [
        "Del RDD trás aplicar flatMap, obtengo los registros únicos:"
      ]
    },
    {
      "cell_type": "code",
      "metadata": {
        "id": "AbVHrMYgCv65",
        "colab_type": "code",
        "colab": {}
      },
      "source": [
        "integersFlat.distinct().count()\n"
      ],
      "execution_count": null,
      "outputs": []
    },
    {
      "cell_type": "markdown",
      "metadata": {
        "id": "bl2uMtBy-CxH",
        "colab_type": "text"
      },
      "source": [
        "# 4- Más ejemplos de transformaciones y acciones con los textos de Shakespeare (con uso de wordsCount)."
      ]
    },
    {
      "cell_type": "markdown",
      "metadata": {
        "id": "pSNsuSWUVzjL",
        "colab_type": "text"
      },
      "source": [
        "## Leo de a líneas"
      ]
    },
    {
      "cell_type": "code",
      "metadata": {
        "id": "XVzGjkUPJm6X",
        "colab_type": "code",
        "colab": {}
      },
      "source": [
        "lines = spark.sparkContext.textFile('s.txt')"
      ],
      "execution_count": null,
      "outputs": []
    },
    {
      "cell_type": "markdown",
      "metadata": {
        "id": "FwuDYbFQV3wk",
        "colab_type": "text"
      },
      "source": [
        "## Cantidad de líneas totales"
      ]
    },
    {
      "cell_type": "code",
      "metadata": {
        "id": "IMydwl-2JoRX",
        "colab_type": "code",
        "colab": {}
      },
      "source": [
        "lines.count()"
      ],
      "execution_count": null,
      "outputs": []
    },
    {
      "cell_type": "markdown",
      "metadata": {
        "id": "qZEeqhf_V7eM",
        "colab_type": "text"
      },
      "source": [
        "## Primeras 10 líneas"
      ]
    },
    {
      "cell_type": "code",
      "metadata": {
        "id": "RQaWh8CnJqlY",
        "colab_type": "code",
        "colab": {}
      },
      "source": [
        "lines.take(10)"
      ],
      "execution_count": null,
      "outputs": []
    },
    {
      "cell_type": "markdown",
      "metadata": {
        "id": "8vsAsbU7V_h3",
        "colab_type": "text"
      },
      "source": [
        "## Obtengo las palabras de todas las líneas (flatMap)"
      ]
    },
    {
      "cell_type": "code",
      "metadata": {
        "id": "mOOPFmCh4HBJ",
        "colab_type": "code",
        "colab": {}
      },
      "source": [
        "words = lines.flatMap(lambda x: x.split())"
      ],
      "execution_count": null,
      "outputs": []
    },
    {
      "cell_type": "code",
      "metadata": {
        "id": "DoBtYMOkJ4w2",
        "colab_type": "code",
        "colab": {}
      },
      "source": [
        "words.take(10)"
      ],
      "execution_count": null,
      "outputs": []
    },
    {
      "cell_type": "code",
      "metadata": {
        "id": "tRAZmoOzNWgE",
        "colab_type": "code",
        "colab": {}
      },
      "source": [
        "words.count()"
      ],
      "execution_count": null,
      "outputs": []
    },
    {
      "cell_type": "markdown",
      "metadata": {
        "id": "9M-FlX5DWK0d",
        "colab_type": "text"
      },
      "source": [
        "## Contando palabras (reduceByKey)"
      ]
    },
    {
      "cell_type": "code",
      "metadata": {
        "id": "ls1O6FLo-IQk",
        "colab_type": "code",
        "colab": {}
      },
      "source": [
        "wordsCount = words.map(lambda x: (x.lower(),1))"
      ],
      "execution_count": null,
      "outputs": []
    },
    {
      "cell_type": "code",
      "metadata": {
        "id": "wRgS4oUlKDBT",
        "colab_type": "code",
        "colab": {}
      },
      "source": [
        "wordsCount.take(10)"
      ],
      "execution_count": null,
      "outputs": []
    },
    {
      "cell_type": "code",
      "metadata": {
        "id": "N6aAGd8UKANh",
        "colab_type": "code",
        "colab": {}
      },
      "source": [
        "wordsCounted = wordsCount.reduceByKey(lambda x,y: x+y)"
      ],
      "execution_count": null,
      "outputs": []
    },
    {
      "cell_type": "code",
      "metadata": {
        "id": "hn_lW0hrKr2N",
        "colab_type": "code",
        "colab": {}
      },
      "source": [
        "wordsCounted.take(10)"
      ],
      "execution_count": null,
      "outputs": []
    },
    {
      "cell_type": "code",
      "metadata": {
        "id": "ahh0On2NKtj1",
        "colab_type": "code",
        "colab": {}
      },
      "source": [
        "wordsCounted.takeOrdered(10, lambda x: -x[1])"
      ],
      "execution_count": null,
      "outputs": []
    },
    {
      "cell_type": "markdown",
      "metadata": {
        "id": "QPpLRI_iW1zj",
        "colab_type": "text"
      },
      "source": [
        "### Mal uso de groupByKey"
      ]
    },
    {
      "cell_type": "code",
      "metadata": {
        "id": "j8j0f4cPW5Ct",
        "colab_type": "code",
        "colab": {}
      },
      "source": [
        "wordsCount.groupByKey().takeOrdered(10, lambda x: -1 * len(x[1]))"
      ],
      "execution_count": null,
      "outputs": []
    },
    {
      "cell_type": "code",
      "metadata": {
        "id": "uOEXpY5D5Pu0",
        "colab_type": "code",
        "colab": {}
      },
      "source": [
        "wordsCount.groupByKey().map(lambda a: (a[0], list(a[1]))).take(5)"
      ],
      "execution_count": null,
      "outputs": []
    },
    {
      "cell_type": "code",
      "metadata": {
        "id": "AR1N2D4fXpLn",
        "colab_type": "code",
        "colab": {}
      },
      "source": [
        "wordsCount.groupByKey().filter(lambda x: len(x[1]) < 5).map(lambda a: (a[0], list(a[1]))).take(5)"
      ],
      "execution_count": null,
      "outputs": []
    },
    {
      "cell_type": "markdown",
      "metadata": {
        "id": "4QDBwG7ZYVmV",
        "colab_type": "text"
      },
      "source": [
        "## Palabra más larga (reduce)"
      ]
    },
    {
      "cell_type": "code",
      "metadata": {
        "id": "H-tIGKUtYbeg",
        "colab_type": "code",
        "colab": {}
      },
      "source": [
        "words.reduce(lambda a, b: a if (len(a) > len(b)) else b)"
      ],
      "execution_count": null,
      "outputs": []
    },
    {
      "cell_type": "markdown",
      "metadata": {
        "id": "FWyAXyTfYnL2",
        "colab_type": "text"
      },
      "source": [
        "## Palabras que empiezan con a (filter)"
      ]
    },
    {
      "cell_type": "code",
      "metadata": {
        "id": "lL3AThZsYtcp",
        "colab_type": "code",
        "colab": {}
      },
      "source": [
        "wordsA = words.filter(lambda word: word.startswith('a'))"
      ],
      "execution_count": null,
      "outputs": []
    },
    {
      "cell_type": "code",
      "metadata": {
        "id": "UAeEHwp9Y1e9",
        "colab_type": "code",
        "colab": {}
      },
      "source": [
        "wordsA.count()"
      ],
      "execution_count": null,
      "outputs": []
    },
    {
      "cell_type": "code",
      "metadata": {
        "id": "oqR7v7k1Y39H",
        "colab_type": "code",
        "colab": {}
      },
      "source": [
        "wordsA.take(10)"
      ],
      "execution_count": null,
      "outputs": []
    },
    {
      "cell_type": "markdown",
      "metadata": {
        "id": "oh21OigvZBRD",
        "colab_type": "text"
      },
      "source": [
        "## Palabras únicas que empiezan con a (distinct)"
      ]
    },
    {
      "cell_type": "code",
      "metadata": {
        "id": "rI4olhzfZEkV",
        "colab_type": "code",
        "colab": {}
      },
      "source": [
        "wordsA.distinct().count()"
      ],
      "execution_count": null,
      "outputs": []
    },
    {
      "cell_type": "markdown",
      "metadata": {
        "id": "DpKemb9lZOoa",
        "colab_type": "text"
      },
      "source": [
        "## Cantidad de palabras por frecuencia de repetición ordenados (sortByKey)"
      ]
    },
    {
      "cell_type": "code",
      "metadata": {
        "id": "f7WAUcp76rvF",
        "colab_type": "code",
        "colab": {}
      },
      "source": [
        "wordsCounted.take(5)"
      ],
      "execution_count": null,
      "outputs": []
    },
    {
      "cell_type": "code",
      "metadata": {
        "id": "txZj8VR1K0MY",
        "colab_type": "code",
        "colab": {}
      },
      "source": [
        "wordsFreq = wordsCounted.map(lambda x: (x[1],1))"
      ],
      "execution_count": null,
      "outputs": []
    },
    {
      "cell_type": "code",
      "metadata": {
        "id": "88ZPvuP4LgBt",
        "colab_type": "code",
        "colab": {}
      },
      "source": [
        "wordsFreq.take(10)"
      ],
      "execution_count": null,
      "outputs": []
    },
    {
      "cell_type": "code",
      "metadata": {
        "id": "JGd12kyHZdIS",
        "colab_type": "code",
        "colab": {}
      },
      "source": [
        "wordsFreq.reduceByKey(lambda a,b: a+b).sortByKey().take(10)"
      ],
      "execution_count": null,
      "outputs": []
    },
    {
      "cell_type": "code",
      "metadata": {
        "id": "YhA9tmhZLuZF",
        "colab_type": "code",
        "colab": {}
      },
      "source": [
        "wordsFreq.reduceByKey(lambda a,b: a+b).takeOrdered(10, lambda x: -x[1])"
      ],
      "execution_count": null,
      "outputs": []
    },
    {
      "cell_type": "markdown",
      "metadata": {
        "id": "AqrkX2Jh73fR",
        "colab_type": "text"
      },
      "source": [
        "# 5-Transformaciones entre dos RDD (con uso de Joins).\n"
      ]
    },
    {
      "cell_type": "markdown",
      "metadata": {
        "id": "legQOraf7-ai",
        "colab_type": "text"
      },
      "source": [
        "## Union"
      ]
    },
    {
      "cell_type": "markdown",
      "metadata": {
        "id": "F76c0ngp8JhD",
        "colab_type": "text"
      },
      "source": [
        "Obtiene la unión entre dos RDD."
      ]
    },
    {
      "cell_type": "code",
      "metadata": {
        "id": "FMqSaDhQOA0V",
        "colab_type": "code",
        "colab": {}
      },
      "source": [
        "integersList2 = range(501,1501)\n",
        "len(integersList2)"
      ],
      "execution_count": null,
      "outputs": []
    },
    {
      "cell_type": "code",
      "metadata": {
        "id": "jDB8R4mp9SxM",
        "colab_type": "code",
        "colab": {}
      },
      "source": [
        "integersList2RDD = sc.parallelize(integersList2)"
      ],
      "execution_count": null,
      "outputs": []
    },
    {
      "cell_type": "code",
      "metadata": {
        "id": "D4jCnCS49bot",
        "colab_type": "code",
        "colab": {}
      },
      "source": [
        "integersList2RDD.count()"
      ],
      "execution_count": null,
      "outputs": []
    },
    {
      "cell_type": "code",
      "metadata": {
        "id": "jB-WFpLB9dWF",
        "colab_type": "code",
        "colab": {}
      },
      "source": [
        "integersListRDD.count()"
      ],
      "execution_count": null,
      "outputs": []
    },
    {
      "cell_type": "code",
      "metadata": {
        "id": "70C8rrq49lUI",
        "colab_type": "code",
        "colab": {}
      },
      "source": [
        "union = integersListRDD.union(integersList2RDD)"
      ],
      "execution_count": null,
      "outputs": []
    },
    {
      "cell_type": "code",
      "metadata": {
        "id": "p9lL1l6g9o8y",
        "colab_type": "code",
        "colab": {}
      },
      "source": [
        "union.take(5)"
      ],
      "execution_count": null,
      "outputs": []
    },
    {
      "cell_type": "code",
      "metadata": {
        "id": "cfwo3GW99q0L",
        "colab_type": "code",
        "colab": {}
      },
      "source": [
        "union.count()"
      ],
      "execution_count": null,
      "outputs": []
    },
    {
      "cell_type": "markdown",
      "metadata": {
        "id": "zJ18HxVP9uSW",
        "colab_type": "text"
      },
      "source": [
        "## Intersection"
      ]
    },
    {
      "cell_type": "markdown",
      "metadata": {
        "id": "p6bSa4ml93CA",
        "colab_type": "text"
      },
      "source": [
        "Intersección entre dos RDD."
      ]
    },
    {
      "cell_type": "code",
      "metadata": {
        "id": "ZJO8WJ1D9sEE",
        "colab_type": "code",
        "colab": {}
      },
      "source": [
        "intersection = integersListRDD.intersection(integersList2RDD)"
      ],
      "execution_count": null,
      "outputs": []
    },
    {
      "cell_type": "code",
      "metadata": {
        "id": "oQ2IVU3T9-cC",
        "colab_type": "code",
        "colab": {}
      },
      "source": [
        "intersection.count()"
      ],
      "execution_count": null,
      "outputs": []
    },
    {
      "cell_type": "code",
      "metadata": {
        "id": "hZheIKRNjOio",
        "colab_type": "code",
        "colab": {}
      },
      "source": [
        "intersection.take(10)"
      ],
      "execution_count": null,
      "outputs": []
    },
    {
      "cell_type": "code",
      "metadata": {
        "id": "buyC_d50jSPQ",
        "colab_type": "code",
        "colab": {}
      },
      "source": [
        "intersection.collect()"
      ],
      "execution_count": null,
      "outputs": []
    },
    {
      "cell_type": "markdown",
      "metadata": {
        "id": "28l3dlYxJzyi",
        "colab_type": "text"
      },
      "source": [
        "## Subtract"
      ]
    },
    {
      "cell_type": "markdown",
      "metadata": {
        "id": "9WbPFo35J3tE",
        "colab_type": "text"
      },
      "source": [
        "Elimina del primer RDD los registros que aparezcan en el segundo."
      ]
    },
    {
      "cell_type": "code",
      "metadata": {
        "id": "1GLXtqb9J8ev",
        "colab_type": "code",
        "colab": {}
      },
      "source": [
        "subtract = integersListRDD.subtract(integersList2RDD)"
      ],
      "execution_count": null,
      "outputs": []
    },
    {
      "cell_type": "code",
      "metadata": {
        "id": "s0zdfroiKHU8",
        "colab_type": "code",
        "colab": {}
      },
      "source": [
        "subtract.count()"
      ],
      "execution_count": null,
      "outputs": []
    },
    {
      "cell_type": "code",
      "metadata": {
        "id": "TkIvM1Tijnaz",
        "colab_type": "code",
        "colab": {}
      },
      "source": [
        "subtract.collect()"
      ],
      "execution_count": null,
      "outputs": []
    },
    {
      "cell_type": "markdown",
      "metadata": {
        "id": "NnoXBl3q-H2v",
        "colab_type": "text"
      },
      "source": [
        "## Joins"
      ]
    },
    {
      "cell_type": "markdown",
      "metadata": {
        "id": "5RYUC49k-Jx3",
        "colab_type": "text"
      },
      "source": [
        "Con los joins se combinan dos RDD en base a las claves de los registros. Junta cada registro del primer RDD con cada registro del segundo RDD que tengan la misma clave. No agrupa, sino que es de a pares de registro."
      ]
    },
    {
      "cell_type": "code",
      "metadata": {
        "id": "WiHtBvLs-ADS",
        "colab_type": "code",
        "colab": {}
      },
      "source": [
        "data_alumnos = [\n",
        "  (1,'Damian'),\n",
        "  (2,'Luis'),\n",
        "  (3,'Martin'),\n",
        "  (4,'Natalia'),\n",
        "  (5,'Joaquin')\n",
        "]\n",
        "\n",
        "alumnos = sc.parallelize(data_alumnos)"
      ],
      "execution_count": null,
      "outputs": []
    },
    {
      "cell_type": "code",
      "metadata": {
        "id": "BSEG_YQF-sgz",
        "colab_type": "code",
        "colab": {}
      },
      "source": [
        "alumnos.collect()"
      ],
      "execution_count": null,
      "outputs": []
    },
    {
      "cell_type": "code",
      "metadata": {
        "id": "UcQnmQOX-v8X",
        "colab_type": "code",
        "colab": {}
      },
      "source": [
        "data_materias_aprobadas = [\n",
        "  (1, 'Algebra'),\n",
        "  (2, 'Análisis Matemático'),\n",
        "  (200, 'Algebra'),\n",
        "  (2, 'Física')\n",
        "]\n",
        "\n",
        "materias_aprobadas = sc.parallelize(data_materias_aprobadas)"
      ],
      "execution_count": null,
      "outputs": []
    },
    {
      "cell_type": "code",
      "metadata": {
        "id": "8DMPmYzl_8HI",
        "colab_type": "code",
        "colab": {}
      },
      "source": [
        "materias_aprobadas.collect()"
      ],
      "execution_count": null,
      "outputs": []
    },
    {
      "cell_type": "markdown",
      "metadata": {
        "id": "TUC97o6nE36O",
        "colab_type": "text"
      },
      "source": [
        "### Inner Join (Join)"
      ]
    },
    {
      "cell_type": "markdown",
      "metadata": {
        "id": "fII6Z3hAE8_3",
        "colab_type": "text"
      },
      "source": [
        "Cuando se llama para sets de datos del tipo (K,V) y (K,W) devuelve un set de datos del tipo (K, (V,W)) con todos los pares de elementos para cada key. (especificamente los que hay en comun por esa clave en ambos sets de datos)"
      ]
    },
    {
      "cell_type": "code",
      "metadata": {
        "id": "flekON_1_9dH",
        "colab_type": "code",
        "colab": {}
      },
      "source": [
        "alumnos.join(materias_aprobadas).collect()"
      ],
      "execution_count": null,
      "outputs": []
    },
    {
      "cell_type": "markdown",
      "metadata": {
        "id": "5pkgFzBWFE5S",
        "colab_type": "text"
      },
      "source": [
        "### Left Outer Join"
      ]
    },
    {
      "cell_type": "markdown",
      "metadata": {
        "id": "h7Sd_L-kHLnh",
        "colab_type": "text"
      },
      "source": [
        "Cuando se llama para sets de datos del tipo (K,V) y (K,W) devuelve un set de datos del tipo (K, (V,W)) asegurandonos que todos los datos del set de datos izquierdo estaran en el resultado del join."
      ]
    },
    {
      "cell_type": "code",
      "metadata": {
        "id": "2e_wWrASFCbH",
        "colab_type": "code",
        "colab": {}
      },
      "source": [
        "alumnos.leftOuterJoin(materias_aprobadas).collect()"
      ],
      "execution_count": null,
      "outputs": []
    },
    {
      "cell_type": "markdown",
      "metadata": {
        "id": "yL1vuNozHWf2",
        "colab_type": "text"
      },
      "source": [
        "### Right Outer Join"
      ]
    },
    {
      "cell_type": "markdown",
      "metadata": {
        "id": "JJs-3temHYiM",
        "colab_type": "text"
      },
      "source": [
        "Cuando se llama para sets de datos del tipo (K,V) y (K,W) devuelve un set de datos del tipo (K, (V,W)) asegurandonos que todos los datos del set de datos derecho estaran en el resultado del join."
      ]
    },
    {
      "cell_type": "code",
      "metadata": {
        "id": "AWgbjDenHRXa",
        "colab_type": "code",
        "colab": {}
      },
      "source": [
        "alumnos.rightOuterJoin(materias_aprobadas).collect()"
      ],
      "execution_count": null,
      "outputs": []
    },
    {
      "cell_type": "markdown",
      "metadata": {
        "id": "d5dKB2iQHhZX",
        "colab_type": "text"
      },
      "source": [
        "### Outer/Full Join"
      ]
    },
    {
      "cell_type": "markdown",
      "metadata": {
        "id": "Ow57N52-HlDu",
        "colab_type": "text"
      },
      "source": [
        "\n",
        "Cuando se llama para sets de datos del tipo (K,V) y (K,W) devuelve un set de datos del tipo (K, (V,W)) asegurandonos que todos los datos de ambos set de datos estaran aunque no haya match de keys."
      ]
    },
    {
      "cell_type": "code",
      "metadata": {
        "id": "4xUS95vzHdkw",
        "colab_type": "code",
        "colab": {}
      },
      "source": [
        "alumnos.fullOuterJoin(materias_aprobadas).collect()"
      ],
      "execution_count": null,
      "outputs": []
    },
    {
      "cell_type": "markdown",
      "metadata": {
        "id": "4AieykhPHthx",
        "colab_type": "text"
      },
      "source": [
        "### Broadcast Join (map-side join)"
      ]
    },
    {
      "cell_type": "markdown",
      "metadata": {
        "id": "ULF_l_PKHvoT",
        "colab_type": "text"
      },
      "source": [
        "#### Variable Broadcast"
      ]
    },
    {
      "cell_type": "markdown",
      "metadata": {
        "id": "Rm6ouls5H2iG",
        "colab_type": "text"
      },
      "source": [
        "Una variable Broadcast nos permite mantener una variable solo lectura cacheada en cada una de las maquinas del cluster en vez de enviar esa informacion con cada una de las tareas que se envian al cluster.\n",
        "\n",
        "Esto es particularmente util cuando cuando tareas a partir de multiples etapas (stages) necesitan la misma información o cuando cachear información de forma deserializada es importante.\n",
        "\n",
        "Tener en cuenta que esto **es posible** cuando uno de los data sets o conjunto de datos **es lo suficientemente pequeño para ser broadcasteado a todos los nodos/workers del cluster**."
      ]
    },
    {
      "cell_type": "code",
      "metadata": {
        "id": "c_XZYCyZHpA9",
        "colab_type": "code",
        "colab": {}
      },
      "source": [
        "# Vamos a suponer que tenemos un RDD de productos por sus IDs identificando ventas de los mismos\n",
        "prodsList = [1,11,1,4,5,11,2,3,4,5,6,4,5,4,3,2,1,11,2,3,4,5,6,4,3,2,1,1]\n",
        "prods = sc.parallelize(prodsList,3)"
      ],
      "execution_count": null,
      "outputs": []
    },
    {
      "cell_type": "code",
      "metadata": {
        "id": "cqKNAzbUIInc",
        "colab_type": "code",
        "colab": {}
      },
      "source": [
        "# Un hash con los productos y sus nombres\n",
        "productNames = {1:'papas',\n",
        "                2:'cebollas',\n",
        "                3:'tomates',\n",
        "                4:'zanahorias',\n",
        "                5:'batatas',\n",
        "                6:'peras',\n",
        "                7:'cilantro',\n",
        "                8:'apio',\n",
        "                9:'morrones',\n",
        "                10:'manzanas',\n",
        "                11:'naranjas'}\n",
        "\n",
        "# Hacemos un broadcast de la variable\n",
        "bproductNames = sc.broadcast(productNames)"
      ],
      "execution_count": null,
      "outputs": []
    },
    {
      "cell_type": "code",
      "metadata": {
        "id": "YbtkGuPuIQVI",
        "colab_type": "code",
        "colab": {}
      },
      "source": [
        "# Buscamos los productos que se vendieron más de 4 veces\n",
        "popularProds = prods.map(lambda x:(x,1))\\\n",
        "    .reduceByKey(lambda x,y:x+y)\\\n",
        "    .filter(lambda x:x[1]>=4)\n",
        "popularProds.collect()"
      ],
      "execution_count": null,
      "outputs": []
    },
    {
      "cell_type": "markdown",
      "metadata": {
        "id": "atJ07Q64Idvx",
        "colab_type": "text"
      },
      "source": [
        "El join se realiza de forma implicita usando un map y dentro del mismo accediendo a la informacion de la variable a la que se realizo el broadcast via .value"
      ]
    },
    {
      "cell_type": "code",
      "metadata": {
        "id": "Rq0QI5QWIWNL",
        "colab_type": "code",
        "colab": {}
      },
      "source": [
        "popularProds = popularProds.map(\n",
        "    lambda x:(bproductNames.value[x[0]],x[0],x[1]))\n",
        "popularProds.collect()"
      ],
      "execution_count": null,
      "outputs": []
    },
    {
      "cell_type": "markdown",
      "metadata": {
        "id": "-saIXIYOJJwA",
        "colab_type": "text"
      },
      "source": [
        "#### Ventajas"
      ]
    },
    {
      "cell_type": "markdown",
      "metadata": {
        "id": "GemDSZwrJSXS",
        "colab_type": "text"
      },
      "source": [
        "Cuando un valor es \"broadcasteado\" al cluster, este es copiado a los nodos/workers **sólo una vez** (en vez de múltiples veces si la información fuera a enviarse en cada task). De esta forma se resuelve la consulta más rapidamente."
      ]
    },
    {
      "cell_type": "markdown",
      "metadata": {
        "id": "S5T0HkWAN-Iw",
        "colab_type": "text"
      },
      "source": [
        "# 6-Transformaciones sobre las particiones"
      ]
    },
    {
      "cell_type": "code",
      "metadata": {
        "id": "RopZZdNOJGvQ",
        "colab_type": "code",
        "colab": {}
      },
      "source": [
        "rdd = sc.parallelize(range(1,11))\n",
        "rdd.getNumPartitions()"
      ],
      "execution_count": null,
      "outputs": []
    },
    {
      "cell_type": "code",
      "metadata": {
        "id": "lnvORFhIOKqk",
        "colab_type": "code",
        "colab": {}
      },
      "source": [
        "sc.defaultParallelism"
      ],
      "execution_count": null,
      "outputs": []
    },
    {
      "cell_type": "code",
      "metadata": {
        "id": "vt6pb_QhAQOC",
        "colab_type": "code",
        "colab": {}
      },
      "source": [
        "rdd.collect()"
      ],
      "execution_count": null,
      "outputs": []
    },
    {
      "cell_type": "markdown",
      "metadata": {
        "id": "Dh3FU26O_zFD",
        "colab_type": "text"
      },
      "source": [
        ""
      ]
    },
    {
      "cell_type": "markdown",
      "metadata": {
        "id": "jjMa0g_i99y5",
        "colab_type": "text"
      },
      "source": [
        "## Glom"
      ]
    },
    {
      "cell_type": "markdown",
      "metadata": {
        "id": "cJngJqoI-Uez",
        "colab_type": "text"
      },
      "source": [
        "Junta los registros de cada partición en una lista."
      ]
    },
    {
      "cell_type": "code",
      "metadata": {
        "id": "J_ONKwAMOPgN",
        "colab_type": "code",
        "colab": {}
      },
      "source": [
        "rdd.glom().collect()"
      ],
      "execution_count": null,
      "outputs": []
    },
    {
      "cell_type": "markdown",
      "metadata": {
        "id": "JQqRRZf4-sZ3",
        "colab_type": "text"
      },
      "source": [
        "## MapPartitions"
      ]
    },
    {
      "cell_type": "markdown",
      "metadata": {
        "id": "E6eW2l3O-v_4",
        "colab_type": "text"
      },
      "source": [
        "Devuelve un nuevo RDD aplicando una función a cada partición del RDD."
      ]
    },
    {
      "cell_type": "code",
      "metadata": {
        "id": "zh8cyhDeOTUX",
        "colab_type": "code",
        "colab": {}
      },
      "source": [
        "def f(iterator): yield __builtin__.sum(iterator)\n",
        "rdd.mapPartitions(f).collect()"
      ],
      "execution_count": null,
      "outputs": []
    },
    {
      "cell_type": "markdown",
      "metadata": {
        "id": "aBW1VMB5RdOr",
        "colab_type": "text"
      },
      "source": [
        "## Repartition"
      ]
    },
    {
      "cell_type": "markdown",
      "metadata": {
        "id": "svqGE-d7RoSp",
        "colab_type": "text"
      },
      "source": [
        "Reshuffle los datos en el RDD de forma aleatoria para crear más o menos particiones y balancearlas. \n",
        "\n",
        "Hace un shuffle de todo los datos por la red."
      ]
    },
    {
      "cell_type": "code",
      "metadata": {
        "id": "6mV5EaYhScbs",
        "colab_type": "code",
        "colab": {}
      },
      "source": [
        "rdd = sc.parallelize(range(1,11), 4)\n",
        "rdd.getNumPartitions()"
      ],
      "execution_count": null,
      "outputs": []
    },
    {
      "cell_type": "code",
      "metadata": {
        "id": "DOcEeb93SpmS",
        "colab_type": "code",
        "colab": {}
      },
      "source": [
        "rdd.glom().collect()"
      ],
      "execution_count": null,
      "outputs": []
    },
    {
      "cell_type": "code",
      "metadata": {
        "id": "UIm6FX5fPYzw",
        "colab_type": "code",
        "colab": {}
      },
      "source": [
        "rdd2 = rdd.repartition(2)"
      ],
      "execution_count": null,
      "outputs": []
    },
    {
      "cell_type": "code",
      "metadata": {
        "id": "d44SVE6PSH9N",
        "colab_type": "code",
        "colab": {}
      },
      "source": [
        "rdd2.getNumPartitions()"
      ],
      "execution_count": null,
      "outputs": []
    },
    {
      "cell_type": "code",
      "metadata": {
        "id": "txLaGMBXSItl",
        "colab_type": "code",
        "colab": {}
      },
      "source": [
        "rdd2.glom().collect()"
      ],
      "execution_count": null,
      "outputs": []
    },
    {
      "cell_type": "markdown",
      "metadata": {
        "id": "YX-bJjSOTFXA",
        "colab_type": "text"
      },
      "source": [
        "Spark no hace shuffle de registros individuales sino de a bloques con un mínimo (no es un problema cuando se manejan grandes cantidades de datos)"
      ]
    },
    {
      "cell_type": "markdown",
      "metadata": {
        "id": "md7oT6F7T-N6",
        "colab_type": "text"
      },
      "source": [
        "## Coalesce"
      ]
    },
    {
      "cell_type": "markdown",
      "metadata": {
        "id": "-6nPKD5pUK6g",
        "colab_type": "text"
      },
      "source": [
        "Decrementa la cantidad de particiones del RDD.\n",
        "\n",
        "No hace shuffle por defecto, solo pasa datos de una partición a otra.\n",
        "\n",
        "No quedan balanceadas."
      ]
    },
    {
      "cell_type": "code",
      "metadata": {
        "id": "X5jxQeUUSQZJ",
        "colab_type": "code",
        "colab": {}
      },
      "source": [
        "rddCoalesce = rdd.coalesce(2)"
      ],
      "execution_count": null,
      "outputs": []
    },
    {
      "cell_type": "code",
      "metadata": {
        "id": "ijvk00kuUfs1",
        "colab_type": "code",
        "colab": {}
      },
      "source": [
        "rddCoalesce.glom().collect()"
      ],
      "execution_count": null,
      "outputs": []
    },
    {
      "cell_type": "markdown",
      "metadata": {
        "id": "VNP1bHnPVCfV",
        "colab_type": "text"
      },
      "source": [
        "## RepartitionAndSortWithinPartitions"
      ]
    },
    {
      "cell_type": "markdown",
      "metadata": {
        "id": "3i7Du_xtbrwG",
        "colab_type": "text"
      },
      "source": [
        "Reparticiona un RDD de acuerdo a un particionador y ordena los registros en base a su clave.\n",
        "\n",
        "Los registros deben tener clave.\n",
        "\n",
        "Es más eficiente que hacer un repartition y luego un sort dentro de cada partición ya que realiza el sort en el mismo paso de shuffle."
      ]
    },
    {
      "cell_type": "code",
      "metadata": {
        "id": "fMkGtQYYUjXJ",
        "colab_type": "code",
        "colab": {}
      },
      "source": [
        "rdd.map(lambda x: (x, x)).collect()"
      ],
      "execution_count": null,
      "outputs": []
    },
    {
      "cell_type": "code",
      "metadata": {
        "id": "TVPrXSV0XiUe",
        "colab_type": "code",
        "colab": {}
      },
      "source": [
        "rdd.map(lambda x: (x, x)).glom().collect()"
      ],
      "execution_count": null,
      "outputs": []
    },
    {
      "cell_type": "markdown",
      "metadata": {
        "id": "OKEX0nqDca0X",
        "colab_type": "text"
      },
      "source": [
        "### Ascending"
      ]
    },
    {
      "cell_type": "code",
      "metadata": {
        "id": "Cy7qnMGKXbBC",
        "colab_type": "code",
        "colab": {}
      },
      "source": [
        "rdd.map(lambda x: (x, x)).repartitionAndSortWithinPartitions(2).glom().collect()"
      ],
      "execution_count": null,
      "outputs": []
    },
    {
      "cell_type": "code",
      "metadata": {
        "id": "9rK68D2aX1fk",
        "colab_type": "code",
        "colab": {}
      },
      "source": [
        "rdd.map(lambda x: (x % 3, x)).repartitionAndSortWithinPartitions(2).glom().collect()"
      ],
      "execution_count": null,
      "outputs": []
    },
    {
      "cell_type": "code",
      "metadata": {
        "id": "9smRZScuYD8s",
        "colab_type": "code",
        "colab": {}
      },
      "source": [
        "rdd.map(lambda x: (x % 3, x)).repartitionAndSortWithinPartitions(2, ascending=False).glom().collect()"
      ],
      "execution_count": null,
      "outputs": []
    },
    {
      "cell_type": "markdown",
      "metadata": {
        "id": "yUyetYoZceNB",
        "colab_type": "text"
      },
      "source": [
        "### PartitionFunc"
      ]
    },
    {
      "cell_type": "code",
      "metadata": {
        "id": "-1xwWifQYT9r",
        "colab_type": "code",
        "colab": {}
      },
      "source": [
        "rdd.map(lambda x: (x * 2, x)).repartitionAndSortWithinPartitions(2).glom().collect()"
      ],
      "execution_count": null,
      "outputs": []
    },
    {
      "cell_type": "code",
      "metadata": {
        "id": "oDsh3YFLYmel",
        "colab_type": "code",
        "colab": {}
      },
      "source": [
        "rdd.map(lambda x: (x * 2, x)).repartitionAndSortWithinPartitions(2, partitionFunc=lambda x: (x % 3)).glom().collect()"
      ],
      "execution_count": null,
      "outputs": []
    },
    {
      "cell_type": "markdown",
      "metadata": {
        "id": "ynV8o0DQe-hS",
        "colab_type": "text"
      },
      "source": [
        "# 7-Persistiendo RDD (Persistencia y CACHE)."
      ]
    },
    {
      "cell_type": "markdown",
      "metadata": {
        "id": "py6LcfQ3fDHc",
        "colab_type": "text"
      },
      "source": [
        "## Cache"
      ]
    },
    {
      "cell_type": "markdown",
      "metadata": {
        "id": "sKoTPP8DfFYm",
        "colab_type": "text"
      },
      "source": [
        "Cachea un RDD intermedio que va a ser utilizado varias veces de modo de evitar tener que ejecutar todas las transformaciones cada vez."
      ]
    },
    {
      "cell_type": "code",
      "metadata": {
        "id": "7T8S272Idj6g",
        "colab_type": "code",
        "colab": {}
      },
      "source": [
        "rdd = sc.parallelize(range(1,100000))"
      ],
      "execution_count": null,
      "outputs": []
    },
    {
      "cell_type": "code",
      "metadata": {
        "id": "Nz4CC4u9d43K",
        "colab_type": "code",
        "colab": {}
      },
      "source": [
        "rddCached = rdd.map(lambda x: x*10).cache()"
      ],
      "execution_count": null,
      "outputs": []
    },
    {
      "cell_type": "code",
      "metadata": {
        "id": "CYQ74fKfeCiY",
        "colab_type": "code",
        "colab": {}
      },
      "source": [
        "rddCached.count()"
      ],
      "execution_count": null,
      "outputs": []
    },
    {
      "cell_type": "code",
      "metadata": {
        "id": "i27r47iieEHg",
        "colab_type": "code",
        "colab": {}
      },
      "source": [
        "rddCached.take(10)"
      ],
      "execution_count": null,
      "outputs": []
    },
    {
      "cell_type": "markdown",
      "metadata": {
        "id": "Q-w0puPNfe5u",
        "colab_type": "text"
      },
      "source": [
        "## SaveAsTextFile"
      ]
    },
    {
      "cell_type": "markdown",
      "metadata": {
        "id": "s0n6xyV5fiY1",
        "colab_type": "text"
      },
      "source": [
        "Guarda un RDD a disco en un archivo de texto."
      ]
    },
    {
      "cell_type": "code",
      "metadata": {
        "id": "pFBypm_3dU15",
        "colab_type": "code",
        "colab": {}
      },
      "source": [
        "rdd.saveAsTextFile('numbers.txt')"
      ],
      "execution_count": null,
      "outputs": []
    },
    {
      "cell_type": "code",
      "metadata": {
        "id": "2BB6t8lSdW_6",
        "colab_type": "code",
        "colab": {}
      },
      "source": [
        "rddN = sc.textFile('numbers.txt')"
      ],
      "execution_count": null,
      "outputs": []
    },
    {
      "cell_type": "code",
      "metadata": {
        "id": "ThBA5KkEdidg",
        "colab_type": "code",
        "colab": {}
      },
      "source": [
        "rddN.collect()"
      ],
      "execution_count": null,
      "outputs": []
    },
    {
      "cell_type": "markdown",
      "metadata": {
        "id": "98_lZqcufocO",
        "colab_type": "text"
      },
      "source": [
        "## SaveAsPickleFile"
      ]
    },
    {
      "cell_type": "markdown",
      "metadata": {
        "id": "-uoTsAuIf1hG",
        "colab_type": "text"
      },
      "source": [
        "Guarda un RDD a disco en un archivo con los datos serializados."
      ]
    },
    {
      "cell_type": "code",
      "metadata": {
        "id": "EE_YrGrEeGaq",
        "colab_type": "code",
        "colab": {}
      },
      "source": [
        "rdd.saveAsPickleFile('numbers2.file')"
      ],
      "execution_count": null,
      "outputs": []
    },
    {
      "cell_type": "code",
      "metadata": {
        "id": "Ol9nG9vdej3h",
        "colab_type": "code",
        "colab": {}
      },
      "source": [
        "rddN2 = sc.pickleFile('numbers2.file')"
      ],
      "execution_count": null,
      "outputs": []
    },
    {
      "cell_type": "code",
      "metadata": {
        "id": "nAOGcsPge2r6",
        "colab_type": "code",
        "colab": {}
      },
      "source": [
        "rddN2.take(10)"
      ],
      "execution_count": null,
      "outputs": []
    },
    {
      "cell_type": "code",
      "metadata": {
        "id": "EE5o7gcVe4HC",
        "colab_type": "code",
        "colab": {}
      },
      "source": [
        ""
      ],
      "execution_count": null,
      "outputs": []
    }
  ]
}